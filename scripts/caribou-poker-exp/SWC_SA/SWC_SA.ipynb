{
 "cells": [
  {
   "cell_type": "code",
   "execution_count": 1,
   "id": "87afef87",
   "metadata": {},
   "outputs": [],
   "source": [
    "import sys\n",
    "import os\n",
    "# setting path\n",
    "sys.path.append('/work/scripts')\n",
    "import pandas as pd\n",
    "import seaborn as sns"
   ]
  },
  {
   "cell_type": "code",
   "execution_count": 2,
   "id": "1ae23a3b",
   "metadata": {},
   "outputs": [],
   "source": [
    "import Sensitivity as sa\n",
    "import output_utils as ou"
   ]
  },
  {
   "cell_type": "code",
   "execution_count": 3,
   "id": "2302a2ee",
   "metadata": {},
   "outputs": [],
   "source": [
    "work_dir='/data/workflows/US-Prr_SWC_SA'"
   ]
  },
  {
   "cell_type": "code",
   "execution_count": 4,
   "id": "e5de066f",
   "metadata": {},
   "outputs": [],
   "source": [
    "if not os.path.isdir(work_dir):\n",
    "        os.mkdir(work_dir)"
   ]
  },
  {
   "cell_type": "code",
   "execution_count": 5,
   "id": "26c0e25b",
   "metadata": {},
   "outputs": [],
   "source": [
    "driver = sa.SensitivityDriver(opt_run_setup='--tr-yrs=121 --sp-yrs=300 --eq-yrs=1000 ')\n",
    "driver.set_work_dir(work_dir)\n",
    "driver.clean()\n",
    "driver.set_seed_path('/work/parameters')\n",
    "\n",
    "driver.design_experiment(Nsamples = 4, cmtnum = 13, params = ['hksat(m)','hksat(f)','hksat(f)','rhq10'], pftnums = [None, None, None, None])\n"
   ]
  },
  {
   "cell_type": "code",
   "execution_count": 6,
   "id": "397e9269",
   "metadata": {},
   "outputs": [
    {
     "name": "stderr",
     "output_type": "stream",
     "text": [
      "/work/scripts/Sensitivity.py:716: UserWarning: DataFrame columns are not unique, some columns will be omitted.\n",
      "  args = list(zip(self.sample_matrix.to_dict(orient='records'),\n"
     ]
    }
   ],
   "source": [
    "driver.setup_multi()"
   ]
  },
  {
   "cell_type": "code",
   "execution_count": 7,
   "id": "4c5e9f90",
   "metadata": {},
   "outputs": [
    {
     "data": {
      "text/html": [
       "<div>\n",
       "<style scoped>\n",
       "    .dataframe tbody tr th:only-of-type {\n",
       "        vertical-align: middle;\n",
       "    }\n",
       "\n",
       "    .dataframe tbody tr th {\n",
       "        vertical-align: top;\n",
       "    }\n",
       "\n",
       "    .dataframe thead th {\n",
       "        text-align: right;\n",
       "    }\n",
       "</style>\n",
       "<table border=\"1\" class=\"dataframe\">\n",
       "  <thead>\n",
       "    <tr style=\"text-align: right;\">\n",
       "      <th></th>\n",
       "      <th>hksat(m)_pftNone</th>\n",
       "      <th>hksat(f)_pftNone</th>\n",
       "      <th>hksat(f)_pftNone</th>\n",
       "      <th>rhq10_pftNone</th>\n",
       "    </tr>\n",
       "  </thead>\n",
       "  <tbody>\n",
       "    <tr>\n",
       "      <th>0</th>\n",
       "      <td>0.153920</td>\n",
       "      <td>0.171283</td>\n",
       "      <td>0.197168</td>\n",
       "      <td>1.922880</td>\n",
       "    </tr>\n",
       "    <tr>\n",
       "      <th>1</th>\n",
       "      <td>0.160707</td>\n",
       "      <td>0.194728</td>\n",
       "      <td>0.164244</td>\n",
       "      <td>2.107698</td>\n",
       "    </tr>\n",
       "    <tr>\n",
       "      <th>2</th>\n",
       "      <td>0.142691</td>\n",
       "      <td>0.164829</td>\n",
       "      <td>0.183693</td>\n",
       "      <td>2.028975</td>\n",
       "    </tr>\n",
       "    <tr>\n",
       "      <th>3</th>\n",
       "      <td>0.135809</td>\n",
       "      <td>0.184577</td>\n",
       "      <td>0.177800</td>\n",
       "      <td>1.816122</td>\n",
       "    </tr>\n",
       "  </tbody>\n",
       "</table>\n",
       "</div>"
      ],
      "text/plain": [
       "   hksat(m)_pftNone  hksat(f)_pftNone  hksat(f)_pftNone  rhq10_pftNone\n",
       "0          0.153920          0.171283          0.197168       1.922880\n",
       "1          0.160707          0.194728          0.164244       2.107698\n",
       "2          0.142691          0.164829          0.183693       2.028975\n",
       "3          0.135809          0.184577          0.177800       1.816122"
      ]
     },
     "execution_count": 7,
     "metadata": {},
     "output_type": "execute_result"
    }
   ],
   "source": [
    "driver.sample_matrix"
   ]
  },
  {
   "cell_type": "code",
   "execution_count": 8,
   "id": "ce8c5c7c",
   "metadata": {},
   "outputs": [
    {
     "name": "stdout",
     "output_type": "stream",
     "text": [
      "['/data/workflows/US-Prr_SWC_SA/sample_000000000', '/data/workflows/US-Prr_SWC_SA/sample_000000001', '/data/workflows/US-Prr_SWC_SA/sample_000000002', '/data/workflows/US-Prr_SWC_SA/sample_000000003']\n",
      "[SA:run] /work/dvmdostem --tr-yrs=121 --sp-yrs=300 --eq-yrs=1000 -l err --force-cmt 13 --ctrl-file /data/workflows/US-Prr_SWC_SA/sample_000000001/config/config.js[SA:run] /work/dvmdostem --tr-yrs=121 --sp-yrs=300 --eq-yrs=1000 -l err --force-cmt 13 --ctrl-file /data/workflows/US-Prr_SWC_SA/sample_000000000/config/config.js[SA:run] /work/dvmdostem --tr-yrs=121 --sp-yrs=300 --eq-yrs=1000 -l err --force-cmt 13 --ctrl-file /data/workflows/US-Prr_SWC_SA/sample_000000002/config/config.js[SA:run] /work/dvmdostem --tr-yrs=121 --sp-yrs=300 --eq-yrs=1000 -l err --force-cmt 13 --ctrl-file /data/workflows/US-Prr_SWC_SA/sample_000000003/config/config.js\n",
      "\n",
      "\n",
      "\n"
     ]
    },
    {
     "ename": "KeyboardInterrupt",
     "evalue": "",
     "output_type": "error",
     "traceback": [
      "\u001b[0;31m---------------------------------------------------------------------------\u001b[0m",
      "\u001b[0;31mKeyboardInterrupt\u001b[0m                         Traceback (most recent call last)",
      "Input \u001b[0;32mIn [8]\u001b[0m, in \u001b[0;36m<cell line: 1>\u001b[0;34m()\u001b[0m\n\u001b[0;32m----> 1\u001b[0m \u001b[43mdriver\u001b[49m\u001b[38;5;241;43m.\u001b[39;49m\u001b[43mrun_all_samples\u001b[49m\u001b[43m(\u001b[49m\u001b[43m)\u001b[49m\n",
      "File \u001b[0;32m/work/scripts/Sensitivity.py:770\u001b[0m, in \u001b[0;36mSensitivityDriver.run_all_samples\u001b[0;34m(self)\u001b[0m\n\u001b[1;32m    768\u001b[0m \u001b[38;5;28mprint\u001b[39m(folders)\n\u001b[1;32m    769\u001b[0m \u001b[38;5;28;01mwith\u001b[39;00m multiprocessing\u001b[38;5;241m.\u001b[39mPool(processes\u001b[38;5;241m=\u001b[39m(os\u001b[38;5;241m.\u001b[39mcpu_count()\u001b[38;5;241m-\u001b[39m\u001b[38;5;241m1\u001b[39m)) \u001b[38;5;28;01mas\u001b[39;00m pool:\n\u001b[0;32m--> 770\u001b[0m   results \u001b[38;5;241m=\u001b[39m \u001b[43mpool\u001b[49m\u001b[38;5;241;43m.\u001b[39;49m\u001b[43mmap\u001b[49m\u001b[43m(\u001b[49m\u001b[38;5;28;43mself\u001b[39;49m\u001b[38;5;241;43m.\u001b[39;49m\u001b[43mrun_model\u001b[49m\u001b[43m,\u001b[49m\u001b[43m \u001b[49m\u001b[43mfolders\u001b[49m\u001b[43m)\u001b[49m\n\u001b[1;32m    771\u001b[0m \u001b[38;5;28mprint\u001b[39m()\n",
      "File \u001b[0;32m~/.pyenv/versions/3.8.6/lib/python3.8/multiprocessing/pool.py:364\u001b[0m, in \u001b[0;36mPool.map\u001b[0;34m(self, func, iterable, chunksize)\u001b[0m\n\u001b[1;32m    359\u001b[0m \u001b[38;5;28;01mdef\u001b[39;00m \u001b[38;5;21mmap\u001b[39m(\u001b[38;5;28mself\u001b[39m, func, iterable, chunksize\u001b[38;5;241m=\u001b[39m\u001b[38;5;28;01mNone\u001b[39;00m):\n\u001b[1;32m    360\u001b[0m     \u001b[38;5;124;03m'''\u001b[39;00m\n\u001b[1;32m    361\u001b[0m \u001b[38;5;124;03m    Apply `func` to each element in `iterable`, collecting the results\u001b[39;00m\n\u001b[1;32m    362\u001b[0m \u001b[38;5;124;03m    in a list that is returned.\u001b[39;00m\n\u001b[1;32m    363\u001b[0m \u001b[38;5;124;03m    '''\u001b[39;00m\n\u001b[0;32m--> 364\u001b[0m     \u001b[38;5;28;01mreturn\u001b[39;00m \u001b[38;5;28;43mself\u001b[39;49m\u001b[38;5;241;43m.\u001b[39;49m\u001b[43m_map_async\u001b[49m\u001b[43m(\u001b[49m\u001b[43mfunc\u001b[49m\u001b[43m,\u001b[49m\u001b[43m \u001b[49m\u001b[43miterable\u001b[49m\u001b[43m,\u001b[49m\u001b[43m \u001b[49m\u001b[43mmapstar\u001b[49m\u001b[43m,\u001b[49m\u001b[43m \u001b[49m\u001b[43mchunksize\u001b[49m\u001b[43m)\u001b[49m\u001b[38;5;241;43m.\u001b[39;49m\u001b[43mget\u001b[49m\u001b[43m(\u001b[49m\u001b[43m)\u001b[49m\n",
      "File \u001b[0;32m~/.pyenv/versions/3.8.6/lib/python3.8/multiprocessing/pool.py:765\u001b[0m, in \u001b[0;36mApplyResult.get\u001b[0;34m(self, timeout)\u001b[0m\n\u001b[1;32m    764\u001b[0m \u001b[38;5;28;01mdef\u001b[39;00m \u001b[38;5;21mget\u001b[39m(\u001b[38;5;28mself\u001b[39m, timeout\u001b[38;5;241m=\u001b[39m\u001b[38;5;28;01mNone\u001b[39;00m):\n\u001b[0;32m--> 765\u001b[0m     \u001b[38;5;28;43mself\u001b[39;49m\u001b[38;5;241;43m.\u001b[39;49m\u001b[43mwait\u001b[49m\u001b[43m(\u001b[49m\u001b[43mtimeout\u001b[49m\u001b[43m)\u001b[49m\n\u001b[1;32m    766\u001b[0m     \u001b[38;5;28;01mif\u001b[39;00m \u001b[38;5;129;01mnot\u001b[39;00m \u001b[38;5;28mself\u001b[39m\u001b[38;5;241m.\u001b[39mready():\n\u001b[1;32m    767\u001b[0m         \u001b[38;5;28;01mraise\u001b[39;00m \u001b[38;5;167;01mTimeoutError\u001b[39;00m\n",
      "File \u001b[0;32m~/.pyenv/versions/3.8.6/lib/python3.8/multiprocessing/pool.py:762\u001b[0m, in \u001b[0;36mApplyResult.wait\u001b[0;34m(self, timeout)\u001b[0m\n\u001b[1;32m    761\u001b[0m \u001b[38;5;28;01mdef\u001b[39;00m \u001b[38;5;21mwait\u001b[39m(\u001b[38;5;28mself\u001b[39m, timeout\u001b[38;5;241m=\u001b[39m\u001b[38;5;28;01mNone\u001b[39;00m):\n\u001b[0;32m--> 762\u001b[0m     \u001b[38;5;28;43mself\u001b[39;49m\u001b[38;5;241;43m.\u001b[39;49m\u001b[43m_event\u001b[49m\u001b[38;5;241;43m.\u001b[39;49m\u001b[43mwait\u001b[49m\u001b[43m(\u001b[49m\u001b[43mtimeout\u001b[49m\u001b[43m)\u001b[49m\n",
      "File \u001b[0;32m~/.pyenv/versions/3.8.6/lib/python3.8/threading.py:558\u001b[0m, in \u001b[0;36mEvent.wait\u001b[0;34m(self, timeout)\u001b[0m\n\u001b[1;32m    556\u001b[0m signaled \u001b[38;5;241m=\u001b[39m \u001b[38;5;28mself\u001b[39m\u001b[38;5;241m.\u001b[39m_flag\n\u001b[1;32m    557\u001b[0m \u001b[38;5;28;01mif\u001b[39;00m \u001b[38;5;129;01mnot\u001b[39;00m signaled:\n\u001b[0;32m--> 558\u001b[0m     signaled \u001b[38;5;241m=\u001b[39m \u001b[38;5;28;43mself\u001b[39;49m\u001b[38;5;241;43m.\u001b[39;49m\u001b[43m_cond\u001b[49m\u001b[38;5;241;43m.\u001b[39;49m\u001b[43mwait\u001b[49m\u001b[43m(\u001b[49m\u001b[43mtimeout\u001b[49m\u001b[43m)\u001b[49m\n\u001b[1;32m    559\u001b[0m \u001b[38;5;28;01mreturn\u001b[39;00m signaled\n",
      "File \u001b[0;32m~/.pyenv/versions/3.8.6/lib/python3.8/threading.py:302\u001b[0m, in \u001b[0;36mCondition.wait\u001b[0;34m(self, timeout)\u001b[0m\n\u001b[1;32m    300\u001b[0m \u001b[38;5;28;01mtry\u001b[39;00m:    \u001b[38;5;66;03m# restore state no matter what (e.g., KeyboardInterrupt)\u001b[39;00m\n\u001b[1;32m    301\u001b[0m     \u001b[38;5;28;01mif\u001b[39;00m timeout \u001b[38;5;129;01mis\u001b[39;00m \u001b[38;5;28;01mNone\u001b[39;00m:\n\u001b[0;32m--> 302\u001b[0m         \u001b[43mwaiter\u001b[49m\u001b[38;5;241;43m.\u001b[39;49m\u001b[43macquire\u001b[49m\u001b[43m(\u001b[49m\u001b[43m)\u001b[49m\n\u001b[1;32m    303\u001b[0m         gotit \u001b[38;5;241m=\u001b[39m \u001b[38;5;28;01mTrue\u001b[39;00m\n\u001b[1;32m    304\u001b[0m     \u001b[38;5;28;01melse\u001b[39;00m:\n",
      "\u001b[0;31mKeyboardInterrupt\u001b[0m: "
     ]
    }
   ],
   "source": [
    "driver.run_all_samples()"
   ]
  },
  {
   "cell_type": "code",
   "execution_count": null,
   "id": "33db8a18",
   "metadata": {},
   "outputs": [],
   "source": [
    "driver.plot_sensitivity_matrix()"
   ]
  },
  {
   "cell_type": "code",
   "execution_count": null,
   "id": "dd34f87b",
   "metadata": {},
   "outputs": [],
   "source": [
    "print(LWCLAYER)"
   ]
  },
  {
   "cell_type": "code",
   "execution_count": null,
   "id": "9a6912d8",
   "metadata": {},
   "outputs": [],
   "source": [
    "def seasonal_profile(VAR, depth, thickness, time_range, months, z):\n",
    "    LWCLAYER"
   ]
  },
  {
   "cell_type": "code",
   "execution_count": null,
   "id": "9bbbfcdc",
   "metadata": {},
   "outputs": [],
   "source": [
    "def seasonal_profile(VAR, depth, thickness, time_range, months, z):\n",
    "    '''\n",
    "    VAR : variable dataframe (i.e. TLAYER - temperature by layer)\n",
    "    depth : associated LAYERDEPTH dataframe\n",
    "    thickness : associated LAYERDZ dataframe\n",
    "    time_range : time period to be calculated over -  e.g. ['2011-01-01','2021-01-01']\n",
    "    months : list of strings - months included in calculation - ['Jan', 'Feb', 'Dec'] (e.g winter season)\n",
    "    z : array for depth required for interpolation to the same depth profile \n",
    "         (typically, np.linspace(min(depth), max(depth), resolution)\n",
    "    '''\n",
    "    month_range = ['Jan', 'Feb', 'Mar', 'Apr', 'May', 'Jun', 'Jul', 'Aug', 'Sep', 'Oct', 'Nov', 'Dec']\n",
    "\n",
    "    startyr, endyr = time_range[0], time_range[1]\n",
    "\n",
    "    #Limiting by time range    \n",
    "    range_series = VAR[startyr:endyr]\n",
    "    LD = depth[startyr:endyr]\n",
    "    LZ = thickness[startyr:endyr]\n",
    "\n",
    "    #Averaging by layer for months in month_range\n",
    "    range_series = range_series[range_series.index.month.isin([i+1 for i, e in enumerate(month_range) if e in months])]\n",
    "    LD = (LD[LD.index.month.isin([i+1 for i, e in enumerate(month_range) if e in months])]).mean()\n",
    "    LZ = (LZ[LZ.index.month.isin([i+1 for i, e in enumerate(month_range) if e in months])]).mean()\n",
    "\n",
    "    #Creating lists for interpolation\n",
    "    mean = range_series.mean().values.tolist()    \n",
    "    maxi = range_series.max().values.tolist()\n",
    "    mini = range_series.min().values.tolist()\n",
    "    std =  range_series.std().values.tolist()\n",
    "\n",
    "    #Creating list with z position at the center of each layer\n",
    "    print(LD)\n",
    "    print(LZ)\n",
    "    zp = (LD + LZ/2).values.tolist()\n",
    "    print(zp)\n",
    "    print(z)\n",
    "    print(mean)\n",
    "    \n",
    "    #Indexes of depths with fill values\n",
    "    indexes = [i for i,v in enumerate(zp) if v < 0]\n",
    "\n",
    "    #Removing indexes with fill values\n",
    "    for index in sorted(indexes, reverse=True):\n",
    "        del zp[index]\n",
    "        del mean[index]\n",
    "        del mini[index]\n",
    "        del maxi[index]\n",
    "        del std[index]\n",
    "\n",
    "    #Interpolating seasonal mean, min, max, and standard deviation\n",
    "    interp_mean=np.interp(z,zp,mean)\n",
    "    interp_mini=np.interp(z,zp,mini)\n",
    "    interp_maxi=np.interp(z,zp,maxi)\n",
    "    interp_std=np.interp(z,zp,std)\n",
    "    \n",
    "    return z, interp_mean, interp_std, interp_mini, interp_maxi"
   ]
  },
  {
   "cell_type": "code",
   "execution_count": null,
   "id": "1855b46a",
   "metadata": {},
   "outputs": [],
   "source": [
    "ou.load_trsc_dataframe"
   ]
  },
  {
   "cell_type": "code",
   "execution_count": null,
   "id": "b573eda3",
   "metadata": {},
   "outputs": [],
   "source": [
    "LWCLAYER = ou.load_trsc_dataframe(var ='LWCLAYER', timeres='monthly', px_y=0, px_x=1, fileprefix='/data/workflows/US-Prr_SWC_SA/sample_000000000/output/')[0]\n",
    "TLAYER = ou.load_trsc_dataframe(var ='TLAYER', timeres='monthly', px_y=0, px_x=1, fileprefix='/data/workflows/US-Prr_SWC_SA/sample_000000000/output/')[0]\n",
    "LAYERDEPTH = ou.load_trsc_dataframe(var ='LAYERDEPTH', timeres='monthly', px_y=0, px_x=1, fileprefix='/data/workflows/US-Prr_SWC_SA/sample_000000000/output/')[0]\n",
    "LAYERDZ = ou.load_trsc_dataframe(var ='LAYERDZ', timeres='monthly', px_y=0, px_x=1, fileprefix='/data/workflows/US-Prr_SWC_SA/sample_000000000/output/')[0]"
   ]
  },
  {
   "cell_type": "code",
   "execution_count": null,
   "id": "6588369f",
   "metadata": {},
   "outputs": [],
   "source": [
    "LAYERTYPE = ou.load_trsc_dataframe(var ='LAYERTYPE', timeres='monthly', px_y=0, px_x=1, fileprefix='/data/workflows/US-Prr_SWC_SA/sample_000000000/output/')[0]"
   ]
  },
  {
   "cell_type": "code",
   "execution_count": null,
   "id": "4f8c2a55",
   "metadata": {},
   "outputs": [],
   "source": [
    "pf_obs_path = '/data/comparison_data/US-Prr-monthly.csv'\n",
    "pf_obs= pd.read_csv(pf_obs_path, parse_dates=['m_y'])\n",
    "pf_obs['Month'] = pf_obs['m_y'].dt.month\n",
    "pf_obs = pf_obs.set_index('m_y')\n",
    "swc = pf_obs[['SWC_1_1_1', 'SWC_1_2_1', 'SWC_1_3_1', 'SWC_1_4_1', 'SWC_1_5_1']]/100\n",
    "#swc['Month'] = pf_obs['Month']\n",
    "swc_depths = pd.DataFrame({'SWC_1_1_1':[0.05]*len(pf_obs), 'SWC_1_2_1':[0.1]*len(pf_obs), 'SWC_1_3_1':[0.2]*len(pf_obs),\n",
    "                          'SWC_1_4_1':[0.3]*len(pf_obs), 'SWC_1_5_1':[0.4]*len(pf_obs)})\n",
    "swc_depths = swc_depths.set_index(swc.index)\n",
    "swc_thickness = pd.DataFrame({'SWC_1_1_1':[0.75]*len(pf_obs), 'SWC_1_2_1':[0.75]*len(pf_obs), 'SWC_1_3_1':[0.1]*len(pf_obs),\n",
    "                          'SWC_1_4_1':[0.1]*len(pf_obs), 'SWC_1_5_1':[0.1]*len(pf_obs)})\n",
    "swc_thickness = swc_thickness.set_index(swc.index)"
   ]
  },
  {
   "cell_type": "code",
   "execution_count": null,
   "id": "24f49bcc",
   "metadata": {},
   "outputs": [],
   "source": [
    "LAYERDZ"
   ]
  },
  {
   "cell_type": "code",
   "execution_count": null,
   "id": "cb11d8bb",
   "metadata": {},
   "outputs": [],
   "source": [
    "swc"
   ]
  },
  {
   "cell_type": "code",
   "execution_count": null,
   "id": "09123d17",
   "metadata": {},
   "outputs": [],
   "source": [
    "import matplotlib.pyplot as plt\n",
    "import numpy as np\n",
    "\n",
    "fig, ax = plt.subplots()\n",
    "\n",
    "z, mean, std, mn, mx = seasonal_profile(\n",
    "                                        TLAYER, LAYERDEPTH, LAYERDZ, ['1901-01-01', '1902-12-01'], \n",
    "                                        ['Jan','Feb','Mar','Apr','May','Jun','Jul','Aug','Sep','Oct','Nov','Dec'],\n",
    "                                        np.linspace(min(LAYERDEPTH), max(LAYERDEPTH), 100)\n",
    "                                        )\n",
    "\n",
    "\n",
    "ax.plot(mean, z, label=\"annual mean\")\n",
    "ax.fill_betweenx(z, mn, mx, alpha=0.2, label=\"annual range\")\n",
    "ax.plot(np.zeros(len(z)), z, 'k--', alpha=0.5) #Zero degree line\n",
    "\n",
    "plt.legend(loc=\"lower right\", fontsize=12)\n",
    "\n",
    "ax.xaxis.tick_top()\n",
    "ax.set_xlabel(f\"Temperature [$^\\circ$C]\", fontsize=14)\n",
    "ax.xaxis.set_label_position('top') \n",
    "\n",
    "ax.set_ylabel(f\"Depth [m]\", fontsize=14)\n",
    "plt.ylim(0,1)\n",
    "ax.invert_yaxis()\n",
    "\n",
    "plt.show()"
   ]
  },
  {
   "cell_type": "code",
   "execution_count": null,
   "id": "28dc5ca0",
   "metadata": {},
   "outputs": [],
   "source": [
    "import matplotlib.pyplot as plt\n",
    "import numpy as np\n",
    "\n",
    "fig, ax = plt.subplots()\n",
    "\n",
    "z, mean, std, mn, mx = seasonal_profile(\n",
    "                                        LWCLAYER, LAYERDEPTH, LAYERDZ, ['2010-01-01', '2021-12-01'], \n",
    "                                        ['Jan','Feb','Mar','Apr','May','Jun','Jul','Aug','Sep','Oct','Nov','Dec'],\n",
    "                                        np.linspace(min(LAYERDEPTH), max(LAYERDEPTH), 100)\n",
    "                                        )\n",
    "\n",
    "\n",
    "ax.plot(mean, z, label=\"annual mean\")\n",
    "ax.fill_betweenx(z, mn, mx, alpha=0.2, label=\"annual range\")\n",
    "ax.plot(np.zeros(len(z)), z, 'k--', alpha=0.5) #Zero degree line\n",
    "\n",
    "plt.legend(loc=\"lower right\", fontsize=12)\n",
    "\n",
    "ax.xaxis.tick_top()\n",
    "ax.set_xlabel(f\"Temperature [$^\\circ$C]\", fontsize=14)\n",
    "ax.xaxis.set_label_position('top') \n",
    "\n",
    "ax.set_ylabel(f\"Depth [m]\", fontsize=14)\n",
    "plt.ylim(0,1)\n",
    "ax.invert_yaxis()\n",
    "\n",
    "\n",
    "plt.show()"
   ]
  },
  {
   "cell_type": "code",
   "execution_count": null,
   "id": "59ecc671",
   "metadata": {},
   "outputs": [],
   "source": [
    "import matplotlib.pyplot as plt\n",
    "import numpy as np\n",
    "\n",
    "fig, ax = plt.subplots()\n",
    "\n",
    "z, mean, std, mn, mx = seasonal_profile(\n",
    "                                        swc, swc_depths, swc_thickness, ['2010-01-01', '2021-12-01'], \n",
    "                                        ['Jan','Feb','Mar','Apr','May','Jun','Jul','Aug','Sep','Oct','Nov','Dec'],\n",
    "                                        np.linspace(np.nanmin(swc_depths), np.nanmax(swc_depths), 100)\n",
    "                                        )\n",
    "\n",
    "\n",
    "ax.plot(mean, z, label=\"annual mean\")\n",
    "#ax.fill_betweenx(z, mn, mx, alpha=0.2, label=\"annual range\")\n",
    "ax.plot(np.zeros(len(z)), z, 'k--', alpha=0.5) #Zero degree line\n",
    "\n",
    "plt.legend(loc=\"lower right\", fontsize=12)\n",
    "\n",
    "ax.xaxis.tick_top()\n",
    "ax.set_xlabel(f\"Temperature [$^\\circ$C]\", fontsize=14)\n",
    "ax.xaxis.set_label_position('top') \n",
    "\n",
    "ax.set_ylabel(f\"Depth [m]\", fontsize=14)\n",
    "plt.ylim(0,1)\n",
    "ax.invert_yaxis()\n",
    "\n",
    "\n",
    "plt.show()"
   ]
  },
  {
   "cell_type": "code",
   "execution_count": null,
   "id": "c592eb88",
   "metadata": {},
   "outputs": [],
   "source": [
    "print(mean)"
   ]
  },
  {
   "cell_type": "code",
   "execution_count": null,
   "id": "dc3035ef",
   "metadata": {},
   "outputs": [],
   "source": [
    "len(swc_groupby)"
   ]
  },
  {
   "cell_type": "code",
   "execution_count": null,
   "id": "969d896c",
   "metadata": {},
   "outputs": [],
   "source": [
    "swc_groupby['depth'] = [-.5, -.1, -.2, -.3, -.4]"
   ]
  },
  {
   "cell_type": "code",
   "execution_count": null,
   "id": "0fc95488",
   "metadata": {},
   "outputs": [],
   "source": [
    "sns.lineplot(data=swc_groupby, x='1', y='depth')"
   ]
  },
  {
   "cell_type": "code",
   "execution_count": null,
   "id": "b59ff1af",
   "metadata": {},
   "outputs": [],
   "source": []
  }
 ],
 "metadata": {
  "kernelspec": {
   "display_name": "Python 3 (ipykernel)",
   "language": "python",
   "name": "python3"
  },
  "language_info": {
   "codemirror_mode": {
    "name": "ipython",
    "version": 3
   },
   "file_extension": ".py",
   "mimetype": "text/x-python",
   "name": "python",
   "nbconvert_exporter": "python",
   "pygments_lexer": "ipython3",
   "version": "3.8.6"
  }
 },
 "nbformat": 4,
 "nbformat_minor": 5
}
