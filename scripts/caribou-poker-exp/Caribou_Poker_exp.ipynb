{
 "cells": [
  {
   "cell_type": "code",
   "execution_count": 1,
   "id": "3364a03e",
   "metadata": {
    "scrolled": true
   },
   "outputs": [
    {
     "ename": "KeyboardInterrupt",
     "evalue": "",
     "output_type": "error",
     "traceback": [
      "\u001b[0;31m---------------------------------------------------------------------------\u001b[0m",
      "\u001b[0;31mKeyboardInterrupt\u001b[0m                         Traceback (most recent call last)",
      "Input \u001b[0;32mIn [1]\u001b[0m, in \u001b[0;36m<cell line: 7>\u001b[0;34m()\u001b[0m\n\u001b[1;32m      5\u001b[0m \u001b[38;5;28;01mimport\u001b[39;00m \u001b[38;5;21;01mjson\u001b[39;00m\n\u001b[1;32m      6\u001b[0m \u001b[38;5;28;01mimport\u001b[39;00m \u001b[38;5;21;01mpandas\u001b[39;00m \u001b[38;5;28;01mas\u001b[39;00m \u001b[38;5;21;01mpd\u001b[39;00m\n\u001b[0;32m----> 7\u001b[0m \u001b[38;5;28;01mimport\u001b[39;00m \u001b[38;5;21;01mseaborn\u001b[39;00m \u001b[38;5;28;01mas\u001b[39;00m \u001b[38;5;21;01msns\u001b[39;00m\n",
      "File \u001b[0;32m~/.pyenv/versions/3.8.6/lib/python3.8/site-packages/seaborn/__init__.py:5\u001b[0m, in \u001b[0;36m<module>\u001b[0;34m\u001b[0m\n\u001b[1;32m      3\u001b[0m \u001b[38;5;28;01mfrom\u001b[39;00m \u001b[38;5;21;01m.\u001b[39;00m\u001b[38;5;21;01mutils\u001b[39;00m \u001b[38;5;28;01mimport\u001b[39;00m \u001b[38;5;241m*\u001b[39m  \u001b[38;5;66;03m# noqa: F401,F403\u001b[39;00m\n\u001b[1;32m      4\u001b[0m \u001b[38;5;28;01mfrom\u001b[39;00m \u001b[38;5;21;01m.\u001b[39;00m\u001b[38;5;21;01mpalettes\u001b[39;00m \u001b[38;5;28;01mimport\u001b[39;00m \u001b[38;5;241m*\u001b[39m  \u001b[38;5;66;03m# noqa: F401,F403\u001b[39;00m\n\u001b[0;32m----> 5\u001b[0m \u001b[38;5;28;01mfrom\u001b[39;00m \u001b[38;5;21;01m.\u001b[39;00m\u001b[38;5;21;01mrelational\u001b[39;00m \u001b[38;5;28;01mimport\u001b[39;00m \u001b[38;5;241m*\u001b[39m  \u001b[38;5;66;03m# noqa: F401,F403\u001b[39;00m\n\u001b[1;32m      6\u001b[0m \u001b[38;5;28;01mfrom\u001b[39;00m \u001b[38;5;21;01m.\u001b[39;00m\u001b[38;5;21;01mregression\u001b[39;00m \u001b[38;5;28;01mimport\u001b[39;00m \u001b[38;5;241m*\u001b[39m  \u001b[38;5;66;03m# noqa: F401,F403\u001b[39;00m\n\u001b[1;32m      7\u001b[0m \u001b[38;5;28;01mfrom\u001b[39;00m \u001b[38;5;21;01m.\u001b[39;00m\u001b[38;5;21;01mcategorical\u001b[39;00m \u001b[38;5;28;01mimport\u001b[39;00m \u001b[38;5;241m*\u001b[39m  \u001b[38;5;66;03m# noqa: F401,F403\u001b[39;00m\n",
      "File \u001b[0;32m~/.pyenv/versions/3.8.6/lib/python3.8/site-packages/seaborn/relational.py:17\u001b[0m, in \u001b[0;36m<module>\u001b[0;34m\u001b[0m\n\u001b[1;32m      8\u001b[0m \u001b[38;5;28;01mfrom\u001b[39;00m \u001b[38;5;21;01m.\u001b[39;00m\u001b[38;5;21;01m_oldcore\u001b[39;00m \u001b[38;5;28;01mimport\u001b[39;00m (\n\u001b[1;32m      9\u001b[0m     VectorPlotter,\n\u001b[1;32m     10\u001b[0m )\n\u001b[1;32m     11\u001b[0m \u001b[38;5;28;01mfrom\u001b[39;00m \u001b[38;5;21;01m.\u001b[39;00m\u001b[38;5;21;01mutils\u001b[39;00m \u001b[38;5;28;01mimport\u001b[39;00m (\n\u001b[1;32m     12\u001b[0m     locator_to_legend_entries,\n\u001b[1;32m     13\u001b[0m     adjust_legend_subtitles,\n\u001b[1;32m     14\u001b[0m     _default_color,\n\u001b[1;32m     15\u001b[0m     _deprecate_ci,\n\u001b[1;32m     16\u001b[0m )\n\u001b[0;32m---> 17\u001b[0m \u001b[38;5;28;01mfrom\u001b[39;00m \u001b[38;5;21;01m.\u001b[39;00m\u001b[38;5;21;01m_statistics\u001b[39;00m \u001b[38;5;28;01mimport\u001b[39;00m EstimateAggregator\n\u001b[1;32m     18\u001b[0m \u001b[38;5;28;01mfrom\u001b[39;00m \u001b[38;5;21;01m.\u001b[39;00m\u001b[38;5;21;01maxisgrid\u001b[39;00m \u001b[38;5;28;01mimport\u001b[39;00m FacetGrid, _facet_docs\n\u001b[1;32m     19\u001b[0m \u001b[38;5;28;01mfrom\u001b[39;00m \u001b[38;5;21;01m.\u001b[39;00m\u001b[38;5;21;01m_docstrings\u001b[39;00m \u001b[38;5;28;01mimport\u001b[39;00m DocstringComponents, _core_docs\n",
      "File \u001b[0;32m~/.pyenv/versions/3.8.6/lib/python3.8/site-packages/seaborn/_statistics.py:31\u001b[0m, in \u001b[0;36m<module>\u001b[0;34m\u001b[0m\n\u001b[1;32m     29\u001b[0m \u001b[38;5;28;01mimport\u001b[39;00m \u001b[38;5;21;01mpandas\u001b[39;00m \u001b[38;5;28;01mas\u001b[39;00m \u001b[38;5;21;01mpd\u001b[39;00m\n\u001b[1;32m     30\u001b[0m \u001b[38;5;28;01mtry\u001b[39;00m:\n\u001b[0;32m---> 31\u001b[0m     \u001b[38;5;28;01mfrom\u001b[39;00m \u001b[38;5;21;01mscipy\u001b[39;00m\u001b[38;5;21;01m.\u001b[39;00m\u001b[38;5;21;01mstats\u001b[39;00m \u001b[38;5;28;01mimport\u001b[39;00m gaussian_kde\n\u001b[1;32m     32\u001b[0m     _no_scipy \u001b[38;5;241m=\u001b[39m \u001b[38;5;28;01mFalse\u001b[39;00m\n\u001b[1;32m     33\u001b[0m \u001b[38;5;28;01mexcept\u001b[39;00m \u001b[38;5;167;01mImportError\u001b[39;00m:\n",
      "File \u001b[0;32m~/.pyenv/versions/3.8.6/lib/python3.8/site-packages/scipy/stats/__init__.py:467\u001b[0m, in \u001b[0;36m<module>\u001b[0;34m\u001b[0m\n\u001b[1;32m      1\u001b[0m \u001b[38;5;124;03m\"\"\"\u001b[39;00m\n\u001b[1;32m      2\u001b[0m \u001b[38;5;124;03m.. _statsrefmanual:\u001b[39;00m\n\u001b[1;32m      3\u001b[0m \n\u001b[0;32m   (...)\u001b[0m\n\u001b[1;32m    462\u001b[0m \n\u001b[1;32m    463\u001b[0m \u001b[38;5;124;03m\"\"\"\u001b[39;00m\n\u001b[1;32m    465\u001b[0m \u001b[38;5;28;01mfrom\u001b[39;00m \u001b[38;5;21;01m.\u001b[39;00m\u001b[38;5;21;01m_warnings_errors\u001b[39;00m \u001b[38;5;28;01mimport\u001b[39;00m (ConstantInputWarning, NearConstantInputWarning,\n\u001b[1;32m    466\u001b[0m                                DegenerateDataWarning, FitError)\n\u001b[0;32m--> 467\u001b[0m \u001b[38;5;28;01mfrom\u001b[39;00m \u001b[38;5;21;01m.\u001b[39;00m\u001b[38;5;21;01m_stats_py\u001b[39;00m \u001b[38;5;28;01mimport\u001b[39;00m \u001b[38;5;241m*\u001b[39m\n\u001b[1;32m    468\u001b[0m \u001b[38;5;28;01mfrom\u001b[39;00m \u001b[38;5;21;01m.\u001b[39;00m\u001b[38;5;21;01m_variation\u001b[39;00m \u001b[38;5;28;01mimport\u001b[39;00m variation\n\u001b[1;32m    469\u001b[0m \u001b[38;5;28;01mfrom\u001b[39;00m \u001b[38;5;21;01m.\u001b[39;00m\u001b[38;5;21;01mdistributions\u001b[39;00m \u001b[38;5;28;01mimport\u001b[39;00m \u001b[38;5;241m*\u001b[39m\n",
      "File \u001b[0;32m~/.pyenv/versions/3.8.6/lib/python3.8/site-packages/scipy/stats/_stats_py.py:39\u001b[0m, in \u001b[0;36m<module>\u001b[0;34m\u001b[0m\n\u001b[1;32m     36\u001b[0m \u001b[38;5;28;01mfrom\u001b[39;00m \u001b[38;5;21;01mnumpy\u001b[39;00m\u001b[38;5;21;01m.\u001b[39;00m\u001b[38;5;21;01mlib\u001b[39;00m \u001b[38;5;28;01mimport\u001b[39;00m NumpyVersion\n\u001b[1;32m     37\u001b[0m \u001b[38;5;28;01mfrom\u001b[39;00m \u001b[38;5;21;01mnumpy\u001b[39;00m\u001b[38;5;21;01m.\u001b[39;00m\u001b[38;5;21;01mtesting\u001b[39;00m \u001b[38;5;28;01mimport\u001b[39;00m suppress_warnings\n\u001b[0;32m---> 39\u001b[0m \u001b[38;5;28;01mfrom\u001b[39;00m \u001b[38;5;21;01mscipy\u001b[39;00m\u001b[38;5;21;01m.\u001b[39;00m\u001b[38;5;21;01mspatial\u001b[39;00m\u001b[38;5;21;01m.\u001b[39;00m\u001b[38;5;21;01mdistance\u001b[39;00m \u001b[38;5;28;01mimport\u001b[39;00m cdist\n\u001b[1;32m     40\u001b[0m \u001b[38;5;28;01mfrom\u001b[39;00m \u001b[38;5;21;01mscipy\u001b[39;00m\u001b[38;5;21;01m.\u001b[39;00m\u001b[38;5;21;01mndimage\u001b[39;00m \u001b[38;5;28;01mimport\u001b[39;00m _measurements\n\u001b[1;32m     41\u001b[0m \u001b[38;5;28;01mfrom\u001b[39;00m \u001b[38;5;21;01mscipy\u001b[39;00m\u001b[38;5;21;01m.\u001b[39;00m\u001b[38;5;21;01m_lib\u001b[39;00m\u001b[38;5;21;01m.\u001b[39;00m\u001b[38;5;21;01m_util\u001b[39;00m \u001b[38;5;28;01mimport\u001b[39;00m (check_random_state, MapWrapper,\n\u001b[1;32m     42\u001b[0m                               rng_integers, _rename_parameter)\n",
      "File \u001b[0;32m~/.pyenv/versions/3.8.6/lib/python3.8/site-packages/scipy/spatial/__init__.py:111\u001b[0m, in \u001b[0;36m<module>\u001b[0;34m\u001b[0m\n\u001b[1;32m    109\u001b[0m \u001b[38;5;28;01mfrom\u001b[39;00m \u001b[38;5;21;01m.\u001b[39;00m\u001b[38;5;21;01m_plotutils\u001b[39;00m \u001b[38;5;28;01mimport\u001b[39;00m \u001b[38;5;241m*\u001b[39m\n\u001b[1;32m    110\u001b[0m \u001b[38;5;28;01mfrom\u001b[39;00m \u001b[38;5;21;01m.\u001b[39;00m\u001b[38;5;21;01m_procrustes\u001b[39;00m \u001b[38;5;28;01mimport\u001b[39;00m procrustes\n\u001b[0;32m--> 111\u001b[0m \u001b[38;5;28;01mfrom\u001b[39;00m \u001b[38;5;21;01m.\u001b[39;00m\u001b[38;5;21;01m_geometric_slerp\u001b[39;00m \u001b[38;5;28;01mimport\u001b[39;00m geometric_slerp\n\u001b[1;32m    113\u001b[0m \u001b[38;5;66;03m# Deprecated namespaces, to be removed in v2.0.0\u001b[39;00m\n\u001b[1;32m    114\u001b[0m \u001b[38;5;28;01mfrom\u001b[39;00m \u001b[38;5;21;01m.\u001b[39;00m \u001b[38;5;28;01mimport\u001b[39;00m ckdtree, kdtree, qhull\n",
      "File \u001b[0;32m~/.pyenv/versions/3.8.6/lib/python3.8/site-packages/scipy/spatial/_geometric_slerp.py:9\u001b[0m, in \u001b[0;36m<module>\u001b[0;34m\u001b[0m\n\u001b[1;32m      6\u001b[0m \u001b[38;5;28;01mfrom\u001b[39;00m \u001b[38;5;21;01mtyping\u001b[39;00m \u001b[38;5;28;01mimport\u001b[39;00m TYPE_CHECKING\n\u001b[1;32m      8\u001b[0m \u001b[38;5;28;01mimport\u001b[39;00m \u001b[38;5;21;01mnumpy\u001b[39;00m \u001b[38;5;28;01mas\u001b[39;00m \u001b[38;5;21;01mnp\u001b[39;00m\n\u001b[0;32m----> 9\u001b[0m \u001b[38;5;28;01mfrom\u001b[39;00m \u001b[38;5;21;01mscipy\u001b[39;00m\u001b[38;5;21;01m.\u001b[39;00m\u001b[38;5;21;01mspatial\u001b[39;00m\u001b[38;5;21;01m.\u001b[39;00m\u001b[38;5;21;01mdistance\u001b[39;00m \u001b[38;5;28;01mimport\u001b[39;00m euclidean\n\u001b[1;32m     11\u001b[0m \u001b[38;5;28;01mif\u001b[39;00m TYPE_CHECKING:\n\u001b[1;32m     12\u001b[0m     \u001b[38;5;28;01mimport\u001b[39;00m \u001b[38;5;21;01mnumpy\u001b[39;00m\u001b[38;5;21;01m.\u001b[39;00m\u001b[38;5;21;01mtyping\u001b[39;00m \u001b[38;5;28;01mas\u001b[39;00m \u001b[38;5;21;01mnpt\u001b[39;00m\n",
      "File \u001b[0;32m~/.pyenv/versions/3.8.6/lib/python3.8/site-packages/scipy/spatial/distance.py:121\u001b[0m, in \u001b[0;36m<module>\u001b[0;34m\u001b[0m\n\u001b[1;32m    119\u001b[0m \u001b[38;5;28;01mfrom\u001b[39;00m \u001b[38;5;21;01m.\u001b[39;00m \u001b[38;5;28;01mimport\u001b[39;00m _hausdorff\n\u001b[1;32m    120\u001b[0m \u001b[38;5;28;01mfrom\u001b[39;00m \u001b[38;5;21;01m.\u001b[39;00m\u001b[38;5;21;01m.\u001b[39;00m\u001b[38;5;21;01mlinalg\u001b[39;00m \u001b[38;5;28;01mimport\u001b[39;00m norm\n\u001b[0;32m--> 121\u001b[0m \u001b[38;5;28;01mfrom\u001b[39;00m \u001b[38;5;21;01m.\u001b[39;00m\u001b[38;5;21;01m.\u001b[39;00m\u001b[38;5;21;01mspecial\u001b[39;00m \u001b[38;5;28;01mimport\u001b[39;00m rel_entr\n\u001b[1;32m    123\u001b[0m \u001b[38;5;28;01mfrom\u001b[39;00m \u001b[38;5;21;01m.\u001b[39;00m \u001b[38;5;28;01mimport\u001b[39;00m _distance_pybind\n\u001b[1;32m    125\u001b[0m \u001b[38;5;28;01mfrom\u001b[39;00m \u001b[38;5;21;01m.\u001b[39;00m\u001b[38;5;21;01m.\u001b[39;00m\u001b[38;5;21;01m_lib\u001b[39;00m\u001b[38;5;21;01m.\u001b[39;00m\u001b[38;5;21;01mdeprecation\u001b[39;00m \u001b[38;5;28;01mimport\u001b[39;00m _deprecated\n",
      "File \u001b[0;32m~/.pyenv/versions/3.8.6/lib/python3.8/site-packages/scipy/special/__init__.py:657\u001b[0m, in \u001b[0;36m<module>\u001b[0;34m\u001b[0m\n\u001b[1;32m    653\u001b[0m \u001b[38;5;28;01mfrom\u001b[39;00m \u001b[38;5;21;01m.\u001b[39;00m\u001b[38;5;21;01m_basic\u001b[39;00m \u001b[38;5;28;01mimport\u001b[39;00m \u001b[38;5;241m*\u001b[39m\n\u001b[1;32m    655\u001b[0m \u001b[38;5;28;01mfrom\u001b[39;00m \u001b[38;5;21;01m.\u001b[39;00m\u001b[38;5;21;01m_logsumexp\u001b[39;00m \u001b[38;5;28;01mimport\u001b[39;00m logsumexp, softmax, log_softmax\n\u001b[0;32m--> 657\u001b[0m \u001b[38;5;28;01mfrom\u001b[39;00m \u001b[38;5;21;01m.\u001b[39;00m \u001b[38;5;28;01mimport\u001b[39;00m _orthogonal\n\u001b[1;32m    658\u001b[0m \u001b[38;5;28;01mfrom\u001b[39;00m \u001b[38;5;21;01m.\u001b[39;00m\u001b[38;5;21;01m_orthogonal\u001b[39;00m \u001b[38;5;28;01mimport\u001b[39;00m \u001b[38;5;241m*\u001b[39m\n\u001b[1;32m    660\u001b[0m \u001b[38;5;28;01mfrom\u001b[39;00m \u001b[38;5;21;01m.\u001b[39;00m\u001b[38;5;21;01m_spfun_stats\u001b[39;00m \u001b[38;5;28;01mimport\u001b[39;00m multigammaln\n",
      "File \u001b[0;32m<frozen importlib._bootstrap>:991\u001b[0m, in \u001b[0;36m_find_and_load\u001b[0;34m(name, import_)\u001b[0m\n",
      "File \u001b[0;32m<frozen importlib._bootstrap>:975\u001b[0m, in \u001b[0;36m_find_and_load_unlocked\u001b[0;34m(name, import_)\u001b[0m\n",
      "File \u001b[0;32m<frozen importlib._bootstrap>:671\u001b[0m, in \u001b[0;36m_load_unlocked\u001b[0;34m(spec)\u001b[0m\n",
      "File \u001b[0;32m<frozen importlib._bootstrap_external>:779\u001b[0m, in \u001b[0;36mexec_module\u001b[0;34m(self, module)\u001b[0m\n",
      "File \u001b[0;32m<frozen importlib._bootstrap_external>:911\u001b[0m, in \u001b[0;36mget_code\u001b[0;34m(self, fullname)\u001b[0m\n",
      "File \u001b[0;32m<frozen importlib._bootstrap_external>:580\u001b[0m, in \u001b[0;36m_compile_bytecode\u001b[0;34m(data, name, bytecode_path, source_path)\u001b[0m\n",
      "\u001b[0;31mKeyboardInterrupt\u001b[0m: "
     ]
    }
   ],
   "source": [
    "import netCDF4 as nc\n",
    "import numpy as np\n",
    "from matplotlib import pyplot as plt\n",
    "import os\n",
    "import json\n",
    "import pandas as pd\n",
    "import seaborn as sns"
   ]
  },
  {
   "cell_type": "code",
   "execution_count": null,
   "id": "395135fa",
   "metadata": {},
   "outputs": [],
   "source": [
    "!pwd"
   ]
  },
  {
   "cell_type": "code",
   "execution_count": null,
   "id": "998875a9",
   "metadata": {},
   "outputs": [],
   "source": [
    "!ls output"
   ]
  },
  {
   "cell_type": "code",
   "execution_count": null,
   "id": "b259fc7c",
   "metadata": {},
   "outputs": [],
   "source": [
    "os.environ['HDF5_USE_FILE_LOCKING']='FALSE'"
   ]
  },
  {
   "cell_type": "code",
   "execution_count": null,
   "id": "db7ac3a5",
   "metadata": {},
   "outputs": [],
   "source": [
    "run_name='poker_flats_merged_data'"
   ]
  },
  {
   "cell_type": "code",
   "execution_count": null,
   "id": "f6f4dcc9",
   "metadata": {},
   "outputs": [],
   "source": [
    "#define coordiantes of stations\n",
    "station_lat = 65.12332 #poker flats\n",
    "station_lon = -147.48722 #poker flats\n",
    "\n",
    "#station_lat = 65.15401 #caribou creek\n",
    "#station_lon = -147.50258 #caribou creek"
   ]
  },
  {
   "cell_type": "code",
   "execution_count": null,
   "id": "748caa92",
   "metadata": {},
   "outputs": [],
   "source": [
    "#get netcdf coordinates from runmask\n",
    "runmask = nc.Dataset('/data/workflows/poker_flats_merged_data/run-mask.nc')\n",
    "lats=runmask.variables['lat'][:]\n",
    "lons=runmask.variables['lon'][:]"
   ]
  },
  {
   "cell_type": "code",
   "execution_count": null,
   "id": "3a6e04f4",
   "metadata": {},
   "outputs": [],
   "source": [
    "#get distance between station and each cell\n",
    "ydist = lats-station_lat\n",
    "xdist = lons-station_lon\n",
    "euc_dist = (ydist**2 + xdist**2)**.5"
   ]
  },
  {
   "cell_type": "code",
   "execution_count": null,
   "id": "1837bef6",
   "metadata": {},
   "outputs": [],
   "source": [
    "y_x = np.unravel_index(np.argmin(euc_dist),np.shape(lats))\n",
    "print('y coordinate: {}'.format(y_x[0]))\n",
    "print('x coordinate: {}'.format(y_x[1]))"
   ]
  },
  {
   "cell_type": "code",
   "execution_count": null,
   "id": "877ca440",
   "metadata": {},
   "outputs": [],
   "source": [
    "%cd /work"
   ]
  },
  {
   "cell_type": "code",
   "execution_count": null,
   "id": "4cda8d6f",
   "metadata": {},
   "outputs": [],
   "source": [
    "#!make clean\n",
    "#!make"
   ]
  },
  {
   "cell_type": "code",
   "execution_count": null,
   "id": "b1b3eed5",
   "metadata": {},
   "outputs": [],
   "source": [
    "# Cleanup:\n",
    "!rm -r /data/workflows/poker_flats_merged_data"
   ]
  },
  {
   "cell_type": "code",
   "execution_count": null,
   "id": "8e477978",
   "metadata": {},
   "outputs": [],
   "source": [
    "#set working directory\n",
    "!scripts/setup_working_directory.py \\\n",
    "--input-data-path /data/input-catalog/caribou-poker_merged/ \\\n",
    "/data/workflows/poker_flats_merged_data/"
   ]
  },
  {
   "cell_type": "code",
   "execution_count": null,
   "id": "c8ae9ee9",
   "metadata": {},
   "outputs": [],
   "source": [
    "# Adjust the config file\n",
    "CONFIG_FILE = os.path.join('/data/workflows/poker_flats_merged_data/', 'config/config.js')\n",
    "# Read the existing data into memory\n",
    "with open(CONFIG_FILE, 'r') as f:\n",
    "    config = json.load(f)\n",
    "    \n",
    "    config['IO']['output_nc_eq'] = 1 # Modify value...\n",
    "\n",
    "# Write it back..\n",
    "with open(CONFIG_FILE, 'w') as f:\n",
    "    json.dump(config, f, indent=2)"
   ]
  },
  {
   "cell_type": "code",
   "execution_count": null,
   "id": "a903bb7c",
   "metadata": {},
   "outputs": [],
   "source": [
    "!ls ../data/input-catalog/caribou-poker_merged/"
   ]
  },
  {
   "cell_type": "code",
   "execution_count": null,
   "id": "2709bf64",
   "metadata": {},
   "outputs": [],
   "source": [
    "!ls ../data/workflows/poker_flats_merged_data/"
   ]
  },
  {
   "cell_type": "code",
   "execution_count": null,
   "id": "2563d3df",
   "metadata": {},
   "outputs": [],
   "source": [
    "#poker flats: 0, 1\n",
    "#caribou creek: 3, 0\n",
    "# setup runmask\n",
    "!runmask-util.py --reset \\\n",
    "--yx 0 1 \\\n",
    "--show \\\n",
    "/data/workflows/poker_flats_merged_data/run-mask.nc"
   ]
  },
  {
   "cell_type": "code",
   "execution_count": null,
   "id": "b28ef245",
   "metadata": {},
   "outputs": [],
   "source": [
    "!dvmdostem --help"
   ]
  },
  {
   "cell_type": "code",
   "execution_count": null,
   "id": "308a07d4",
   "metadata": {},
   "outputs": [],
   "source": [
    "path_to_drainage_input='/data/input-catalog/caribou-poker_merged/drainage.nc'\n",
    "drainage = nc.Dataset(path_to_drainage_input, 'r+')\n",
    "\n",
    "drainage['drainage_class'][0,1]=1\n",
    "\n",
    "drainage.close()"
   ]
  },
  {
   "cell_type": "code",
   "execution_count": null,
   "id": "bcb2e027",
   "metadata": {},
   "outputs": [],
   "source": [
    "drainage = nc.Dataset(path_to_drainage_input)\n",
    "print(drainage)"
   ]
  },
  {
   "cell_type": "code",
   "execution_count": null,
   "id": "ec2ac980",
   "metadata": {},
   "outputs": [],
   "source": [
    "# poorly drained: 1, or well drained: 0\n",
    "drainage['drainage_class'][:]"
   ]
  },
  {
   "cell_type": "code",
   "execution_count": null,
   "id": "caf9e3e9",
   "metadata": {},
   "outputs": [],
   "source": [
    "path_to_soil_input='/data/input-catalog/caribou-poker/soil-texture.nc'\n",
    "soil_dataset = nc.Dataset(path_to_soil_input)\n",
    "print(soil_dataset)\n",
    "print('target cell is {}% clay, {}% sand, and {}% silt'.format(soil_dataset['pct_clay'][y_x[0], y_x[1]], \n",
    "                                                               soil_dataset['pct_sand'][y_x[0], y_x[1]], \n",
    "                                                               soil_dataset['pct_silt'][y_x[0], y_x[1]]))\n",
    "soil_dataset.close()"
   ]
  },
  {
   "cell_type": "code",
   "execution_count": null,
   "id": "d7ba23b8",
   "metadata": {},
   "outputs": [],
   "source": [
    "\n",
    "soil_dataset = nc.Dataset(path_to_soil_input, 'r+')\n",
    "soil_dataset['pct_clay'][y_x[0], y_x[1]] = 10 # originally 4.70958137512207\n",
    "soil_dataset['pct_sand'][y_x[0], y_x[1]] = 27 # originally 55.84833908081055\n",
    "soil_dataset['pct_silt'][y_x[0], y_x[1]] = 63 # origially 39.44207763671875\n",
    "print('target cell is {}% clay, {}% sand, and {}% silt'.format(soil_dataset['pct_clay'][y_x[0], y_x[1]], \n",
    "                                                               soil_dataset['pct_sand'][y_x[0], y_x[1]], \n",
    "                                                               soil_dataset['pct_silt'][y_x[0], y_x[1]]))\n",
    "drainage.close()\n"
   ]
  },
  {
   "cell_type": "code",
   "execution_count": null,
   "id": "3f69a0d0",
   "metadata": {},
   "outputs": [],
   "source": [
    "!scripts/outspec_utils.py ../data/workflows/poker_flats_merged_data/config/output_spec.csv --empty"
   ]
  },
  {
   "cell_type": "code",
   "execution_count": null,
   "id": "089750dc",
   "metadata": {},
   "outputs": [],
   "source": [
    "!scripts/outspec_utils.py ../data/workflows/poker_flats_merged_data/config/output_spec.csv --on CMTNUM yearly"
   ]
  },
  {
   "cell_type": "code",
   "execution_count": null,
   "id": "2c3058d5",
   "metadata": {},
   "outputs": [],
   "source": [
    "!scripts/outspec_utils.py ../data/workflows/poker_flats_merged_data/config/output_spec.csv --on GPP monthly"
   ]
  },
  {
   "cell_type": "code",
   "execution_count": null,
   "id": "fbdb9776",
   "metadata": {},
   "outputs": [],
   "source": [
    "!scripts/outspec_utils.py ../data/workflows/poker_flats_merged_data/config/output_spec.csv --on SNOWTHICK monthly"
   ]
  },
  {
   "cell_type": "code",
   "execution_count": null,
   "id": "6a75c2b6",
   "metadata": {},
   "outputs": [],
   "source": [
    "#!scripts/outspec_utils.py ../data/workflows/poker_flats_test/config/output_spec.csv --on TLAYER daily"
   ]
  },
  {
   "cell_type": "code",
   "execution_count": null,
   "id": "b528bfc4",
   "metadata": {},
   "outputs": [],
   "source": [
    "#!scripts/outspec_utils.py ../data/workflows/poker_flats_test/config/output_spec.csv --on TLAYER daily"
   ]
  },
  {
   "cell_type": "code",
   "execution_count": null,
   "id": "5553c696",
   "metadata": {},
   "outputs": [],
   "source": [
    "!scripts/outspec_utils.py ../data/workflows/poker_flats_merged_data/config/output_spec.csv --on RG monthly          "
   ]
  },
  {
   "cell_type": "code",
   "execution_count": null,
   "id": "c958d291",
   "metadata": {},
   "outputs": [],
   "source": [
    "!scripts/outspec_utils.py ../data/workflows/poker_flats_merged_data/config/output_spec.csv --on RH monthly    "
   ]
  },
  {
   "cell_type": "code",
   "execution_count": null,
   "id": "1d1edee0",
   "metadata": {},
   "outputs": [],
   "source": [
    "!scripts/outspec_utils.py ../data/workflows/poker_flats_merged_data/config/output_spec.csv --on RM monthly"
   ]
  },
  {
   "cell_type": "code",
   "execution_count": null,
   "id": "0338dc99",
   "metadata": {},
   "outputs": [],
   "source": [
    "!scripts/outspec_utils.py ../data/workflows/poker_flats_merged_data/config/output_spec.csv --on NPP monthly    "
   ]
  },
  {
   "cell_type": "code",
   "execution_count": null,
   "id": "d40cc495",
   "metadata": {},
   "outputs": [],
   "source": [
    "!scripts/outspec_utils.py ../data/workflows/poker_flats_merged_data/config/output_spec.csv --on EET monthly  "
   ]
  },
  {
   "cell_type": "code",
   "execution_count": null,
   "id": "7ecca201",
   "metadata": {},
   "outputs": [],
   "source": [
    "!scripts/outspec_utils.py ../data/workflows/poker_flats_merged_data/config/output_spec.csv --on PET monthly  "
   ]
  },
  {
   "cell_type": "code",
   "execution_count": null,
   "id": "28133fac",
   "metadata": {},
   "outputs": [],
   "source": [
    "!scripts/outspec_utils.py ../data/workflows/poker_flats_merged_data/config/output_spec.csv --on RAINFALL monthly "
   ]
  },
  {
   "cell_type": "code",
   "execution_count": null,
   "id": "59b8cd6e",
   "metadata": {},
   "outputs": [],
   "source": [
    "!scripts/outspec_utils.py ../data/workflows/poker_flats_merged_data/config/output_spec.csv --on SWE monthly "
   ]
  },
  {
   "cell_type": "code",
   "execution_count": null,
   "id": "dd40a0e6",
   "metadata": {},
   "outputs": [],
   "source": [
    "!scripts/outspec_utils.py ../data/workflows/poker_flats_merged_data/config/output_spec.csv --on ALD monthly"
   ]
  },
  {
   "cell_type": "code",
   "execution_count": null,
   "id": "9fe9762a",
   "metadata": {},
   "outputs": [],
   "source": [
    "!scripts/outspec_utils.py ../data/workflows/poker_flats_merged_data/config/output_spec.csv --on TRANSPIRATION monthly"
   ]
  },
  {
   "cell_type": "code",
   "execution_count": null,
   "id": "2a175bfd",
   "metadata": {},
   "outputs": [],
   "source": [
    "!scripts/outspec_utils.py ../data/workflows/poker_flats_merged_data/config/output_spec.csv --on VWCLAYER monthly layer"
   ]
  },
  {
   "cell_type": "code",
   "execution_count": null,
   "id": "5dd41136",
   "metadata": {},
   "outputs": [],
   "source": [
    "!scripts/outspec_utils.py ../data/workflows/poker_flats_merged_data/config/output_spec.csv --on WATERTAB monthly"
   ]
  },
  {
   "cell_type": "code",
   "execution_count": null,
   "id": "5db901ef",
   "metadata": {},
   "outputs": [],
   "source": [
    "!scripts/outspec_utils.py ../data/workflows/poker_flats_merged_data/config/output_spec.csv --on LWCLAYER monthly layer"
   ]
  },
  {
   "cell_type": "code",
   "execution_count": null,
   "id": "365c5856",
   "metadata": {},
   "outputs": [],
   "source": [
    "!scripts/outspec_utils.py ../data/workflows/poker_flats_merged_data/config/output_spec.csv --on TLAYER monthly layer"
   ]
  },
  {
   "cell_type": "code",
   "execution_count": null,
   "id": "2331dd76",
   "metadata": {},
   "outputs": [],
   "source": [
    "!scripts/outspec_utils.py ../data/workflows/poker_flats_merged_data/config/output_spec.csv --on LAYERDEPTH monthly layer"
   ]
  },
  {
   "cell_type": "code",
   "execution_count": null,
   "id": "e3fc56ce",
   "metadata": {},
   "outputs": [],
   "source": [
    "!scripts/outspec_utils.py ../data/workflows/poker_flats_merged_data/config/output_spec.csv --on LAYERTYPE monthly layer"
   ]
  },
  {
   "cell_type": "code",
   "execution_count": null,
   "id": "07ab3d92",
   "metadata": {},
   "outputs": [],
   "source": [
    "!scripts/outspec_utils.py ../data/workflows/poker_flats_merged_data/config/output_spec.csv --on LAYERDZ monthly layer"
   ]
  },
  {
   "cell_type": "code",
   "execution_count": null,
   "id": "c378b863",
   "metadata": {},
   "outputs": [],
   "source": [
    "!scripts/outspec_utils.py ../data/workflows/poker_flats_merged_data/config/output_spec.csv --on MOSSDZ monthly"
   ]
  },
  {
   "cell_type": "code",
   "execution_count": null,
   "id": "8264d9e5",
   "metadata": {
    "scrolled": true
   },
   "outputs": [],
   "source": [
    "!scripts/outspec_utils.py ../data/workflows/poker_flats_merged_data/config/output_spec.csv --on LAI monthly"
   ]
  },
  {
   "cell_type": "code",
   "execution_count": null,
   "id": "0a5ae78e",
   "metadata": {},
   "outputs": [],
   "source": [
    "!scripts/outspec_utils.py ../data/workflows/poker_flats_merged_data/config/output_spec.csv --on DEEPDZ monthly"
   ]
  },
  {
   "cell_type": "code",
   "execution_count": null,
   "id": "8073f246",
   "metadata": {},
   "outputs": [],
   "source": [
    "!scripts/outspec_utils.py ../data/workflows/poker_flats_merged_data/config/output_spec.csv --on SHLWDZ monthly"
   ]
  },
  {
   "cell_type": "code",
   "execution_count": null,
   "id": "9eb3884b",
   "metadata": {},
   "outputs": [],
   "source": [
    "!scripts/outspec_utils.py ../data/workflows/poker_flats_merged_data/config/output_spec.csv --on DEEPC yearly"
   ]
  },
  {
   "cell_type": "code",
   "execution_count": null,
   "id": "b2583844",
   "metadata": {},
   "outputs": [],
   "source": [
    "!scripts/outspec_utils.py ../data/workflows/poker_flats_merged_data/config/output_spec.csv --on MINEC yearly"
   ]
  },
  {
   "cell_type": "code",
   "execution_count": null,
   "id": "ef7a7674",
   "metadata": {},
   "outputs": [],
   "source": [
    "!scripts/outspec_utils.py ../data/workflows/poker_flats_merged_data/config/output_spec.csv --on SHLWC yearly"
   ]
  },
  {
   "cell_type": "code",
   "execution_count": null,
   "id": "50a4eb40",
   "metadata": {},
   "outputs": [],
   "source": [
    "!scripts/outspec_utils.py ../data/workflows/poker_flats_merged_data/config/output_spec.csv --on LTRFALC yearly"
   ]
  },
  {
   "cell_type": "code",
   "execution_count": null,
   "id": "895ff989",
   "metadata": {},
   "outputs": [],
   "source": [
    "!scripts/outspec_utils.py ../data/workflows/poker_flats_merged_data/config/output_spec.csv --on AVLN yearly\n",
    "!scripts/outspec_utils.py ../data/workflows/poker_flats_merged_data/config/output_spec.csv --on ORGN yearly"
   ]
  },
  {
   "cell_type": "code",
   "execution_count": null,
   "id": "e98d22bf",
   "metadata": {},
   "outputs": [],
   "source": [
    "#force input data to site obs: --force-cmt {#}  black spruce = 1, deciduous = 3\n",
    "#!scripts/outspec_utils.py --help\n",
    "!scripts/outspec_utils.py --list-vars ../data/workflows/poker_flats_merged_data/config/output_spec.csv\n",
    "#!scripts/outspec_utils.py --on LAI yearly ../data/workflows/poker_flats_test/config/output_spec.csv\n",
    "#!scripts/outspec_utils.py --summary ../data/workflows/poker_flats_test/config/output_spec.csv\n",
    "\n"
   ]
  },
  {
   "cell_type": "code",
   "execution_count": null,
   "id": "c9951459",
   "metadata": {},
   "outputs": [],
   "source": [
    "#also force drainage (poorly drained: 1, or well drained: 0), "
   ]
  },
  {
   "cell_type": "code",
   "execution_count": null,
   "id": "e9121c83",
   "metadata": {},
   "outputs": [],
   "source": [
    "%cd /data/workflows/poker_flats_merged_data"
   ]
  },
  {
   "cell_type": "code",
   "execution_count": null,
   "id": "fda77421",
   "metadata": {
    "scrolled": true
   },
   "outputs": [],
   "source": [
    "#!dvmdostem --force-cmt=15 --log-level='err' --tr-yrs=121 --sp-yrs=300 --eq-yrs=500\n",
    "!dvmdostem --force-cmt=13 --log-level='err' --tr-yrs=0 --sp-yrs=0 --eq-yrs=1000"
   ]
  },
  {
   "cell_type": "code",
   "execution_count": null,
   "id": "b5826302",
   "metadata": {},
   "outputs": [],
   "source": [
    "!ls /data/workflows/poker_flats_merged_data/output/"
   ]
  },
  {
   "cell_type": "code",
   "execution_count": null,
   "id": "c8d6d8bc",
   "metadata": {},
   "outputs": [],
   "source": [
    "gpp_ds = nc.Dataset('/data/workflows/poker_flats_merged_data/output/GPP_monthly_eq.nc')\n",
    "gpp = gpp_ds.variables['GPP'][:, y_x[0], y_x[1]]\n",
    "\n",
    "rh_ds = nc.Dataset('/data/workflows/poker_flats_merged_data/output/RH_monthly_eq.nc')\n",
    "rh = rh_ds.variables['RH'][:, y_x[0], y_x[1]]\n",
    "\n",
    "lwc_ds = nc.Dataset('/data/workflows/poker_flats_merged_data/output/LWCLAYER_monthly_eq.nc')\n",
    "lwc = lwc_ds.variables['LWCLAYER'][:,3,y_x[0], y_x[1]]*100\n",
    "\n",
    "\n",
    "year=np.array([np.floor(i/12) for i in range(0, len(gpp))]).astype(np.uint16)\n",
    "month=[1,2,3,4,5,6,7,8,9,10,11,12]*(len(gpp)//12)\n",
    "tem_output_df = pd.DataFrame({'year': year, 'month': month, 'GPP': gpp, 'RH': rh, 'LWC':lwc})\n",
    "yearly_gpp = tem_output_df.groupby('year').sum().reset_index()"
   ]
  },
  {
   "cell_type": "code",
   "execution_count": null,
   "id": "40e73825",
   "metadata": {},
   "outputs": [],
   "source": [
    "len(gpp)//12"
   ]
  },
  {
   "cell_type": "markdown",
   "id": "cad80ac2",
   "metadata": {
    "scrolled": false
   },
   "source": []
  },
  {
   "cell_type": "code",
   "execution_count": null,
   "id": "d5f94ec7",
   "metadata": {},
   "outputs": [],
   "source": [
    "sns.scatterplot(data=yearly_gpp, x='year', y='GPP')"
   ]
  },
  {
   "cell_type": "code",
   "execution_count": null,
   "id": "4b8c34fa",
   "metadata": {},
   "outputs": [],
   "source": [
    "sns.scatterplot(data=yearly_gpp, x='year', y='RH')"
   ]
  },
  {
   "cell_type": "code",
   "execution_count": null,
   "id": "0b01b44f",
   "metadata": {},
   "outputs": [],
   "source": [
    "deepc_ds = nc.Dataset('/data/workflows/poker_flats_merged_data/output/DEEPC_yearly_eq.nc')\n",
    "deepc = deepc_ds.variables['DEEPC'][:, y_x[0], y_x[1]]\n",
    "year=np.array([i for i in range(0, len(deepc))]).astype(np.uint16)\n",
    "deepc_df = pd.DataFrame({'year': year, 'DEEPC': deepc})"
   ]
  },
  {
   "cell_type": "code",
   "execution_count": null,
   "id": "6d213c51",
   "metadata": {},
   "outputs": [],
   "source": [
    "shlwc_ds = nc.Dataset('/data/workflows/poker_flats_merged_data/output/SHLWC_yearly_eq.nc')\n",
    "shlwc = shlwc_ds.variables['SHLWC'][:, y_x[0], y_x[1]]\n",
    "year=np.array([i for i in range(0, len(deepc))]).astype(np.uint16)\n",
    "shlwc_df = pd.DataFrame({'year': year, 'SHLWC': shlwc})"
   ]
  },
  {
   "cell_type": "code",
   "execution_count": null,
   "id": "a7df5448",
   "metadata": {
    "scrolled": false
   },
   "outputs": [],
   "source": [
    "sns.scatterplot(data=deepc_df, x='year', y='DEEPC')\n",
    "sns.scatterplot(data=shlwc_df, x='year', y='SHLWC')"
   ]
  },
  {
   "cell_type": "code",
   "execution_count": null,
   "id": "2c31241c",
   "metadata": {},
   "outputs": [],
   "source": [
    "ltrfalc_ds = nc.Dataset('/data/workflows/poker_flats_merged_data/output/LTRFALC_yearly_eq.nc')\n",
    "ltrfalc = ltrfalc_ds.variables['LTRFALC'][:, y_x[0], y_x[1]]\n",
    "year=np.array([i for i in range(0, len(ltrfalc))]).astype(np.uint16)\n",
    "ltrfalc_df = pd.DataFrame({'year': year, 'LTRFALC': ltrfalc})"
   ]
  },
  {
   "cell_type": "code",
   "execution_count": null,
   "id": "242458af",
   "metadata": {},
   "outputs": [],
   "source": [
    "sns.scatterplot(data=ltrfalc_df, x='year', y='LTRFALC')"
   ]
  },
  {
   "cell_type": "code",
   "execution_count": null,
   "id": "eaeb176b",
   "metadata": {},
   "outputs": [],
   "source": [
    "avln_ds = nc.Dataset('/data/workflows/poker_flats_merged_data/output/AVLN_yearly_eq.nc')\n",
    "avln = avln_ds.variables['AVLN'][:, y_x[0], y_x[1]]\n",
    "year=np.array([i for i in range(0, len(ltrfalc))]).astype(np.uint16)\n",
    "avln_df = pd.DataFrame({'year': year, 'AVLN': avln})\n",
    "\n",
    "orgn_ds = nc.Dataset('/data/workflows/poker_flats_merged_data/output/ORGN_yearly_eq.nc')\n",
    "orgn = orgn_ds.variables['ORGN'][:, y_x[0], y_x[1]]\n",
    "year=np.array([i for i in range(0, len(ltrfalc))]).astype(np.uint16)\n",
    "orgn_df = pd.DataFrame({'year': year, 'ORGN': orgn})"
   ]
  },
  {
   "cell_type": "code",
   "execution_count": null,
   "id": "916dcc62",
   "metadata": {},
   "outputs": [],
   "source": [
    "sns.scatterplot(data=avln_df, x='year', y='AVLN')"
   ]
  },
  {
   "cell_type": "code",
   "execution_count": null,
   "id": "f465a916",
   "metadata": {},
   "outputs": [],
   "source": [
    "sns.scatterplot(data=orgn_df, x='year', y='ORGN')"
   ]
  },
  {
   "cell_type": "code",
   "execution_count": null,
   "id": "58cc4c61",
   "metadata": {},
   "outputs": [],
   "source": [
    "sns.scatterplot(data=yearly_gpp, x='year', y='LWC')"
   ]
  },
  {
   "cell_type": "code",
   "execution_count": null,
   "id": "f8bdd2d4",
   "metadata": {},
   "outputs": [],
   "source": [
    "minec_ds = nc.Dataset('/data/workflows/poker_flats_merged_data/output/MINEC_yearly_eq.nc')\n",
    "minec = minec_ds.variables['MINEC'][:, y_x[0], y_x[1]]\n",
    "year=np.array([i for i in range(0, len(minec))]).astype(np.uint16)\n",
    "minec_df = pd.DataFrame({'year': year, 'MINEC': minec})"
   ]
  },
  {
   "cell_type": "code",
   "execution_count": null,
   "id": "7b373352",
   "metadata": {},
   "outputs": [],
   "source": [
    "sns.scatterplot(data=minec_df, x='year', y='MINEC')"
   ]
  },
  {
   "cell_type": "code",
   "execution_count": null,
   "id": "1086bd8a",
   "metadata": {},
   "outputs": [],
   "source": []
  }
 ],
 "metadata": {
  "kernelspec": {
   "display_name": "Python 3 (ipykernel)",
   "language": "python",
   "name": "python3"
  },
  "language_info": {
   "codemirror_mode": {
    "name": "ipython",
    "version": 3
   },
   "file_extension": ".py",
   "mimetype": "text/x-python",
   "name": "python",
   "nbconvert_exporter": "python",
   "pygments_lexer": "ipython3",
   "version": "3.8.6"
  }
 },
 "nbformat": 4,
 "nbformat_minor": 5
}
