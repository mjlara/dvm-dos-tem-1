{
 "cells": [
  {
   "cell_type": "code",
   "execution_count": 1,
   "id": "3364a03e",
   "metadata": {
    "scrolled": true
   },
   "outputs": [],
   "source": [
    "import netCDF4 as nc\n",
    "import numpy as np\n",
    "from matplotlib import pyplot as plt\n",
    "import os\n",
    "import json\n",
    "import pandas as pd\n",
    "import seaborn as sns"
   ]
  },
  {
   "cell_type": "code",
   "execution_count": 2,
   "id": "9a4fcf7a",
   "metadata": {},
   "outputs": [],
   "source": [
    "os.environ[\"PYTHONPATH\"] = \"/work/scripts\""
   ]
  },
  {
   "cell_type": "code",
   "execution_count": 3,
   "id": "395135fa",
   "metadata": {},
   "outputs": [
    {
     "name": "stdout",
     "output_type": "stream",
     "text": [
      "/work/scripts/caribou-poker-exp\r\n"
     ]
    }
   ],
   "source": [
    "!pwd"
   ]
  },
  {
   "cell_type": "code",
   "execution_count": 4,
   "id": "998875a9",
   "metadata": {},
   "outputs": [
    {
     "name": "stdout",
     "output_type": "stream",
     "text": [
      "ls: cannot access 'output': No such file or directory\r\n"
     ]
    }
   ],
   "source": [
    "!ls output"
   ]
  },
  {
   "cell_type": "code",
   "execution_count": 5,
   "id": "b259fc7c",
   "metadata": {},
   "outputs": [],
   "source": [
    "os.environ['HDF5_USE_FILE_LOCKING']='FALSE'"
   ]
  },
  {
   "cell_type": "code",
   "execution_count": 6,
   "id": "db7ac3a5",
   "metadata": {},
   "outputs": [],
   "source": [
    "run_name='poker_flats_merged_data'"
   ]
  },
  {
   "cell_type": "code",
   "execution_count": 7,
   "id": "f6f4dcc9",
   "metadata": {},
   "outputs": [],
   "source": [
    "#define coordiantes of stations\n",
    "station_lat = 65.12332 #poker flats\n",
    "station_lon = -147.48722 #poker flats\n",
    "\n",
    "#station_lat = 65.15401 #caribou creek\n",
    "#station_lon = -147.50258 #caribou creek"
   ]
  },
  {
   "cell_type": "code",
   "execution_count": 8,
   "id": "748caa92",
   "metadata": {},
   "outputs": [],
   "source": [
    "#get netcdf coordinates from runmask\n",
    "runmask = nc.Dataset('/data/workflows/poker_flats_merged_data/run-mask.nc')\n",
    "lats=runmask.variables['lat'][:]\n",
    "lons=runmask.variables['lon'][:]"
   ]
  },
  {
   "cell_type": "code",
   "execution_count": 9,
   "id": "3a6e04f4",
   "metadata": {},
   "outputs": [],
   "source": [
    "#get distance between station and each cell\n",
    "ydist = lats-station_lat\n",
    "xdist = lons-station_lon\n",
    "euc_dist = (ydist**2 + xdist**2)**.5"
   ]
  },
  {
   "cell_type": "code",
   "execution_count": 10,
   "id": "1837bef6",
   "metadata": {},
   "outputs": [
    {
     "name": "stdout",
     "output_type": "stream",
     "text": [
      "y coordinate: 0\n",
      "x coordinate: 1\n"
     ]
    }
   ],
   "source": [
    "y_x = np.unravel_index(np.argmin(euc_dist),np.shape(lats))\n",
    "print('y coordinate: {}'.format(y_x[0]))\n",
    "print('x coordinate: {}'.format(y_x[1]))"
   ]
  },
  {
   "cell_type": "code",
   "execution_count": 11,
   "id": "877ca440",
   "metadata": {},
   "outputs": [
    {
     "name": "stdout",
     "output_type": "stream",
     "text": [
      "/work\n"
     ]
    }
   ],
   "source": [
    "%cd /work"
   ]
  },
  {
   "cell_type": "code",
   "execution_count": 12,
   "id": "560fe382",
   "metadata": {},
   "outputs": [
    {
     "name": "stdout",
     "output_type": "stream",
     "text": [
      "/work/scripts\r\n"
     ]
    }
   ],
   "source": [
    "!echo $PYTHONPATH"
   ]
  },
  {
   "cell_type": "code",
   "execution_count": 13,
   "id": "4cda8d6f",
   "metadata": {},
   "outputs": [],
   "source": [
    "#!make clean\n",
    "#!make"
   ]
  },
  {
   "cell_type": "code",
   "execution_count": 14,
   "id": "b1b3eed5",
   "metadata": {},
   "outputs": [],
   "source": [
    "# Cleanup:\n",
    "!rm -r /data/workflows/poker_flats_merged_data"
   ]
  },
  {
   "cell_type": "code",
   "execution_count": 15,
   "id": "8e477978",
   "metadata": {},
   "outputs": [],
   "source": [
    "#set working directory\n",
    "!/work/scripts/util/setup_working_directory.py \\\n",
    "--input-data-path /data/input-catalog/caribou-poker_merged/ \\\n",
    "/data/workflows/poker_flats_merged_data/"
   ]
  },
  {
   "cell_type": "code",
   "execution_count": 16,
   "id": "c8ae9ee9",
   "metadata": {},
   "outputs": [],
   "source": [
    "# Adjust the config file\n",
    "CONFIG_FILE = os.path.join('/data/workflows/poker_flats_merged_data/', 'config/config.js')\n",
    "# Read the existing data into memory\n",
    "with open(CONFIG_FILE, 'r') as f:\n",
    "    config = json.load(f)\n",
    "    \n",
    "    config['IO']['output_nc_eq'] = 1 # Modify value...\n",
    "\n",
    "# Write it back..\n",
    "with open(CONFIG_FILE, 'w') as f:\n",
    "    json.dump(config, f, indent=2)"
   ]
  },
  {
   "cell_type": "code",
   "execution_count": 17,
   "id": "a903bb7c",
   "metadata": {},
   "outputs": [
    {
     "name": "stdout",
     "output_type": "stream",
     "text": [
      "co2.nc\t\t     historic-explicit-fire.nc\t run-mask.nc\r\n",
      "drainage.nc\t     projected-climate.nc\t soil-texture.nc\r\n",
      "fri-fire.nc\t     projected-co2.nc\t\t topo.nc\r\n",
      "historic-climate.nc  projected-explicit-fire.nc  vegetation.nc\r\n"
     ]
    }
   ],
   "source": [
    "!ls ../data/input-catalog/caribou-poker_merged/"
   ]
  },
  {
   "cell_type": "code",
   "execution_count": 18,
   "id": "2709bf64",
   "metadata": {},
   "outputs": [
    {
     "name": "stdout",
     "output_type": "stream",
     "text": [
      "calibration  config  output  parameters  run-mask.nc\r\n"
     ]
    }
   ],
   "source": [
    "!ls ../data/workflows/poker_flats_merged_data/"
   ]
  },
  {
   "cell_type": "code",
   "execution_count": 19,
   "id": "2563d3df",
   "metadata": {},
   "outputs": [
    {
     "name": "stdout",
     "output_type": "stream",
     "text": [
      "========== BEFORE ==================================\n",
      "** Keep in mind that in this display the origin is the upper \n",
      "** left of the grid! This is opposite of the way that ncdump \n",
      "** and ncview display data (origin is lower left)!!\n",
      "\n",
      "'/data/workflows/poker_flats_merged_data/run-mask.nc'\n",
      "<class 'netCDF4._netCDF4.Variable'>\n",
      "int64 run(Y, X)\n",
      "    grid_mapping: albers_conical_equal_area\n",
      "unlimited dimensions: \n",
      "current shape = (4, 2)\n",
      "filling on, default _FillValue of -9223372036854775806 used\n",
      "[[0 1]\n",
      " [0 0]\n",
      " [0 0]\n",
      " [0 0]]\n",
      "\n",
      "========== AFTER ==================================\n",
      "** Keep in mind that in this display the origin is the upper \n",
      "** left of the grid! This is opposite of the way that ncdump \n",
      "** and ncview display data (origin is lower left)!!\n",
      "\n",
      "'/data/workflows/poker_flats_merged_data/run-mask.nc'\n",
      "<class 'netCDF4._netCDF4.Variable'>\n",
      "int64 run(Y, X)\n",
      "    grid_mapping: albers_conical_equal_area\n",
      "unlimited dimensions: \n",
      "current shape = (4, 2)\n",
      "filling on, default _FillValue of -9223372036854775806 used\n",
      "[[0 1]\n",
      " [0 0]\n",
      " [0 0]\n",
      " [0 0]]\n",
      "\n"
     ]
    }
   ],
   "source": [
    "#poker flats: 0, 1\n",
    "#caribou creek: 3, 0\n",
    "# setup runmask\n",
    "!/work/scripts/util/runmask.py --reset \\\n",
    "--yx 0 1 \\\n",
    "--show \\\n",
    "/data/workflows/poker_flats_merged_data/run-mask.nc"
   ]
  },
  {
   "cell_type": "code",
   "execution_count": 20,
   "id": "b28ef245",
   "metadata": {},
   "outputs": [
    {
     "name": "stdout",
     "output_type": "stream",
     "text": [
      "  -c [ --cal-mode ]                     Switch for calibration mode. When this \r\n",
      "                                        flag is present, the program will be \r\n",
      "                                        forced to run a single site and with \r\n",
      "                                        '--loop-order=space-major'. The program\r\n",
      "                                        will generate yearly and monthly .json \r\n",
      "                                        files (commonly somewhere in your /tmp \r\n",
      "                                        directory so that the operating system \r\n",
      "                                        will periodically clean them up). The \r\n",
      "                                        location that the .json files will be \r\n",
      "                                        written can be controlled by the \r\n",
      "                                        caldata_tree_loc configuration setting.\r\n",
      "  --force-cmt arg (=-1)                 Force the model to run with a \r\n",
      "                                        particular CMT number. Without this \r\n",
      "                                        flag, the model determines which CMT to\r\n",
      "                                        use for a grid cell based on the input \r\n",
      "                                        vegetation map (specified in the config\r\n",
      "                                        file). This flag allows the user to \r\n",
      "                                        force a grid cell to run with a \r\n",
      "                                        particular CMT regardless of what the \r\n",
      "                                        input vegetation map holds. If multiple\r\n",
      "                                        grid cells are being run then all cells\r\n",
      "                                        will be forced to the same vegetation \r\n",
      "                                        type.\r\n",
      "  --max-output-volume arg (=0.75 GB)    Sets the maximum allowed value for the \r\n",
      "                                        estimated output volume. If the \r\n",
      "                                        estimated output volume exceeds this \r\n",
      "                                        value, the program will quit. Use the \r\n",
      "                                        special value '-1' to indicate no cap \r\n",
      "                                        on output volume. Use this at your own \r\n",
      "                                        risk - you may end up filling your \r\n",
      "                                        hard-drive!\r\n",
      "  --no-output-cleanup                   Do not clean the output directory at \r\n",
      "                                        the beginning of a run. This might be \r\n",
      "                                        useful when running dvmdostem under the\r\n",
      "                                        control of an outside program such as \r\n",
      "                                        PEcAn that makes assumptions about the \r\n",
      "                                        presence of an output directory and may\r\n",
      "                                        perform its own cleanup.\r\n",
      "  --restart-run                         Restart at the first stage with >0 \r\n",
      "                                        years specified and do not overwrite \r\n",
      "                                        the files needed for that.\r\n",
      "  --inter-stage-pause                   With this flag, (and when in \r\n",
      "                                        calibration mode), the model will pause\r\n",
      "                                        and wait for user input at the end of \r\n",
      "                                        each run-stage.\r\n",
      "  --last-n-json arg (=-1)               Only output the json files for the last\r\n",
      "                                        N years. -1 indicates to output all \r\n",
      "                                        years. This is useful for running with \r\n",
      "                                        PEST, where we do need the json files \r\n",
      "                                        (and calibration mode), but PEST only \r\n",
      "                                        looks at the last year, so we can save \r\n",
      "                                        a lot of effort and only write out the \r\n",
      "                                        last file. Made this option \r\n",
      "                                        configurable so that we can write out a\r\n",
      "                                        number of files, in case we need to do \r\n",
      "                                        some averaging over the last few years \r\n",
      "                                        for PEST.\r\n",
      "  --tar-caljson                         When this flag is present, the \r\n",
      "                                        calibration-json files will be bundled \r\n",
      "                                        into a *-data.tar.gz archive at the end\r\n",
      "                                        of each stage. The prefix for the \r\n",
      "                                        archive will be a two letter code for \r\n",
      "                                        the run-stage, (i.e. 'pr', 'eq', 'sp', \r\n",
      "                                        'tr', or 'sc'). The resulting archive \r\n",
      "                                        will be written to the location \r\n",
      "                                        specified in the output_dir \r\n",
      "                                        configuration setting.\r\n",
      "  --archive-all-json                    DEPRECATED! Prefer --tar-caljson. With \r\n",
      "                                        this flag, the json files for every \r\n",
      "                                        stage will be archived (at the end of \r\n",
      "                                        the stage), into directory named for \r\n",
      "                                        the stage, within the main json output \r\n",
      "                                        directory location. Default behavior \r\n",
      "                                        (without this flag) is that each stage \r\n",
      "                                        overwrites the json files from the \r\n",
      "                                        previous stage.\r\n",
      "  -u [ --pid-tag ] arg                  Use the process ID (passed as an \r\n",
      "                                        argmument) to tag the output cal json \r\n",
      "                                        directories. Facilitates parallel runs,\r\n",
      "                                        but may make the calibration-viewer.py \r\n",
      "                                        more difficult to work with (must \r\n",
      "                                        pass/set the PID tag so that the \r\n",
      "                                        calibration-viewer.py knows where to \r\n",
      "                                        find the json files.)\r\n",
      "  -p [ --pr-yrs ] arg (=10)             Number of PRE RUN years to run.\r\n",
      "  -e [ --eq-yrs ] arg (=1000)           Number of EQUILIBRIUM years to run.\r\n",
      "  -s [ --sp-yrs ] arg (=100)            Number of SPINUP years to run.\r\n",
      "  -t [ --tr-yrs ] arg (=0)              Number of TRANSIENT years to run.\r\n",
      "  -n [ --sc-yrs ] arg (=0)              Number of SCENARIO years to run.\r\n",
      "  -o [ --loop-order ] arg (=space-major)\r\n",
      "                                        Which control loop is on the outside: \r\n",
      "                                        'space-major' or 'time-major'. For \r\n",
      "                                        example 'space-major' means 'for each \r\n",
      "                                        cohort, for each year'.\r\n",
      "  -f [ --ctrl-file ] arg (=config/config.js)\r\n",
      "                                        choose a control file to use\r\n",
      "  -l [ --log-level ] arg (=warn)        Control the verbosity of the console \r\n",
      "                                        log statements. Choose one of the \r\n",
      "                                        following: debug, info, note, warn, \r\n",
      "                                        err, fatal.\r\n",
      "  --log-scope arg (=all)                Control the scope of log messages: \r\n",
      "                                        yearly, monthly, or daily. With a \r\n",
      "                                        setting of M (monthly), messages within\r\n",
      "                                        the monthly (and yearly) scope will be \r\n",
      "                                        shown, but not messages within the \r\n",
      "                                        daily scope. Values other than 'Y', \r\n",
      "                                        'M', 'D', or 'all' will be ignored. \r\n",
      "                                        Scopes are determined by 'boost log \r\n",
      "                                        named scopes' set within the source \r\n",
      "                                        code.\r\n",
      "  -x [ --fpe ]                          Switch for enabling floating point \r\n",
      "                                        exceptions. If present, the program \r\n",
      "                                        will crash when NaN or Inf are \r\n",
      "                                        generated.\r\n",
      "  -h [ --help ]                         produces helps message, then quits\r\n",
      "\r\n"
     ]
    }
   ],
   "source": [
    "!dvmdostem --help"
   ]
  },
  {
   "cell_type": "code",
   "execution_count": 21,
   "id": "308a07d4",
   "metadata": {},
   "outputs": [],
   "source": [
    "path_to_drainage_input='/data/input-catalog/caribou-poker_merged/drainage.nc'\n",
    "drainage = nc.Dataset(path_to_drainage_input, 'r+')\n",
    "\n",
    "drainage['drainage_class'][0,1]=1\n",
    "\n",
    "drainage.close()"
   ]
  },
  {
   "cell_type": "code",
   "execution_count": 22,
   "id": "bcb2e027",
   "metadata": {},
   "outputs": [
    {
     "name": "stdout",
     "output_type": "stream",
     "text": [
      "<class 'netCDF4._netCDF4.Dataset'>\n",
      "root group (NETCDF4 data model, file format HDF5):\n",
      "    Conventions: CF-1.5\n",
      "    source: /home/UA/tcarman2/dvm-dos-tem/./scripts/create_region_input.py::fill_drainage_file --xoff 221779.360241855 --yoff 1638167.29849358\n",
      "    dimensions(sizes): Y(4), X(2)\n",
      "    variables(dimensions): |S1 albers_conical_equal_area(), int64 drainage_class(Y, X), float32 lat(Y, X), float32 lon(Y, X), int32 x(X), int32 y(Y)\n",
      "    groups: \n"
     ]
    }
   ],
   "source": [
    "drainage = nc.Dataset(path_to_drainage_input)\n",
    "print(drainage)"
   ]
  },
  {
   "cell_type": "code",
   "execution_count": 23,
   "id": "ec2ac980",
   "metadata": {},
   "outputs": [
    {
     "data": {
      "text/plain": [
       "masked_array(\n",
       "  data=[[0, 1],\n",
       "        [0, 1],\n",
       "        [0, 0],\n",
       "        [0, 0]],\n",
       "  mask=False,\n",
       "  fill_value=999999)"
      ]
     },
     "execution_count": 23,
     "metadata": {},
     "output_type": "execute_result"
    }
   ],
   "source": [
    "# poorly drained: 1, or well drained: 0\n",
    "drainage['drainage_class'][:]"
   ]
  },
  {
   "cell_type": "code",
   "execution_count": 24,
   "id": "caf9e3e9",
   "metadata": {},
   "outputs": [
    {
     "name": "stdout",
     "output_type": "stream",
     "text": [
      "<class 'netCDF4._netCDF4.Dataset'>\n",
      "root group (NETCDF4 data model, file format HDF5):\n",
      "    Conventions: CF-1.5\n",
      "    source: /home/UA/tcarman2/dvm-dos-tem/./scripts/create_region_input.py::fill_soil_texture_file --xoff 221779.360241855 --yoff 1638167.29849358\n",
      "    dimensions(sizes): Y(4), X(2)\n",
      "    variables(dimensions): |S1 albers_conical_equal_area(), float32 lat(Y, X), float32 lon(Y, X), float32 pct_clay(Y, X), float32 pct_sand(Y, X), float32 pct_silt(Y, X), int32 x(X), int32 y(Y)\n",
      "    groups: \n",
      "target cell is 10.0% clay, 27.0% sand, and 63.0% silt\n"
     ]
    }
   ],
   "source": [
    "path_to_soil_input='/data/input-catalog/caribou-poker/soil-texture.nc'\n",
    "soil_dataset = nc.Dataset(path_to_soil_input)\n",
    "print(soil_dataset)\n",
    "print('target cell is {}% clay, {}% sand, and {}% silt'.format(soil_dataset['pct_clay'][y_x[0], y_x[1]], \n",
    "                                                               soil_dataset['pct_sand'][y_x[0], y_x[1]], \n",
    "                                                               soil_dataset['pct_silt'][y_x[0], y_x[1]]))\n",
    "soil_dataset.close()"
   ]
  },
  {
   "cell_type": "code",
   "execution_count": 25,
   "id": "d7ba23b8",
   "metadata": {},
   "outputs": [
    {
     "name": "stdout",
     "output_type": "stream",
     "text": [
      "target cell is 10.0% clay, 27.0% sand, and 63.0% silt\n"
     ]
    }
   ],
   "source": [
    "\n",
    "soil_dataset = nc.Dataset(path_to_soil_input, 'r+')\n",
    "soil_dataset['pct_clay'][y_x[0], y_x[1]] = 10 # originally 4.70958137512207\n",
    "soil_dataset['pct_sand'][y_x[0], y_x[1]] = 27 # originally 55.84833908081055\n",
    "soil_dataset['pct_silt'][y_x[0], y_x[1]] = 63 # origially 39.44207763671875\n",
    "print('target cell is {}% clay, {}% sand, and {}% silt'.format(soil_dataset['pct_clay'][y_x[0], y_x[1]], \n",
    "                                                               soil_dataset['pct_sand'][y_x[0], y_x[1]], \n",
    "                                                               soil_dataset['pct_silt'][y_x[0], y_x[1]]))\n",
    "drainage.close()\n"
   ]
  },
  {
   "cell_type": "code",
   "execution_count": 26,
   "id": "3f69a0d0",
   "metadata": {},
   "outputs": [],
   "source": [
    "!/work/scripts/util/outspec.py ../data/workflows/poker_flats_merged_data/config/output_spec.csv --empty"
   ]
  },
  {
   "cell_type": "code",
   "execution_count": 27,
   "id": "089750dc",
   "metadata": {},
   "outputs": [],
   "source": [
    "!/work/scripts/util/outspec.py ../data/workflows/poker_flats_merged_data/config/output_spec.csv --on CMTNUM yearly"
   ]
  },
  {
   "cell_type": "code",
   "execution_count": 28,
   "id": "2c3058d5",
   "metadata": {},
   "outputs": [],
   "source": [
    "!/work/scripts/util/outspec.py ../data/workflows/poker_flats_merged_data/config/output_spec.csv --on GPP monthly"
   ]
  },
  {
   "cell_type": "code",
   "execution_count": 29,
   "id": "fbdb9776",
   "metadata": {},
   "outputs": [],
   "source": [
    "!/work/scripts/util/outspec.py ../data/workflows/poker_flats_merged_data/config/output_spec.csv --on SNOWTHICK monthly"
   ]
  },
  {
   "cell_type": "code",
   "execution_count": 30,
   "id": "6a75c2b6",
   "metadata": {},
   "outputs": [],
   "source": [
    "#!scripts/outspec_utils.py ../data/workflows/poker_flats_test/config/output_spec.csv --on TLAYER daily"
   ]
  },
  {
   "cell_type": "code",
   "execution_count": 31,
   "id": "b528bfc4",
   "metadata": {},
   "outputs": [],
   "source": [
    "#!scripts/outspec_utils.py ../data/workflows/poker_flats_test/config/output_spec.csv --on TLAYER daily"
   ]
  },
  {
   "cell_type": "code",
   "execution_count": 32,
   "id": "5553c696",
   "metadata": {},
   "outputs": [],
   "source": [
    "!/work/scripts/util/outspec.py ../data/workflows/poker_flats_merged_data/config/output_spec.csv --on RG monthly          "
   ]
  },
  {
   "cell_type": "code",
   "execution_count": 33,
   "id": "c958d291",
   "metadata": {},
   "outputs": [],
   "source": [
    "!/work/scripts/util/outspec.py ../data/workflows/poker_flats_merged_data/config/output_spec.csv --on RH monthly    "
   ]
  },
  {
   "cell_type": "code",
   "execution_count": 34,
   "id": "1d1edee0",
   "metadata": {},
   "outputs": [],
   "source": [
    "!/work/scripts/util/outspec.py ../data/workflows/poker_flats_merged_data/config/output_spec.csv --on RM monthly"
   ]
  },
  {
   "cell_type": "code",
   "execution_count": 35,
   "id": "0338dc99",
   "metadata": {},
   "outputs": [],
   "source": [
    "!/work/scripts/util/outspec.py ../data/workflows/poker_flats_merged_data/config/output_spec.csv --on NPP monthly    "
   ]
  },
  {
   "cell_type": "code",
   "execution_count": 36,
   "id": "d40cc495",
   "metadata": {},
   "outputs": [],
   "source": [
    "!/work/scripts/util/outspec.py ../data/workflows/poker_flats_merged_data/config/output_spec.csv --on EET monthly  "
   ]
  },
  {
   "cell_type": "code",
   "execution_count": 37,
   "id": "7ecca201",
   "metadata": {},
   "outputs": [],
   "source": [
    "!/work/scripts/util/outspec.py ../data/workflows/poker_flats_merged_data/config/output_spec.csv --on PET monthly  "
   ]
  },
  {
   "cell_type": "code",
   "execution_count": 38,
   "id": "28133fac",
   "metadata": {},
   "outputs": [],
   "source": [
    "!/work/scripts/util/outspec.py ../data/workflows/poker_flats_merged_data/config/output_spec.csv --on RAINFALL monthly "
   ]
  },
  {
   "cell_type": "code",
   "execution_count": 39,
   "id": "59b8cd6e",
   "metadata": {},
   "outputs": [],
   "source": [
    "!/work/scripts/util/outspec.py ../data/workflows/poker_flats_merged_data/config/output_spec.csv --on SWE monthly "
   ]
  },
  {
   "cell_type": "code",
   "execution_count": 40,
   "id": "dd40a0e6",
   "metadata": {},
   "outputs": [],
   "source": [
    "!/work/scripts/util/outspec.py ../data/workflows/poker_flats_merged_data/config/output_spec.csv --on ALD monthly"
   ]
  },
  {
   "cell_type": "code",
   "execution_count": 41,
   "id": "9fe9762a",
   "metadata": {},
   "outputs": [],
   "source": [
    "!/work/scripts/util/outspec.py ../data/workflows/poker_flats_merged_data/config/output_spec.csv --on TRANSPIRATION monthly"
   ]
  },
  {
   "cell_type": "code",
   "execution_count": 42,
   "id": "2a175bfd",
   "metadata": {},
   "outputs": [],
   "source": [
    "!/work/scripts/util/outspec.py ../data/workflows/poker_flats_merged_data/config/output_spec.csv --on VWCLAYER monthly layer"
   ]
  },
  {
   "cell_type": "code",
   "execution_count": 43,
   "id": "5dd41136",
   "metadata": {},
   "outputs": [],
   "source": [
    "!/work/scripts/util/outspec.py ../data/workflows/poker_flats_merged_data/config/output_spec.csv --on WATERTAB monthly"
   ]
  },
  {
   "cell_type": "code",
   "execution_count": 44,
   "id": "5db901ef",
   "metadata": {},
   "outputs": [],
   "source": [
    "!/work/scripts/util/outspec.py ../data/workflows/poker_flats_merged_data/config/output_spec.csv --on LWCLAYER monthly layer"
   ]
  },
  {
   "cell_type": "code",
   "execution_count": 45,
   "id": "365c5856",
   "metadata": {},
   "outputs": [],
   "source": [
    "!/work/scripts/util/outspec.py ../data/workflows/poker_flats_merged_data/config/output_spec.csv --on TLAYER monthly layer"
   ]
  },
  {
   "cell_type": "code",
   "execution_count": 46,
   "id": "2331dd76",
   "metadata": {},
   "outputs": [],
   "source": [
    "!/work/scripts/util/outspec.py ../data/workflows/poker_flats_merged_data/config/output_spec.csv --on LAYERDEPTH monthly layer"
   ]
  },
  {
   "cell_type": "code",
   "execution_count": 47,
   "id": "e3fc56ce",
   "metadata": {},
   "outputs": [],
   "source": [
    "!/work/scripts/util/outspec.py ../data/workflows/poker_flats_merged_data/config/output_spec.csv --on LAYERTYPE monthly layer"
   ]
  },
  {
   "cell_type": "code",
   "execution_count": 48,
   "id": "07ab3d92",
   "metadata": {},
   "outputs": [],
   "source": [
    "!/work/scripts/util/outspec.py ../data/workflows/poker_flats_merged_data/config/output_spec.csv --on LAYERDZ monthly layer"
   ]
  },
  {
   "cell_type": "code",
   "execution_count": 49,
   "id": "c378b863",
   "metadata": {},
   "outputs": [],
   "source": [
    "!/work/scripts/util/outspec.py ../data/workflows/poker_flats_merged_data/config/output_spec.csv --on MOSSDZ monthly"
   ]
  },
  {
   "cell_type": "code",
   "execution_count": 50,
   "id": "8264d9e5",
   "metadata": {
    "scrolled": true
   },
   "outputs": [],
   "source": [
    "!/work/scripts/util/outspec.py ../data/workflows/poker_flats_merged_data/config/output_spec.csv --on LAI monthly"
   ]
  },
  {
   "cell_type": "code",
   "execution_count": 51,
   "id": "0a5ae78e",
   "metadata": {},
   "outputs": [],
   "source": [
    "!/work/scripts/util/outspec.py ../data/workflows/poker_flats_merged_data/config/output_spec.csv --on DEEPDZ monthly"
   ]
  },
  {
   "cell_type": "code",
   "execution_count": 52,
   "id": "8073f246",
   "metadata": {},
   "outputs": [],
   "source": [
    "!/work/scripts/util/outspec.py ../data/workflows/poker_flats_merged_data/config/output_spec.csv --on SHLWDZ monthly"
   ]
  },
  {
   "cell_type": "code",
   "execution_count": 53,
   "id": "9eb3884b",
   "metadata": {},
   "outputs": [],
   "source": [
    "!/work/scripts/util/outspec.py ../data/workflows/poker_flats_merged_data/config/output_spec.csv --on DEEPC yearly"
   ]
  },
  {
   "cell_type": "code",
   "execution_count": 54,
   "id": "b2583844",
   "metadata": {},
   "outputs": [],
   "source": [
    "!/work/scripts/util/outspec.py ../data/workflows/poker_flats_merged_data/config/output_spec.csv --on MINEC yearly"
   ]
  },
  {
   "cell_type": "code",
   "execution_count": 55,
   "id": "ef7a7674",
   "metadata": {},
   "outputs": [],
   "source": [
    "!/work/scripts/util/outspec.py ../data/workflows/poker_flats_merged_data/config/output_spec.csv --on SHLWC yearly"
   ]
  },
  {
   "cell_type": "code",
   "execution_count": 56,
   "id": "50a4eb40",
   "metadata": {},
   "outputs": [],
   "source": [
    "!/work/scripts/util/outspec.py ../data/workflows/poker_flats_merged_data/config/output_spec.csv --on LTRFALC yearly"
   ]
  },
  {
   "cell_type": "code",
   "execution_count": 57,
   "id": "895ff989",
   "metadata": {},
   "outputs": [],
   "source": [
    "!/work/scripts/util/outspec.py ../data/workflows/poker_flats_merged_data/config/output_spec.csv --on AVLN yearly\n",
    "!/work/scripts/util/outspec.py ../data/workflows/poker_flats_merged_data/config/output_spec.csv --on ORGN yearly"
   ]
  },
  {
   "cell_type": "code",
   "execution_count": 58,
   "id": "e98d22bf",
   "metadata": {},
   "outputs": [
    {
     "name": "stdout",
     "output_type": "stream",
     "text": [
      "ALD                  Soil active layer depth\r\n",
      "AVLN                 Total soil available N\r\n",
      "BURNAIR2SOIN         Nitrogen deposit from fire emission\r\n",
      "BURNSOIC             Burned soil C\r\n",
      "BURNSOILN            Burned soil N\r\n",
      "BURNTHICK            Ground burn thickness \r\n",
      "BURNVEG2AIRC         Burned vegetation C to atmosphere\r\n",
      "BURNVEG2AIRN         Burned vegetation N to atmosphere\r\n",
      "BURNVEG2DEADC        Burned vegetation C to standing dead C\r\n",
      "BURNVEG2DEADN        Burned vegetation N to standing dead N\r\n",
      "BURNVEG2SOIABVC      Burned vegetation C to soil above\r\n",
      "BURNVEG2SOIABVN      Burned vegetation N to soil above\r\n",
      "BURNVEG2SOIBLWC      Burned vegetation C to soil below\r\n",
      "BURNVEG2SOIBLWN      Burned vegetation N to soil below\r\n",
      "CMTNUM               Community Type Number\r\n",
      "DEADC                Standing dead C\r\n",
      "DEADN                Standing dead N\r\n",
      "DEEPC                Amorphous SOM C\r\n",
      "DEEPDZ               Amorphous SOM horizon thickness\r\n",
      "DRIVINGNIRR          Input driving NIRR\r\n",
      "DRIVINGRAINFALL      Input driving precip data after being split from snowfall\r\n",
      "DRIVINGSNOWFALL      Input driving precip data after being split from rainfall\r\n",
      "DRIVINGTAIR          Input driving air temperature data\r\n",
      "DRIVINGVAPO          Input driving vapor pressure\r\n",
      "DWDC                 Dead woody debris C\r\n",
      "DWDN                 Dead woody debris N\r\n",
      "DWDRH                Dead woody debris HR\r\n",
      "EET                  Actual ET\r\n",
      "FRONTSDEPTH          Depth of fronts\r\n",
      "FRONTSTYPE           Front types\r\n",
      "GPP                  GPP\r\n",
      "GROWEND              Growing ending day\r\n",
      "GROWSTART            Growing starting day\r\n",
      "HKDEEP               Hydraulic conductivity in amorphous horizon\r\n",
      "HKLAYER              Hydraulic conductivity by layer\r\n",
      "HKMINEA              Hydraulic conductivity top mineral\r\n",
      "HKMINEB              Hydraulic conductivity middle mineral\r\n",
      "HKMINEC              Hydraulic conductivity bottom mineral\r\n",
      "HKSHLW               Hydraulic conductivity in fibrous horizon\r\n",
      "INGPP                GPP without N limitation\r\n",
      "INNPP                NPP witout N limitation\r\n",
      "INNUPTAKE            Unlimited N uptake by plants. N uptake by happy plants when N is not limited.\r\n",
      "IWCLAYER             IWC by layer\r\n",
      "LAI                  LAI\r\n",
      "LAYERDEPTH           Layer depth from the surface\r\n",
      "LAYERDZ              Thickness of layer\r\n",
      "LAYERTYPE            0:moss 1:shlw 2:deep 3:mineral\r\n",
      "LTRFALC              Litterfall C\r\n",
      "LTRFALN              Litterfall N\r\n",
      "LWCLAYER             LWC by layer\r\n",
      "MINEC                Mineral SOM C\r\n",
      "MOSSDEATHC           Moss death carbon\r\n",
      "MOSSDEATHN           Moss death nitrogen\r\n",
      "MOSSDZ               Moss thickness\r\n",
      "NDRAIN               N losses from drainage (AVLN)\r\n",
      "NETNMIN              Soil net N mineralization\r\n",
      "NIMMOB               Nitrogen immobilization\r\n",
      "NINPUT               N inputs into soil (AVLN)\r\n",
      "NLOST                N losses from soil (AVLN)\r\n",
      "NPP                  NPP\r\n",
      "NRESORB              NRESORB\r\n",
      "NUPTAKELAB           Labile N uptake by plants\r\n",
      "NUPTAKEST            Structural N uptake by plants\r\n",
      "ORGN                 Total soil organic N\r\n",
      "PERCOLATION          Percolation by layer\r\n",
      "PERMAFROST           Permafrost (1 or 0)\r\n",
      "PET                  Potential ET\r\n",
      "QDRAINAGE            Water drainage quotient (~ratio)\r\n",
      "QDRAINLAYER          Qdrain per layer\r\n",
      "QINFILTRATION        Water infiltration quotient (~ratio)\r\n",
      "QRUNOFF              Water runoff quotient (~ratio)\r\n",
      "RAINFALL             Total rainfall\r\n",
      "RG                   Growth respiration\r\n",
      "RH                   Heterotrophic respiration\r\n",
      "RM                   Maintenance respiration\r\n",
      "ROLB                 Relative organic horizon burned ratio C\r\n",
      "ROOTWATERUPTAKE      Water uptake by roots per layer\r\n",
      "SHLWC                Fibrous SOM C\r\n",
      "SHLWDZ               Fibrous SOM horizon thickness\r\n",
      "SNOWEND              DOY of last snow fall\r\n",
      "SNOWFALL             Total snowfall\r\n",
      "SNOWSTART            DOY of first snow fall\r\n",
      "SNOWTHICK            Snow pack thickness\r\n",
      "SOMA                 Soil organic C active\r\n",
      "SOMCR                Soil organic C chemically resistant\r\n",
      "SOMPR                Soil organic C physically resistant\r\n",
      "SOMRAWC              Soil organic C raw\r\n",
      "SWE                  Snow water equivalent\r\n",
      "TCDEEP               Thermal conductivity in amorphous horizon\r\n",
      "TCLAYER              Thermal conductivity by layer\r\n",
      "TCMINEA              Thermal conductivity top mineral\r\n",
      "TCMINEB              Thermal conductivity middle mineral\r\n",
      "TCMINEC              Thermal conductivity bottom mineral\r\n",
      "TCSHLW               Thermal conductivity in fibrous horizon\r\n",
      "TDEEP                Temperature in amorphous horizon\r\n",
      "TLAYER               Temperature by layer\r\n",
      "TMINEA               Temperature top mineral\r\n",
      "TMINEB               Temperature middle mineral\r\n",
      "TMINEC               Temperature bottom mineral\r\n",
      "TRANSPIRATION        Transpiration\r\n",
      "TSHLW                Temperature in fibrous horizon\r\n",
      "VEGC                 Total veg. biomass C\r\n",
      "VEGN                 Total veg. biomass N\r\n",
      "VWCDEEP              VWC in amorphous horizon\r\n",
      "VWCLAYER             VWC by layer\r\n",
      "VWCMINEA             VWC top mineral\r\n",
      "VWCMINEB             VWC middle mineral\r\n",
      "VWCMINEC             VWC bottom mineral\r\n",
      "VWCSHLW              VWC in fibrous horizon\r\n",
      "WATERTAB             Water table depth below surface\r\n",
      "YSD                  Years since last disturbance\r\n"
     ]
    }
   ],
   "source": [
    "#force input data to site obs: --force-cmt {#}  black spruce = 1, deciduous = 3\n",
    "#!scripts/outspec_utils.py --help\n",
    "!/work/scripts/util/outspec.py --list-vars ../data/workflows/poker_flats_merged_data/config/output_spec.csv\n",
    "#!scripts/outspec_utils.py --on LAI yearly ../data/workflows/poker_flats_test/config/output_spec.csv\n",
    "#!scripts/outspec_utils.py --summary ../data/workflows/poker_flats_test/config/output_spec.csv\n",
    "\n"
   ]
  },
  {
   "cell_type": "code",
   "execution_count": 59,
   "id": "c9951459",
   "metadata": {},
   "outputs": [],
   "source": [
    "#also force drainage (poorly drained: 1, or well drained: 0), "
   ]
  },
  {
   "cell_type": "code",
   "execution_count": 60,
   "id": "e9121c83",
   "metadata": {},
   "outputs": [
    {
     "name": "stdout",
     "output_type": "stream",
     "text": [
      "/data/workflows/poker_flats_merged_data\n"
     ]
    }
   ],
   "source": [
    "%cd /data/workflows/poker_flats_merged_data"
   ]
  },
  {
   "cell_type": "code",
   "execution_count": 61,
   "id": "fda77421",
   "metadata": {
    "scrolled": true
   },
   "outputs": [
    {
     "name": "stdout",
     "output_type": "stream",
     "text": [
      "Setting up logging...\n",
      "[fatal] [] Skipping cell (0, 0)\n",
      "[err] [] Unknown datatype: '6'. Returning empty vector.\n",
      "[err] [] Unknown datatype: '6'. Returning empty vector.\n",
      "[err] [] Unknown datatype: '6'. Returning empty vector.\n",
      "[err] [] Unknown datatype: '6'. Returning empty vector.\n",
      "[err] [PRE-RUN->Y] y: 0 x: 1 Year: 0\n",
      "[err] [PRE-RUN->Y] y: 0 x: 1 Year: 1\n",
      "[err] [PRE-RUN->Y] y: 0 x: 1 Year: 2\n",
      "[err] [PRE-RUN->Y] y: 0 x: 1 Year: 3\n",
      "[err] [PRE-RUN->Y] y: 0 x: 1 Year: 4\n",
      "[err] [PRE-RUN->Y] y: 0 x: 1 Year: 5\n",
      "[err] [PRE-RUN->Y] y: 0 x: 1 Year: 6\n",
      "[err] [PRE-RUN->Y] y: 0 x: 1 Year: 7\n",
      "[err] [PRE-RUN->Y] y: 0 x: 1 Year: 8\n",
      "[err] [PRE-RUN->Y] y: 0 x: 1 Year: 9\n",
      "[fatal] [EQ] Equilibrium Initial Year Count: 500\n",
      "[fatal] [EQ] Running Equilibrium, 500 years.\n",
      "[err] [EQ->Y] y: 0 x: 1 Year: 0\n",
      "[err] [EQ->Y] y: 0 x: 1 Year: 1\n",
      "[err] [EQ->Y] y: 0 x: 1 Year: 2\n",
      "[err] [EQ->Y] y: 0 x: 1 Year: 3\n",
      "[err] [EQ->Y] y: 0 x: 1 Year: 4\n",
      "[err] [EQ->Y] y: 0 x: 1 Year: 5\n",
      "[err] [EQ->Y] y: 0 x: 1 Year: 6\n",
      "[err] [EQ->Y] y: 0 x: 1 Year: 7\n",
      "[err] [EQ->Y] y: 0 x: 1 Year: 8\n",
      "[err] [EQ->Y] y: 0 x: 1 Year: 9\n",
      "[err] [EQ->Y] y: 0 x: 1 Year: 10\n",
      "[err] [EQ->Y] y: 0 x: 1 Year: 11\n",
      "[err] [EQ->Y] y: 0 x: 1 Year: 12\n",
      "[err] [EQ->Y] y: 0 x: 1 Year: 13\n",
      "[err] [EQ->Y] y: 0 x: 1 Year: 14\n",
      "[err] [EQ->Y] y: 0 x: 1 Year: 15\n",
      "[err] [EQ->Y] y: 0 x: 1 Year: 16\n",
      "[err] [EQ->Y] y: 0 x: 1 Year: 17\n",
      "[err] [EQ->Y] y: 0 x: 1 Year: 18\n",
      "[err] [EQ->Y] y: 0 x: 1 Year: 19\n",
      "[err] [EQ->Y] y: 0 x: 1 Year: 20\n",
      "[err] [EQ->Y] y: 0 x: 1 Year: 21\n",
      "[err] [EQ->Y] y: 0 x: 1 Year: 22\n",
      "[err] [EQ->Y] y: 0 x: 1 Year: 23\n",
      "[err] [EQ->Y] y: 0 x: 1 Year: 24\n",
      "[err] [EQ->Y] y: 0 x: 1 Year: 25\n",
      "[err] [EQ->Y] y: 0 x: 1 Year: 26\n",
      "[err] [EQ->Y] y: 0 x: 1 Year: 27\n",
      "[err] [EQ->Y] y: 0 x: 1 Year: 28\n",
      "[err] [EQ->Y] y: 0 x: 1 Year: 29\n",
      "[err] [EQ->Y] y: 0 x: 1 Year: 30\n",
      "[err] [EQ->Y] y: 0 x: 1 Year: 31\n",
      "[err] [EQ->Y] y: 0 x: 1 Year: 32\n",
      "[err] [EQ->Y] y: 0 x: 1 Year: 33\n",
      "[err] [EQ->Y] y: 0 x: 1 Year: 34\n",
      "[err] [EQ->Y] y: 0 x: 1 Year: 35\n",
      "[err] [EQ->Y] y: 0 x: 1 Year: 36\n",
      "[err] [EQ->Y] y: 0 x: 1 Year: 37\n",
      "[err] [EQ->Y] y: 0 x: 1 Year: 38\n",
      "[err] [EQ->Y] y: 0 x: 1 Year: 39\n",
      "[err] [EQ->Y] y: 0 x: 1 Year: 40\n",
      "[err] [EQ->Y] y: 0 x: 1 Year: 41\n",
      "[err] [EQ->Y] y: 0 x: 1 Year: 42\n",
      "[err] [EQ->Y] y: 0 x: 1 Year: 43\n",
      "[err] [EQ->Y] y: 0 x: 1 Year: 44\n",
      "[err] [EQ->Y] y: 0 x: 1 Year: 45\n",
      "[err] [EQ->Y] y: 0 x: 1 Year: 46\n",
      "[err] [EQ->Y] y: 0 x: 1 Year: 47\n",
      "[err] [EQ->Y] y: 0 x: 1 Year: 48\n",
      "[err] [EQ->Y] y: 0 x: 1 Year: 49\n",
      "[err] [EQ->Y] y: 0 x: 1 Year: 50\n",
      "[err] [EQ->Y] y: 0 x: 1 Year: 51\n",
      "[err] [EQ->Y] y: 0 x: 1 Year: 52\n",
      "[err] [EQ->Y] y: 0 x: 1 Year: 53\n",
      "[err] [EQ->Y] y: 0 x: 1 Year: 54\n",
      "[err] [EQ->Y] y: 0 x: 1 Year: 55\n",
      "[err] [EQ->Y] y: 0 x: 1 Year: 56\n",
      "[err] [EQ->Y] y: 0 x: 1 Year: 57\n",
      "[err] [EQ->Y] y: 0 x: 1 Year: 58\n",
      "[err] [EQ->Y] y: 0 x: 1 Year: 59\n",
      "[err] [EQ->Y] y: 0 x: 1 Year: 60\n",
      "[err] [EQ->Y] y: 0 x: 1 Year: 61\n",
      "[err] [EQ->Y] y: 0 x: 1 Year: 62\n",
      "[err] [EQ->Y] y: 0 x: 1 Year: 63\n",
      "[err] [EQ->Y] y: 0 x: 1 Year: 64\n",
      "[err] [EQ->Y] y: 0 x: 1 Year: 65\n",
      "[err] [EQ->Y] y: 0 x: 1 Year: 66\n",
      "[err] [EQ->Y] y: 0 x: 1 Year: 67\n",
      "[err] [EQ->Y] y: 0 x: 1 Year: 68\n",
      "[err] [EQ->Y] y: 0 x: 1 Year: 69\n",
      "[err] [EQ->Y] y: 0 x: 1 Year: 70\n",
      "[err] [EQ->Y] y: 0 x: 1 Year: 71\n",
      "[err] [EQ->Y] y: 0 x: 1 Year: 72\n",
      "[err] [EQ->Y] y: 0 x: 1 Year: 73\n",
      "[err] [EQ->Y] y: 0 x: 1 Year: 74\n",
      "[err] [EQ->Y] y: 0 x: 1 Year: 75\n",
      "[err] [EQ->Y] y: 0 x: 1 Year: 76\n",
      "[err] [EQ->Y] y: 0 x: 1 Year: 77\n",
      "[err] [EQ->Y] y: 0 x: 1 Year: 78\n",
      "[err] [EQ->Y] y: 0 x: 1 Year: 79\n",
      "[err] [EQ->Y] y: 0 x: 1 Year: 80\n",
      "[err] [EQ->Y] y: 0 x: 1 Year: 81\n",
      "[err] [EQ->Y] y: 0 x: 1 Year: 82\n",
      "[err] [EQ->Y] y: 0 x: 1 Year: 83\n",
      "[err] [EQ->Y] y: 0 x: 1 Year: 84\n",
      "[err] [EQ->Y] y: 0 x: 1 Year: 85\n",
      "[err] [EQ->Y] y: 0 x: 1 Year: 86\n",
      "[err] [EQ->Y] y: 0 x: 1 Year: 87\n",
      "[err] [EQ->Y] y: 0 x: 1 Year: 88\n",
      "[err] [EQ->Y] y: 0 x: 1 Year: 89\n",
      "[err] [EQ->Y] y: 0 x: 1 Year: 90\n",
      "[err] [EQ->Y] y: 0 x: 1 Year: 91\n",
      "[err] [EQ->Y] y: 0 x: 1 Year: 92\n",
      "[err] [EQ->Y] y: 0 x: 1 Year: 93\n",
      "[err] [EQ->Y] y: 0 x: 1 Year: 94\n",
      "[err] [EQ->Y] y: 0 x: 1 Year: 95\n",
      "[err] [EQ->Y] y: 0 x: 1 Year: 96\n",
      "[err] [EQ->Y] y: 0 x: 1 Year: 97\n",
      "[err] [EQ->Y] y: 0 x: 1 Year: 98\n",
      "[err] [EQ->Y] y: 0 x: 1 Year: 99\n",
      "[err] [EQ->Y] y: 0 x: 1 Year: 100\n",
      "[err] [EQ->Y] y: 0 x: 1 Year: 101\n",
      "[err] [EQ->Y] y: 0 x: 1 Year: 102\n",
      "[err] [EQ->Y] y: 0 x: 1 Year: 103\n",
      "[err] [EQ->Y] y: 0 x: 1 Year: 104\n",
      "[err] [EQ->Y] y: 0 x: 1 Year: 105\n",
      "[err] [EQ->Y] y: 0 x: 1 Year: 106\n",
      "[err] [EQ->Y] y: 0 x: 1 Year: 107\n",
      "[err] [EQ->Y] y: 0 x: 1 Year: 108\n",
      "[err] [EQ->Y] y: 0 x: 1 Year: 109\n",
      "[err] [EQ->Y] y: 0 x: 1 Year: 110\n",
      "[err] [EQ->Y] y: 0 x: 1 Year: 111\n",
      "[err] [EQ->Y] y: 0 x: 1 Year: 112\n",
      "[err] [EQ->Y] y: 0 x: 1 Year: 113\n",
      "[err] [EQ->Y] y: 0 x: 1 Year: 114\n",
      "[err] [EQ->Y] y: 0 x: 1 Year: 115\n",
      "[err] [EQ->Y] y: 0 x: 1 Year: 116\n",
      "[err] [EQ->Y] y: 0 x: 1 Year: 117\n",
      "[err] [EQ->Y] y: 0 x: 1 Year: 118\n",
      "[err] [EQ->Y] y: 0 x: 1 Year: 119\n",
      "[err] [EQ->Y] y: 0 x: 1 Year: 120\n",
      "[err] [EQ->Y] y: 0 x: 1 Year: 121\n",
      "[err] [EQ->Y] y: 0 x: 1 Year: 122\n",
      "[err] [EQ->Y] y: 0 x: 1 Year: 123\n",
      "[err] [EQ->Y] y: 0 x: 1 Year: 124\n",
      "[err] [EQ->Y] y: 0 x: 1 Year: 125\n",
      "[err] [EQ->Y] y: 0 x: 1 Year: 126\n",
      "[err] [EQ->Y] y: 0 x: 1 Year: 127\n",
      "[err] [EQ->Y] y: 0 x: 1 Year: 128\n",
      "[err] [EQ->Y] y: 0 x: 1 Year: 129\n",
      "[err] [EQ->Y] y: 0 x: 1 Year: 130\n",
      "[err] [EQ->Y] y: 0 x: 1 Year: 131\n",
      "[err] [EQ->Y] y: 0 x: 1 Year: 132\n",
      "[err] [EQ->Y] y: 0 x: 1 Year: 133\n",
      "[err] [EQ->Y] y: 0 x: 1 Year: 134\n",
      "[err] [EQ->Y] y: 0 x: 1 Year: 135\n",
      "[err] [EQ->Y] y: 0 x: 1 Year: 136\n",
      "[err] [EQ->Y] y: 0 x: 1 Year: 137\n",
      "[err] [EQ->Y] y: 0 x: 1 Year: 138\n",
      "[err] [EQ->Y] y: 0 x: 1 Year: 139\n",
      "[err] [EQ->Y] y: 0 x: 1 Year: 140\n",
      "[err] [EQ->Y] y: 0 x: 1 Year: 141\n",
      "[err] [EQ->Y] y: 0 x: 1 Year: 142\n",
      "[err] [EQ->Y] y: 0 x: 1 Year: 143\n",
      "[err] [EQ->Y] y: 0 x: 1 Year: 144\n",
      "[err] [EQ->Y] y: 0 x: 1 Year: 145\n",
      "[err] [EQ->Y] y: 0 x: 1 Year: 146\n",
      "[err] [EQ->Y] y: 0 x: 1 Year: 147\n",
      "[err] [EQ->Y] y: 0 x: 1 Year: 148\n",
      "[err] [EQ->Y] y: 0 x: 1 Year: 149\n",
      "[err] [EQ->Y] y: 0 x: 1 Year: 150\n",
      "[err] [EQ->Y] y: 0 x: 1 Year: 151\n",
      "[err] [EQ->Y] y: 0 x: 1 Year: 152\n",
      "[err] [EQ->Y] y: 0 x: 1 Year: 153\n",
      "[err] [EQ->Y] y: 0 x: 1 Year: 154\n",
      "[err] [EQ->Y] y: 0 x: 1 Year: 155\n",
      "[err] [EQ->Y] y: 0 x: 1 Year: 156\n",
      "[err] [EQ->Y] y: 0 x: 1 Year: 157\n",
      "[err] [EQ->Y] y: 0 x: 1 Year: 158\n",
      "[err] [EQ->Y] y: 0 x: 1 Year: 159\n",
      "[err] [EQ->Y] y: 0 x: 1 Year: 160\n",
      "[err] [EQ->Y] y: 0 x: 1 Year: 161\n",
      "[err] [EQ->Y] y: 0 x: 1 Year: 162\n",
      "[err] [EQ->Y] y: 0 x: 1 Year: 163\n",
      "[err] [EQ->Y] y: 0 x: 1 Year: 164\n",
      "[err] [EQ->Y] y: 0 x: 1 Year: 165\n",
      "[err] [EQ->Y] y: 0 x: 1 Year: 166\n",
      "[err] [EQ->Y] y: 0 x: 1 Year: 167\n",
      "[err] [EQ->Y] y: 0 x: 1 Year: 168\n",
      "[err] [EQ->Y] y: 0 x: 1 Year: 169\n",
      "[err] [EQ->Y] y: 0 x: 1 Year: 170\n",
      "[err] [EQ->Y] y: 0 x: 1 Year: 171\n",
      "[err] [EQ->Y] y: 0 x: 1 Year: 172\n",
      "[err] [EQ->Y] y: 0 x: 1 Year: 173\n",
      "[err] [EQ->Y] y: 0 x: 1 Year: 174\n",
      "[err] [EQ->Y] y: 0 x: 1 Year: 175\n",
      "[err] [EQ->Y] y: 0 x: 1 Year: 176\n",
      "[err] [EQ->Y] y: 0 x: 1 Year: 177\n",
      "[err] [EQ->Y] y: 0 x: 1 Year: 178\n",
      "[err] [EQ->Y] y: 0 x: 1 Year: 179\n",
      "[err] [EQ->Y] y: 0 x: 1 Year: 180\n",
      "[err] [EQ->Y] y: 0 x: 1 Year: 181\n",
      "[err] [EQ->Y] y: 0 x: 1 Year: 182\n",
      "[err] [EQ->Y] y: 0 x: 1 Year: 183\n",
      "[err] [EQ->Y] y: 0 x: 1 Year: 184\n",
      "[err] [EQ->Y] y: 0 x: 1 Year: 185\n",
      "[err] [EQ->Y] y: 0 x: 1 Year: 186\n",
      "[err] [EQ->Y] y: 0 x: 1 Year: 187\n",
      "[err] [EQ->Y] y: 0 x: 1 Year: 188\n",
      "[err] [EQ->Y] y: 0 x: 1 Year: 189\n",
      "[err] [EQ->Y] y: 0 x: 1 Year: 190\n",
      "[err] [EQ->Y] y: 0 x: 1 Year: 191\n",
      "[err] [EQ->Y] y: 0 x: 1 Year: 192\n",
      "[err] [EQ->Y] y: 0 x: 1 Year: 193\n",
      "[err] [EQ->Y] y: 0 x: 1 Year: 194\n",
      "[err] [EQ->Y] y: 0 x: 1 Year: 195\n",
      "[err] [EQ->Y] y: 0 x: 1 Year: 196\n",
      "[err] [EQ->Y] y: 0 x: 1 Year: 197\n",
      "[err] [EQ->Y] y: 0 x: 1 Year: 198\n",
      "[err] [EQ->Y] y: 0 x: 1 Year: 199\n",
      "[err] [EQ->Y] y: 0 x: 1 Year: 200\n",
      "[err] [EQ->Y] y: 0 x: 1 Year: 201\n",
      "[err] [EQ->Y] y: 0 x: 1 Year: 202\n",
      "[err] [EQ->Y] y: 0 x: 1 Year: 203\n",
      "[err] [EQ->Y] y: 0 x: 1 Year: 204\n",
      "[err] [EQ->Y] y: 0 x: 1 Year: 205\n",
      "[err] [EQ->Y] y: 0 x: 1 Year: 206\n",
      "[err] [EQ->Y] y: 0 x: 1 Year: 207\n",
      "[err] [EQ->Y] y: 0 x: 1 Year: 208\n",
      "[err] [EQ->Y] y: 0 x: 1 Year: 209\n",
      "[err] [EQ->Y] y: 0 x: 1 Year: 210\n",
      "[err] [EQ->Y] y: 0 x: 1 Year: 211\n",
      "[err] [EQ->Y] y: 0 x: 1 Year: 212\n",
      "[err] [EQ->Y] y: 0 x: 1 Year: 213\n",
      "[err] [EQ->Y] y: 0 x: 1 Year: 214\n",
      "[err] [EQ->Y] y: 0 x: 1 Year: 215\n",
      "[err] [EQ->Y] y: 0 x: 1 Year: 216\n",
      "[err] [EQ->Y] y: 0 x: 1 Year: 217\n",
      "[err] [EQ->Y] y: 0 x: 1 Year: 218\n",
      "[err] [EQ->Y] y: 0 x: 1 Year: 219\n",
      "[err] [EQ->Y] y: 0 x: 1 Year: 220\n",
      "[err] [EQ->Y] y: 0 x: 1 Year: 221\n",
      "[err] [EQ->Y] y: 0 x: 1 Year: 222\n"
     ]
    },
    {
     "name": "stdout",
     "output_type": "stream",
     "text": [
      "[err] [EQ->Y] y: 0 x: 1 Year: 223\n",
      "[err] [EQ->Y] y: 0 x: 1 Year: 224\n",
      "[err] [EQ->Y] y: 0 x: 1 Year: 225\n",
      "[err] [EQ->Y] y: 0 x: 1 Year: 226\n",
      "[err] [EQ->Y] y: 0 x: 1 Year: 227\n",
      "[err] [EQ->Y] y: 0 x: 1 Year: 228\n",
      "[err] [EQ->Y] y: 0 x: 1 Year: 229\n",
      "[err] [EQ->Y] y: 0 x: 1 Year: 230\n",
      "[err] [EQ->Y] y: 0 x: 1 Year: 231\n",
      "[err] [EQ->Y] y: 0 x: 1 Year: 232\n",
      "[err] [EQ->Y] y: 0 x: 1 Year: 233\n",
      "[err] [EQ->Y] y: 0 x: 1 Year: 234\n",
      "[err] [EQ->Y] y: 0 x: 1 Year: 235\n",
      "[err] [EQ->Y] y: 0 x: 1 Year: 236\n",
      "[err] [EQ->Y] y: 0 x: 1 Year: 237\n",
      "[err] [EQ->Y] y: 0 x: 1 Year: 238\n",
      "[err] [EQ->Y] y: 0 x: 1 Year: 239\n",
      "[err] [EQ->Y] y: 0 x: 1 Year: 240\n",
      "[err] [EQ->Y] y: 0 x: 1 Year: 241\n",
      "[err] [EQ->Y] y: 0 x: 1 Year: 242\n",
      "[err] [EQ->Y] y: 0 x: 1 Year: 243\n",
      "[err] [EQ->Y] y: 0 x: 1 Year: 244\n",
      "[err] [EQ->Y] y: 0 x: 1 Year: 245\n",
      "[err] [EQ->Y] y: 0 x: 1 Year: 246\n",
      "[err] [EQ->Y] y: 0 x: 1 Year: 247\n",
      "[err] [EQ->Y] y: 0 x: 1 Year: 248\n",
      "[err] [EQ->Y] y: 0 x: 1 Year: 249\n",
      "[err] [EQ->Y] y: 0 x: 1 Year: 250\n",
      "[err] [EQ->Y] y: 0 x: 1 Year: 251\n",
      "[err] [EQ->Y] y: 0 x: 1 Year: 252\n",
      "[err] [EQ->Y] y: 0 x: 1 Year: 253\n",
      "[err] [EQ->Y] y: 0 x: 1 Year: 254\n",
      "[err] [EQ->Y] y: 0 x: 1 Year: 255\n",
      "[err] [EQ->Y] y: 0 x: 1 Year: 256\n",
      "[err] [EQ->Y] y: 0 x: 1 Year: 257\n",
      "[err] [EQ->Y] y: 0 x: 1 Year: 258\n",
      "[err] [EQ->Y] y: 0 x: 1 Year: 259\n",
      "[err] [EQ->Y] y: 0 x: 1 Year: 260\n",
      "[err] [EQ->Y] y: 0 x: 1 Year: 261\n",
      "[err] [EQ->Y] y: 0 x: 1 Year: 262\n",
      "[err] [EQ->Y] y: 0 x: 1 Year: 263\n",
      "[err] [EQ->Y] y: 0 x: 1 Year: 264\n",
      "[err] [EQ->Y] y: 0 x: 1 Year: 265\n",
      "[err] [EQ->Y] y: 0 x: 1 Year: 266\n",
      "[err] [EQ->Y] y: 0 x: 1 Year: 267\n",
      "[err] [EQ->Y] y: 0 x: 1 Year: 268\n",
      "[err] [EQ->Y] y: 0 x: 1 Year: 269\n",
      "[err] [EQ->Y] y: 0 x: 1 Year: 270\n",
      "[err] [EQ->Y] y: 0 x: 1 Year: 271\n",
      "[err] [EQ->Y] y: 0 x: 1 Year: 272\n",
      "[err] [EQ->Y] y: 0 x: 1 Year: 273\n",
      "[err] [EQ->Y] y: 0 x: 1 Year: 274\n",
      "[err] [EQ->Y] y: 0 x: 1 Year: 275\n",
      "[err] [EQ->Y] y: 0 x: 1 Year: 276\n",
      "[err] [EQ->Y] y: 0 x: 1 Year: 277\n",
      "[err] [EQ->Y] y: 0 x: 1 Year: 278\n",
      "[err] [EQ->Y] y: 0 x: 1 Year: 279\n",
      "[err] [EQ->Y] y: 0 x: 1 Year: 280\n",
      "[err] [EQ->Y] y: 0 x: 1 Year: 281\n",
      "[err] [EQ->Y] y: 0 x: 1 Year: 282\n",
      "[err] [EQ->Y] y: 0 x: 1 Year: 283\n",
      "[err] [EQ->Y] y: 0 x: 1 Year: 284\n",
      "[err] [EQ->Y] y: 0 x: 1 Year: 285\n",
      "[err] [EQ->Y] y: 0 x: 1 Year: 286\n",
      "[err] [EQ->Y] y: 0 x: 1 Year: 287\n",
      "[err] [EQ->Y] y: 0 x: 1 Year: 288\n",
      "[err] [EQ->Y] y: 0 x: 1 Year: 289\n",
      "[err] [EQ->Y] y: 0 x: 1 Year: 290\n",
      "[err] [EQ->Y] y: 0 x: 1 Year: 291\n",
      "[err] [EQ->Y] y: 0 x: 1 Year: 292\n",
      "[err] [EQ->Y] y: 0 x: 1 Year: 293\n",
      "[err] [EQ->Y] y: 0 x: 1 Year: 294\n",
      "[err] [EQ->Y] y: 0 x: 1 Year: 295\n",
      "[err] [EQ->Y] y: 0 x: 1 Year: 296\n",
      "[err] [EQ->Y] y: 0 x: 1 Year: 297\n",
      "[err] [EQ->Y] y: 0 x: 1 Year: 298\n",
      "[err] [EQ->Y] y: 0 x: 1 Year: 299\n",
      "[err] [EQ->Y] y: 0 x: 1 Year: 300\n",
      "[err] [EQ->Y] y: 0 x: 1 Year: 301\n",
      "[err] [EQ->Y] y: 0 x: 1 Year: 302\n",
      "[err] [EQ->Y] y: 0 x: 1 Year: 303\n",
      "[err] [EQ->Y] y: 0 x: 1 Year: 304\n",
      "[err] [EQ->Y] y: 0 x: 1 Year: 305\n",
      "[err] [EQ->Y] y: 0 x: 1 Year: 306\n",
      "[err] [EQ->Y] y: 0 x: 1 Year: 307\n",
      "[err] [EQ->Y] y: 0 x: 1 Year: 308\n",
      "[err] [EQ->Y] y: 0 x: 1 Year: 309\n",
      "[err] [EQ->Y] y: 0 x: 1 Year: 310\n",
      "[err] [EQ->Y] y: 0 x: 1 Year: 311\n",
      "[err] [EQ->Y] y: 0 x: 1 Year: 312\n",
      "[err] [EQ->Y] y: 0 x: 1 Year: 313\n",
      "[err] [EQ->Y] y: 0 x: 1 Year: 314\n",
      "[err] [EQ->Y] y: 0 x: 1 Year: 315\n",
      "[err] [EQ->Y] y: 0 x: 1 Year: 316\n",
      "[err] [EQ->Y] y: 0 x: 1 Year: 317\n",
      "[err] [EQ->Y] y: 0 x: 1 Year: 318\n",
      "[err] [EQ->Y] y: 0 x: 1 Year: 319\n",
      "[err] [EQ->Y] y: 0 x: 1 Year: 320\n",
      "[err] [EQ->Y] y: 0 x: 1 Year: 321\n",
      "[err] [EQ->Y] y: 0 x: 1 Year: 322\n",
      "[err] [EQ->Y] y: 0 x: 1 Year: 323\n",
      "[err] [EQ->Y] y: 0 x: 1 Year: 324\n",
      "[err] [EQ->Y] y: 0 x: 1 Year: 325\n",
      "[err] [EQ->Y] y: 0 x: 1 Year: 326\n",
      "[err] [EQ->Y] y: 0 x: 1 Year: 327\n",
      "[err] [EQ->Y] y: 0 x: 1 Year: 328\n",
      "[err] [EQ->Y] y: 0 x: 1 Year: 329\n",
      "[err] [EQ->Y] y: 0 x: 1 Year: 330\n",
      "[err] [EQ->Y] y: 0 x: 1 Year: 331\n",
      "[err] [EQ->Y] y: 0 x: 1 Year: 332\n",
      "[err] [EQ->Y] y: 0 x: 1 Year: 333\n",
      "[err] [EQ->Y] y: 0 x: 1 Year: 334\n",
      "[err] [EQ->Y] y: 0 x: 1 Year: 335\n",
      "[err] [EQ->Y] y: 0 x: 1 Year: 336\n",
      "[err] [EQ->Y] y: 0 x: 1 Year: 337\n",
      "[err] [EQ->Y] y: 0 x: 1 Year: 338\n",
      "[err] [EQ->Y] y: 0 x: 1 Year: 339\n",
      "[err] [EQ->Y] y: 0 x: 1 Year: 340\n",
      "[err] [EQ->Y] y: 0 x: 1 Year: 341\n",
      "[err] [EQ->Y] y: 0 x: 1 Year: 342\n",
      "[err] [EQ->Y] y: 0 x: 1 Year: 343\n",
      "[err] [EQ->Y] y: 0 x: 1 Year: 344\n",
      "[err] [EQ->Y] y: 0 x: 1 Year: 345\n",
      "[err] [EQ->Y] y: 0 x: 1 Year: 346\n",
      "[err] [EQ->Y] y: 0 x: 1 Year: 347\n",
      "[err] [EQ->Y] y: 0 x: 1 Year: 348\n",
      "[err] [EQ->Y] y: 0 x: 1 Year: 349\n",
      "[err] [EQ->Y] y: 0 x: 1 Year: 350\n",
      "[err] [EQ->Y] y: 0 x: 1 Year: 351\n",
      "[err] [EQ->Y] y: 0 x: 1 Year: 352\n",
      "[err] [EQ->Y] y: 0 x: 1 Year: 353\n",
      "[err] [EQ->Y] y: 0 x: 1 Year: 354\n",
      "[err] [EQ->Y] y: 0 x: 1 Year: 355\n",
      "[err] [EQ->Y] y: 0 x: 1 Year: 356\n",
      "[err] [EQ->Y] y: 0 x: 1 Year: 357\n",
      "[err] [EQ->Y] y: 0 x: 1 Year: 358\n",
      "[err] [EQ->Y] y: 0 x: 1 Year: 359\n",
      "[err] [EQ->Y] y: 0 x: 1 Year: 360\n",
      "[err] [EQ->Y] y: 0 x: 1 Year: 361\n",
      "[err] [EQ->Y] y: 0 x: 1 Year: 362\n",
      "[err] [EQ->Y] y: 0 x: 1 Year: 363\n",
      "[err] [EQ->Y] y: 0 x: 1 Year: 364\n",
      "[err] [EQ->Y] y: 0 x: 1 Year: 365\n",
      "[err] [EQ->Y] y: 0 x: 1 Year: 366\n",
      "[err] [EQ->Y] y: 0 x: 1 Year: 367\n",
      "[err] [EQ->Y] y: 0 x: 1 Year: 368\n",
      "[err] [EQ->Y] y: 0 x: 1 Year: 369\n",
      "[err] [EQ->Y] y: 0 x: 1 Year: 370\n",
      "[err] [EQ->Y] y: 0 x: 1 Year: 371\n",
      "[err] [EQ->Y] y: 0 x: 1 Year: 372\n",
      "[err] [EQ->Y] y: 0 x: 1 Year: 373\n",
      "[err] [EQ->Y] y: 0 x: 1 Year: 374\n",
      "[err] [EQ->Y] y: 0 x: 1 Year: 375\n",
      "[err] [EQ->Y] y: 0 x: 1 Year: 376\n",
      "[err] [EQ->Y] y: 0 x: 1 Year: 377\n",
      "[err] [EQ->Y] y: 0 x: 1 Year: 378\n",
      "[err] [EQ->Y] y: 0 x: 1 Year: 379\n",
      "[err] [EQ->Y] y: 0 x: 1 Year: 380\n",
      "[err] [EQ->Y] y: 0 x: 1 Year: 381\n",
      "[err] [EQ->Y] y: 0 x: 1 Year: 382\n",
      "[err] [EQ->Y] y: 0 x: 1 Year: 383\n",
      "[err] [EQ->Y] y: 0 x: 1 Year: 384\n",
      "[err] [EQ->Y] y: 0 x: 1 Year: 385\n",
      "[err] [EQ->Y] y: 0 x: 1 Year: 386\n",
      "[err] [EQ->Y] y: 0 x: 1 Year: 387\n",
      "[err] [EQ->Y] y: 0 x: 1 Year: 388\n",
      "[err] [EQ->Y] y: 0 x: 1 Year: 389\n",
      "[err] [EQ->Y] y: 0 x: 1 Year: 390\n",
      "[err] [EQ->Y] y: 0 x: 1 Year: 391\n",
      "[err] [EQ->Y] y: 0 x: 1 Year: 392\n",
      "[err] [EQ->Y] y: 0 x: 1 Year: 393\n",
      "[err] [EQ->Y] y: 0 x: 1 Year: 394\n",
      "[err] [EQ->Y] y: 0 x: 1 Year: 395\n",
      "[err] [EQ->Y] y: 0 x: 1 Year: 396\n",
      "[err] [EQ->Y] y: 0 x: 1 Year: 397\n",
      "[err] [EQ->Y] y: 0 x: 1 Year: 398\n",
      "[err] [EQ->Y] y: 0 x: 1 Year: 399\n",
      "[err] [EQ->Y] y: 0 x: 1 Year: 400\n",
      "[err] [EQ->Y] y: 0 x: 1 Year: 401\n",
      "[err] [EQ->Y] y: 0 x: 1 Year: 402\n",
      "[err] [EQ->Y] y: 0 x: 1 Year: 403\n",
      "[err] [EQ->Y] y: 0 x: 1 Year: 404\n",
      "[err] [EQ->Y] y: 0 x: 1 Year: 405\n",
      "[err] [EQ->Y] y: 0 x: 1 Year: 406\n",
      "[err] [EQ->Y] y: 0 x: 1 Year: 407\n",
      "[err] [EQ->Y] y: 0 x: 1 Year: 408\n",
      "[err] [EQ->Y] y: 0 x: 1 Year: 409\n",
      "[err] [EQ->Y] y: 0 x: 1 Year: 410\n",
      "[err] [EQ->Y] y: 0 x: 1 Year: 411\n",
      "[err] [EQ->Y] y: 0 x: 1 Year: 412\n",
      "[err] [EQ->Y] y: 0 x: 1 Year: 413\n",
      "[err] [EQ->Y] y: 0 x: 1 Year: 414\n",
      "[err] [EQ->Y] y: 0 x: 1 Year: 415\n",
      "[err] [EQ->Y] y: 0 x: 1 Year: 416\n",
      "[err] [EQ->Y] y: 0 x: 1 Year: 417\n",
      "[err] [EQ->Y] y: 0 x: 1 Year: 418\n",
      "[err] [EQ->Y] y: 0 x: 1 Year: 419\n",
      "[err] [EQ->Y] y: 0 x: 1 Year: 420\n",
      "[err] [EQ->Y] y: 0 x: 1 Year: 421\n",
      "[err] [EQ->Y] y: 0 x: 1 Year: 422\n",
      "[err] [EQ->Y] y: 0 x: 1 Year: 423\n",
      "[err] [EQ->Y] y: 0 x: 1 Year: 424\n",
      "[err] [EQ->Y] y: 0 x: 1 Year: 425\n",
      "[err] [EQ->Y] y: 0 x: 1 Year: 426\n",
      "[err] [EQ->Y] y: 0 x: 1 Year: 427\n",
      "[err] [EQ->Y] y: 0 x: 1 Year: 428\n",
      "[err] [EQ->Y] y: 0 x: 1 Year: 429\n",
      "[err] [EQ->Y] y: 0 x: 1 Year: 430\n",
      "[err] [EQ->Y] y: 0 x: 1 Year: 431\n",
      "[err] [EQ->Y] y: 0 x: 1 Year: 432\n",
      "[err] [EQ->Y] y: 0 x: 1 Year: 433\n",
      "[err] [EQ->Y] y: 0 x: 1 Year: 434\n",
      "[err] [EQ->Y] y: 0 x: 1 Year: 435\n",
      "[err] [EQ->Y] y: 0 x: 1 Year: 436\n",
      "[err] [EQ->Y] y: 0 x: 1 Year: 437\n",
      "[err] [EQ->Y] y: 0 x: 1 Year: 438\n",
      "[err] [EQ->Y] y: 0 x: 1 Year: 439\n",
      "[err] [EQ->Y] y: 0 x: 1 Year: 440\n",
      "[err] [EQ->Y] y: 0 x: 1 Year: 441\n",
      "[err] [EQ->Y] y: 0 x: 1 Year: 442\n",
      "[err] [EQ->Y] y: 0 x: 1 Year: 443\n",
      "[err] [EQ->Y] y: 0 x: 1 Year: 444\n",
      "[err] [EQ->Y] y: 0 x: 1 Year: 445\n",
      "[err] [EQ->Y] y: 0 x: 1 Year: 446\n",
      "[err] [EQ->Y] y: 0 x: 1 Year: 447\n",
      "[err] [EQ->Y] y: 0 x: 1 Year: 448\n",
      "[err] [EQ->Y] y: 0 x: 1 Year: 449\n",
      "[err] [EQ->Y] y: 0 x: 1 Year: 450\n",
      "[err] [EQ->Y] y: 0 x: 1 Year: 451\n",
      "[err] [EQ->Y] y: 0 x: 1 Year: 452\n",
      "[err] [EQ->Y] y: 0 x: 1 Year: 453\n",
      "[err] [EQ->Y] y: 0 x: 1 Year: 454\n",
      "[err] [EQ->Y] y: 0 x: 1 Year: 455\n",
      "[err] [EQ->Y] y: 0 x: 1 Year: 456\n",
      "[err] [EQ->Y] y: 0 x: 1 Year: 457\n",
      "[err] [EQ->Y] y: 0 x: 1 Year: 458\n",
      "[err] [EQ->Y] y: 0 x: 1 Year: 459\n",
      "[err] [EQ->Y] y: 0 x: 1 Year: 460\n",
      "[err] [EQ->Y] y: 0 x: 1 Year: 461\n",
      "[err] [EQ->Y] y: 0 x: 1 Year: 462\n",
      "[err] [EQ->Y] y: 0 x: 1 Year: 463\n"
     ]
    },
    {
     "name": "stdout",
     "output_type": "stream",
     "text": [
      "[err] [EQ->Y] y: 0 x: 1 Year: 464\n",
      "[err] [EQ->Y] y: 0 x: 1 Year: 465\n",
      "[err] [EQ->Y] y: 0 x: 1 Year: 466\n",
      "[err] [EQ->Y] y: 0 x: 1 Year: 467\n",
      "[err] [EQ->Y] y: 0 x: 1 Year: 468\n",
      "[err] [EQ->Y] y: 0 x: 1 Year: 469\n",
      "[err] [EQ->Y] y: 0 x: 1 Year: 470\n",
      "[err] [EQ->Y] y: 0 x: 1 Year: 471\n",
      "[err] [EQ->Y] y: 0 x: 1 Year: 472\n",
      "[err] [EQ->Y] y: 0 x: 1 Year: 473\n",
      "[err] [EQ->Y] y: 0 x: 1 Year: 474\n",
      "[err] [EQ->Y] y: 0 x: 1 Year: 475\n",
      "[err] [EQ->Y] y: 0 x: 1 Year: 476\n",
      "[err] [EQ->Y] y: 0 x: 1 Year: 477\n",
      "[err] [EQ->Y] y: 0 x: 1 Year: 478\n",
      "[err] [EQ->Y] y: 0 x: 1 Year: 479\n",
      "[err] [EQ->Y] y: 0 x: 1 Year: 480\n",
      "[err] [EQ->Y] y: 0 x: 1 Year: 481\n",
      "[err] [EQ->Y] y: 0 x: 1 Year: 482\n",
      "[err] [EQ->Y] y: 0 x: 1 Year: 483\n",
      "[err] [EQ->Y] y: 0 x: 1 Year: 484\n",
      "[err] [EQ->Y] y: 0 x: 1 Year: 485\n",
      "[err] [EQ->Y] y: 0 x: 1 Year: 486\n",
      "[err] [EQ->Y] y: 0 x: 1 Year: 487\n",
      "[err] [EQ->Y] y: 0 x: 1 Year: 488\n",
      "[err] [EQ->Y] y: 0 x: 1 Year: 489\n",
      "[err] [EQ->Y] y: 0 x: 1 Year: 490\n",
      "[err] [EQ->Y] y: 0 x: 1 Year: 491\n",
      "[err] [EQ->Y] y: 0 x: 1 Year: 492\n",
      "[err] [EQ->Y] y: 0 x: 1 Year: 493\n",
      "[err] [EQ->Y] y: 0 x: 1 Year: 494\n",
      "[err] [EQ->Y] y: 0 x: 1 Year: 495\n",
      "[err] [EQ->Y] y: 0 x: 1 Year: 496\n",
      "[err] [EQ->Y] y: 0 x: 1 Year: 497\n",
      "[err] [EQ->Y] y: 0 x: 1 Year: 498\n",
      "[err] [EQ->Y] y: 0 x: 1 Year: 499\n",
      "[fatal] [SP] Running Spinup, 300 years.\n",
      "[err] [SP]  (Remaining Layers...)\n",
      "[err] [SP] after parent layers :5\n",
      "[err] [SP] Soil layer 8 with front shall have 0 for its frozen state! Ground::checkFronts(..)\n",
      "[err] [SP] Soil layer 8 with front shall have 0 for its frozen state! Ground::checkFronts(..)\n",
      "[err] [SP->Y] y: 0 x: 1 Year: 0\n",
      "[err] [SP->Y] y: 0 x: 1 Year: 1\n",
      "[err] [SP->Y] y: 0 x: 1 Year: 2\n",
      "[err] [SP->Y] y: 0 x: 1 Year: 3\n",
      "[err] [SP->Y] y: 0 x: 1 Year: 4\n",
      "[err] [SP->Y] y: 0 x: 1 Year: 5\n",
      "[err] [SP->Y] y: 0 x: 1 Year: 6\n",
      "[err] [SP->Y] y: 0 x: 1 Year: 7\n",
      "[err] [SP->Y] y: 0 x: 1 Year: 8\n",
      "[err] [SP->Y] y: 0 x: 1 Year: 9\n",
      "[err] [SP->Y] y: 0 x: 1 Year: 10\n",
      "[err] [SP->Y] y: 0 x: 1 Year: 11\n",
      "[err] [SP->Y] y: 0 x: 1 Year: 12\n",
      "[err] [SP->Y] y: 0 x: 1 Year: 13\n",
      "[err] [SP->Y] y: 0 x: 1 Year: 14\n",
      "[err] [SP->Y] y: 0 x: 1 Year: 15\n",
      "[err] [SP->Y] y: 0 x: 1 Year: 16\n",
      "[err] [SP->Y] y: 0 x: 1 Year: 17\n",
      "[err] [SP->Y] y: 0 x: 1 Year: 18\n",
      "[err] [SP->Y] y: 0 x: 1 Year: 19\n",
      "[err] [SP->Y] y: 0 x: 1 Year: 20\n",
      "[err] [SP->Y] y: 0 x: 1 Year: 21\n",
      "[err] [SP->Y] y: 0 x: 1 Year: 22\n",
      "[err] [SP->Y] y: 0 x: 1 Year: 23\n",
      "[err] [SP->Y] y: 0 x: 1 Year: 24\n",
      "[err] [SP->Y] y: 0 x: 1 Year: 25\n",
      "[err] [SP->Y] y: 0 x: 1 Year: 26\n",
      "[err] [SP->Y] y: 0 x: 1 Year: 27\n",
      "[err] [SP->Y] y: 0 x: 1 Year: 28\n",
      "[err] [SP->Y] y: 0 x: 1 Year: 29\n",
      "[err] [SP->Y] y: 0 x: 1 Year: 30\n",
      "[err] [SP->Y] y: 0 x: 1 Year: 31\n",
      "[err] [SP->Y] y: 0 x: 1 Year: 32\n",
      "[err] [SP->Y] y: 0 x: 1 Year: 33\n",
      "[err] [SP->Y] y: 0 x: 1 Year: 34\n",
      "[err] [SP->Y] y: 0 x: 1 Year: 35\n",
      "[err] [SP->Y] y: 0 x: 1 Year: 36\n",
      "[err] [SP->Y] y: 0 x: 1 Year: 37\n",
      "[err] [SP->Y] y: 0 x: 1 Year: 38\n",
      "[err] [SP->Y] y: 0 x: 1 Year: 39\n",
      "[err] [SP->Y] y: 0 x: 1 Year: 40\n",
      "[err] [SP->Y] y: 0 x: 1 Year: 41\n",
      "[err] [SP->Y] y: 0 x: 1 Year: 42\n",
      "[err] [SP->Y] y: 0 x: 1 Year: 43\n",
      "[err] [SP->Y] y: 0 x: 1 Year: 44\n",
      "[err] [SP->Y] y: 0 x: 1 Year: 45\n",
      "[err] [SP->Y] y: 0 x: 1 Year: 46\n",
      "[err] [SP->Y] y: 0 x: 1 Year: 47\n",
      "[err] [SP->Y] y: 0 x: 1 Year: 48\n",
      "[err] [SP->Y] y: 0 x: 1 Year: 49\n",
      "[err] [SP->Y] y: 0 x: 1 Year: 50\n",
      "[err] [SP->Y] y: 0 x: 1 Year: 51\n",
      "[err] [SP->Y] y: 0 x: 1 Year: 52\n",
      "[err] [SP->Y] y: 0 x: 1 Year: 53\n",
      "[err] [SP->Y] y: 0 x: 1 Year: 54\n",
      "[err] [SP->Y] y: 0 x: 1 Year: 55\n",
      "[err] [SP->Y] y: 0 x: 1 Year: 56\n",
      "[err] [SP->Y] y: 0 x: 1 Year: 57\n",
      "[err] [SP->Y] y: 0 x: 1 Year: 58\n",
      "[err] [SP->Y] y: 0 x: 1 Year: 59\n",
      "[err] [SP->Y] y: 0 x: 1 Year: 60\n",
      "[err] [SP->Y] y: 0 x: 1 Year: 61\n",
      "[err] [SP->Y] y: 0 x: 1 Year: 62\n",
      "[err] [SP->Y] y: 0 x: 1 Year: 63\n",
      "[err] [SP->Y] y: 0 x: 1 Year: 64\n",
      "[err] [SP->Y] y: 0 x: 1 Year: 65\n",
      "[err] [SP->Y] y: 0 x: 1 Year: 66\n",
      "[err] [SP->Y] y: 0 x: 1 Year: 67\n",
      "[err] [SP->Y] y: 0 x: 1 Year: 68\n",
      "[err] [SP->Y] y: 0 x: 1 Year: 69\n",
      "[err] [SP->Y] y: 0 x: 1 Year: 70\n",
      "[err] [SP->Y] y: 0 x: 1 Year: 71\n",
      "[err] [SP->Y] y: 0 x: 1 Year: 72\n",
      "[err] [SP->Y] y: 0 x: 1 Year: 73\n",
      "[err] [SP->Y] y: 0 x: 1 Year: 74\n",
      "[err] [SP->Y] y: 0 x: 1 Year: 75\n",
      "[err] [SP->Y] y: 0 x: 1 Year: 76\n",
      "[err] [SP->Y] y: 0 x: 1 Year: 77\n",
      "[err] [SP->Y] y: 0 x: 1 Year: 78\n",
      "[err] [SP->Y] y: 0 x: 1 Year: 79\n",
      "[err] [SP->Y] y: 0 x: 1 Year: 80\n",
      "[err] [SP->Y] y: 0 x: 1 Year: 81\n",
      "[err] [SP->Y] y: 0 x: 1 Year: 82\n",
      "[err] [SP->Y] y: 0 x: 1 Year: 83\n",
      "[err] [SP->Y] y: 0 x: 1 Year: 84\n",
      "[err] [SP->Y] y: 0 x: 1 Year: 85\n",
      "[err] [SP->Y] y: 0 x: 1 Year: 86\n",
      "[err] [SP->Y] y: 0 x: 1 Year: 87\n",
      "[err] [SP->Y] y: 0 x: 1 Year: 88\n",
      "[err] [SP->Y] y: 0 x: 1 Year: 89\n",
      "[err] [SP->Y] y: 0 x: 1 Year: 90\n",
      "[err] [SP->Y] y: 0 x: 1 Year: 91\n",
      "[err] [SP->Y] y: 0 x: 1 Year: 92\n",
      "[err] [SP->Y] y: 0 x: 1 Year: 93\n",
      "[err] [SP->Y] y: 0 x: 1 Year: 94\n",
      "[err] [SP->Y] y: 0 x: 1 Year: 95\n",
      "[err] [SP->Y] y: 0 x: 1 Year: 96\n",
      "[err] [SP->Y] y: 0 x: 1 Year: 97\n",
      "[err] [SP->Y] y: 0 x: 1 Year: 98\n",
      "[err] [SP->Y] y: 0 x: 1 Year: 99\n",
      "[err] [SP->Y] y: 0 x: 1 Year: 100\n",
      "[err] [SP->Y] y: 0 x: 1 Year: 101\n",
      "[err] [SP->Y] y: 0 x: 1 Year: 102\n",
      "[err] [SP->Y] y: 0 x: 1 Year: 103\n",
      "[err] [SP->Y] y: 0 x: 1 Year: 104\n",
      "[err] [SP->Y] y: 0 x: 1 Year: 105\n",
      "[err] [SP->Y] y: 0 x: 1 Year: 106\n",
      "[err] [SP->Y] y: 0 x: 1 Year: 107\n",
      "[err] [SP->Y] y: 0 x: 1 Year: 108\n",
      "[err] [SP->Y] y: 0 x: 1 Year: 109\n",
      "[err] [SP->Y] y: 0 x: 1 Year: 110\n",
      "[err] [SP->Y] y: 0 x: 1 Year: 111\n",
      "[err] [SP->Y] y: 0 x: 1 Year: 112\n",
      "[err] [SP->Y] y: 0 x: 1 Year: 113\n",
      "[err] [SP->Y] y: 0 x: 1 Year: 114\n",
      "[err] [SP->Y] y: 0 x: 1 Year: 115\n",
      "[err] [SP->Y] y: 0 x: 1 Year: 116\n",
      "[err] [SP->Y] y: 0 x: 1 Year: 117\n",
      "[err] [SP->Y] y: 0 x: 1 Year: 118\n",
      "[err] [SP->Y] y: 0 x: 1 Year: 119\n",
      "[err] [SP->Y] y: 0 x: 1 Year: 120\n",
      "[err] [SP->Y] y: 0 x: 1 Year: 121\n",
      "[err] [SP->Y] y: 0 x: 1 Year: 122\n",
      "[err] [SP->Y] y: 0 x: 1 Year: 123\n",
      "[err] [SP->Y] y: 0 x: 1 Year: 124\n",
      "[err] [SP->Y] y: 0 x: 1 Year: 125\n",
      "[err] [SP->Y] y: 0 x: 1 Year: 126\n",
      "[err] [SP->Y] y: 0 x: 1 Year: 127\n",
      "[err] [SP->Y] y: 0 x: 1 Year: 128\n",
      "[err] [SP->Y] y: 0 x: 1 Year: 129\n",
      "[err] [SP->Y] y: 0 x: 1 Year: 130\n",
      "[err] [SP->Y] y: 0 x: 1 Year: 131\n",
      "[err] [SP->Y] y: 0 x: 1 Year: 132\n",
      "[err] [SP->Y] y: 0 x: 1 Year: 133\n",
      "[err] [SP->Y] y: 0 x: 1 Year: 134\n",
      "[err] [SP->Y] y: 0 x: 1 Year: 135\n",
      "[err] [SP->Y] y: 0 x: 1 Year: 136\n",
      "[err] [SP->Y] y: 0 x: 1 Year: 137\n",
      "[err] [SP->Y] y: 0 x: 1 Year: 138\n",
      "[err] [SP->Y] y: 0 x: 1 Year: 139\n",
      "[err] [SP->Y] y: 0 x: 1 Year: 140\n",
      "[err] [SP->Y] y: 0 x: 1 Year: 141\n",
      "[err] [SP->Y] y: 0 x: 1 Year: 142\n",
      "[err] [SP->Y] y: 0 x: 1 Year: 143\n",
      "[err] [SP->Y] y: 0 x: 1 Year: 144\n",
      "[err] [SP->Y] y: 0 x: 1 Year: 145\n",
      "[err] [SP->Y] y: 0 x: 1 Year: 146\n",
      "[err] [SP->Y] y: 0 x: 1 Year: 147\n",
      "[err] [SP->Y] y: 0 x: 1 Year: 148\n",
      "[err] [SP->Y] y: 0 x: 1 Year: 149\n",
      "[err] [SP->Y] y: 0 x: 1 Year: 150\n",
      "[err] [SP->Y] y: 0 x: 1 Year: 151\n",
      "[err] [SP->Y] y: 0 x: 1 Year: 152\n",
      "[err] [SP->Y] y: 0 x: 1 Year: 153\n",
      "[err] [SP->Y] y: 0 x: 1 Year: 154\n",
      "[err] [SP->Y] y: 0 x: 1 Year: 155\n",
      "[err] [SP->Y] y: 0 x: 1 Year: 156\n",
      "[err] [SP->Y] y: 0 x: 1 Year: 157\n",
      "[err] [SP->Y] y: 0 x: 1 Year: 158\n",
      "[err] [SP->Y] y: 0 x: 1 Year: 159\n",
      "[err] [SP->Y] y: 0 x: 1 Year: 160\n",
      "[err] [SP->Y] y: 0 x: 1 Year: 161\n",
      "[err] [SP->Y] y: 0 x: 1 Year: 162\n",
      "[err] [SP->Y] y: 0 x: 1 Year: 163\n",
      "[err] [SP->Y] y: 0 x: 1 Year: 164\n",
      "[err] [SP->Y] y: 0 x: 1 Year: 165\n",
      "[err] [SP->Y] y: 0 x: 1 Year: 166\n",
      "[err] [SP->Y] y: 0 x: 1 Year: 167\n",
      "[err] [SP->Y] y: 0 x: 1 Year: 168\n",
      "[err] [SP->Y] y: 0 x: 1 Year: 169\n",
      "[err] [SP->Y] y: 0 x: 1 Year: 170\n",
      "[err] [SP->Y] y: 0 x: 1 Year: 171\n",
      "[err] [SP->Y] y: 0 x: 1 Year: 172\n",
      "[err] [SP->Y] y: 0 x: 1 Year: 173\n",
      "[err] [SP->Y] y: 0 x: 1 Year: 174\n",
      "[err] [SP->Y] y: 0 x: 1 Year: 175\n",
      "[err] [SP->Y] y: 0 x: 1 Year: 176\n",
      "[err] [SP->Y] y: 0 x: 1 Year: 177\n",
      "[err] [SP->Y] y: 0 x: 1 Year: 178\n",
      "[err] [SP->Y] y: 0 x: 1 Year: 179\n",
      "[err] [SP->Y] y: 0 x: 1 Year: 180\n",
      "[err] [SP->Y] y: 0 x: 1 Year: 181\n",
      "[err] [SP->Y] y: 0 x: 1 Year: 182\n",
      "[err] [SP->Y] y: 0 x: 1 Year: 183\n",
      "[err] [SP->Y] y: 0 x: 1 Year: 184\n",
      "[err] [SP->Y] y: 0 x: 1 Year: 185\n",
      "[err] [SP->Y] y: 0 x: 1 Year: 186\n",
      "[err] [SP->Y] y: 0 x: 1 Year: 187\n",
      "[err] [SP->Y] y: 0 x: 1 Year: 188\n",
      "[err] [SP->Y] y: 0 x: 1 Year: 189\n",
      "[err] [SP->Y] y: 0 x: 1 Year: 190\n",
      "[err] [SP->Y] y: 0 x: 1 Year: 191\n",
      "[err] [SP->Y] y: 0 x: 1 Year: 192\n",
      "[err] [SP->Y] y: 0 x: 1 Year: 193\n",
      "[err] [SP->Y] y: 0 x: 1 Year: 194\n",
      "[err] [SP->Y] y: 0 x: 1 Year: 195\n",
      "[err] [SP->Y] y: 0 x: 1 Year: 196\n",
      "[err] [SP->Y] y: 0 x: 1 Year: 197\n",
      "[err] [SP->Y] y: 0 x: 1 Year: 198\n",
      "[err] [SP->Y] y: 0 x: 1 Year: 199\n"
     ]
    },
    {
     "name": "stdout",
     "output_type": "stream",
     "text": [
      "[err] [SP->Y] y: 0 x: 1 Year: 200\n",
      "[err] [SP->Y] y: 0 x: 1 Year: 201\n",
      "[err] [SP->Y] y: 0 x: 1 Year: 202\n",
      "[err] [SP->Y] y: 0 x: 1 Year: 203\n",
      "[err] [SP->Y] y: 0 x: 1 Year: 204\n",
      "[err] [SP->Y] y: 0 x: 1 Year: 205\n",
      "[err] [SP->Y] y: 0 x: 1 Year: 206\n",
      "[err] [SP->Y] y: 0 x: 1 Year: 207\n",
      "[err] [SP->Y] y: 0 x: 1 Year: 208\n",
      "[err] [SP->Y] y: 0 x: 1 Year: 209\n",
      "[err] [SP->Y] y: 0 x: 1 Year: 210\n",
      "[err] [SP->Y] y: 0 x: 1 Year: 211\n",
      "[err] [SP->Y] y: 0 x: 1 Year: 212\n",
      "[err] [SP->Y] y: 0 x: 1 Year: 213\n",
      "[err] [SP->Y] y: 0 x: 1 Year: 214\n",
      "[err] [SP->Y] y: 0 x: 1 Year: 215\n",
      "[err] [SP->Y] y: 0 x: 1 Year: 216\n",
      "[err] [SP->Y] y: 0 x: 1 Year: 217\n",
      "[err] [SP->Y] y: 0 x: 1 Year: 218\n",
      "[err] [SP->Y] y: 0 x: 1 Year: 219\n",
      "[err] [SP->Y] y: 0 x: 1 Year: 220\n",
      "[err] [SP->Y] y: 0 x: 1 Year: 221\n",
      "[err] [SP->Y] y: 0 x: 1 Year: 222\n",
      "[err] [SP->Y] y: 0 x: 1 Year: 223\n",
      "[err] [SP->Y] y: 0 x: 1 Year: 224\n",
      "[err] [SP->Y] y: 0 x: 1 Year: 225\n",
      "[err] [SP->Y] y: 0 x: 1 Year: 226\n",
      "[err] [SP->Y] y: 0 x: 1 Year: 227\n",
      "[err] [SP->Y] y: 0 x: 1 Year: 228\n",
      "[err] [SP->Y] y: 0 x: 1 Year: 229\n",
      "[err] [SP->Y] y: 0 x: 1 Year: 230\n",
      "[err] [SP->Y] y: 0 x: 1 Year: 231\n",
      "[err] [SP->Y] y: 0 x: 1 Year: 232\n",
      "[err] [SP->Y] y: 0 x: 1 Year: 233\n",
      "[err] [SP->Y] y: 0 x: 1 Year: 234\n",
      "[err] [SP->Y] y: 0 x: 1 Year: 235\n",
      "[err] [SP->Y] y: 0 x: 1 Year: 236\n",
      "[err] [SP->Y] y: 0 x: 1 Year: 237\n",
      "[err] [SP->Y] y: 0 x: 1 Year: 238\n",
      "[err] [SP->Y] y: 0 x: 1 Year: 239\n",
      "[err] [SP->Y] y: 0 x: 1 Year: 240\n",
      "[err] [SP->Y] y: 0 x: 1 Year: 241\n",
      "[err] [SP->Y] y: 0 x: 1 Year: 242\n",
      "[err] [SP->Y] y: 0 x: 1 Year: 243\n",
      "[err] [SP->Y] y: 0 x: 1 Year: 244\n",
      "[err] [SP->Y] y: 0 x: 1 Year: 245\n",
      "[err] [SP->Y] y: 0 x: 1 Year: 246\n",
      "[err] [SP->Y] y: 0 x: 1 Year: 247\n",
      "[err] [SP->Y] y: 0 x: 1 Year: 248\n",
      "[err] [SP->Y] y: 0 x: 1 Year: 249\n",
      "[err] [SP->Y] y: 0 x: 1 Year: 250\n",
      "[err] [SP->Y] y: 0 x: 1 Year: 251\n",
      "[err] [SP->Y] y: 0 x: 1 Year: 252\n",
      "[err] [SP->Y] y: 0 x: 1 Year: 253\n",
      "[err] [SP->Y] y: 0 x: 1 Year: 254\n",
      "[err] [SP->Y] y: 0 x: 1 Year: 255\n",
      "[err] [SP->Y] y: 0 x: 1 Year: 256\n",
      "[err] [SP->Y] y: 0 x: 1 Year: 257\n",
      "[err] [SP->Y] y: 0 x: 1 Year: 258\n",
      "[err] [SP->Y] y: 0 x: 1 Year: 259\n",
      "[err] [SP->Y] y: 0 x: 1 Year: 260\n",
      "[err] [SP->Y] y: 0 x: 1 Year: 261\n",
      "[err] [SP->Y] y: 0 x: 1 Year: 262\n",
      "[err] [SP->Y] y: 0 x: 1 Year: 263\n",
      "[err] [SP->Y] y: 0 x: 1 Year: 264\n",
      "[err] [SP->Y] y: 0 x: 1 Year: 265\n",
      "[err] [SP->Y] y: 0 x: 1 Year: 266\n",
      "[err] [SP->Y] y: 0 x: 1 Year: 267\n",
      "[err] [SP->Y] y: 0 x: 1 Year: 268\n",
      "[err] [SP->Y] y: 0 x: 1 Year: 269\n",
      "[err] [SP->Y] y: 0 x: 1 Year: 270\n",
      "[err] [SP->Y] y: 0 x: 1 Year: 271\n",
      "[err] [SP->Y] y: 0 x: 1 Year: 272\n",
      "[err] [SP->Y] y: 0 x: 1 Year: 273\n",
      "[err] [SP->Y] y: 0 x: 1 Year: 274\n",
      "[err] [SP->Y] y: 0 x: 1 Year: 275\n",
      "[err] [SP->Y] y: 0 x: 1 Year: 276\n",
      "[err] [SP->Y] y: 0 x: 1 Year: 277\n",
      "[err] [SP->Y] y: 0 x: 1 Year: 278\n",
      "[err] [SP->Y] y: 0 x: 1 Year: 279\n",
      "[err] [SP->Y] y: 0 x: 1 Year: 280\n",
      "[err] [SP->Y] y: 0 x: 1 Year: 281\n",
      "[err] [SP->Y] y: 0 x: 1 Year: 282\n",
      "[err] [SP->Y] y: 0 x: 1 Year: 283\n",
      "[err] [SP->Y] y: 0 x: 1 Year: 284\n",
      "[err] [SP->Y] y: 0 x: 1 Year: 285\n",
      "[err] [SP->Y] y: 0 x: 1 Year: 286\n",
      "[err] [SP->Y] y: 0 x: 1 Year: 287\n",
      "[err] [SP->Y] y: 0 x: 1 Year: 288\n",
      "[err] [SP->Y] y: 0 x: 1 Year: 289\n",
      "[err] [SP->Y] y: 0 x: 1 Year: 290\n",
      "[err] [SP->Y] y: 0 x: 1 Year: 291\n",
      "[err] [SP->Y] y: 0 x: 1 Year: 292\n",
      "[err] [SP->Y] y: 0 x: 1 Year: 293\n",
      "[err] [SP->Y] y: 0 x: 1 Year: 294\n",
      "[err] [SP->Y] y: 0 x: 1 Year: 295\n",
      "[err] [SP->Y] y: 0 x: 1 Year: 296\n",
      "[err] [SP->Y] y: 0 x: 1 Year: 297\n",
      "[err] [SP->Y] y: 0 x: 1 Year: 298\n",
      "[err] [SP->Y] y: 0 x: 1 Year: 299\n",
      "[fatal] [TR] Running Transient, 121 years\n",
      "[err] [TR]  (Remaining Layers...)\n",
      "[err] [TR] after parent layers :5\n",
      "[err] [TR] Soil layer 8 with front shall have 0 for its frozen state! Ground::checkFronts(..)\n",
      "[err] [TR] MAKE SURE YOUR FIRE INPUTS ARE SETUP CORRECTLY!\n",
      "[err] [TR->Y] y: 0 x: 1 Year: 0\n",
      "[err] [TR->Y] y: 0 x: 1 Year: 1\n",
      "[err] [TR->Y] y: 0 x: 1 Year: 2\n",
      "[err] [TR->Y] y: 0 x: 1 Year: 3\n",
      "[err] [TR->Y] y: 0 x: 1 Year: 4\n",
      "[err] [TR->Y] y: 0 x: 1 Year: 5\n",
      "[err] [TR->Y] y: 0 x: 1 Year: 6\n",
      "[err] [TR->Y] y: 0 x: 1 Year: 7\n",
      "[err] [TR->Y] y: 0 x: 1 Year: 8\n",
      "[err] [TR->Y] y: 0 x: 1 Year: 9\n",
      "[err] [TR->Y] y: 0 x: 1 Year: 10\n",
      "[err] [TR->Y] y: 0 x: 1 Year: 11\n",
      "[err] [TR->Y] y: 0 x: 1 Year: 12\n",
      "[err] [TR->Y] y: 0 x: 1 Year: 13\n",
      "[err] [TR->Y] y: 0 x: 1 Year: 14\n",
      "[err] [TR->Y] y: 0 x: 1 Year: 15\n",
      "[err] [TR->Y] y: 0 x: 1 Year: 16\n",
      "[err] [TR->Y] y: 0 x: 1 Year: 17\n",
      "[err] [TR->Y] y: 0 x: 1 Year: 18\n",
      "[err] [TR->Y] y: 0 x: 1 Year: 19\n",
      "[err] [TR->Y] y: 0 x: 1 Year: 20\n",
      "[err] [TR->Y] y: 0 x: 1 Year: 21\n",
      "[err] [TR->Y] y: 0 x: 1 Year: 22\n",
      "[err] [TR->Y] y: 0 x: 1 Year: 23\n",
      "[err] [TR->Y] y: 0 x: 1 Year: 24\n",
      "[err] [TR->Y] y: 0 x: 1 Year: 25\n",
      "[err] [TR->Y] y: 0 x: 1 Year: 26\n",
      "[err] [TR->Y] y: 0 x: 1 Year: 27\n",
      "[err] [TR->Y] y: 0 x: 1 Year: 28\n",
      "[err] [TR->Y] y: 0 x: 1 Year: 29\n",
      "[err] [TR->Y] y: 0 x: 1 Year: 30\n",
      "[err] [TR->Y] y: 0 x: 1 Year: 31\n",
      "[err] [TR->Y] y: 0 x: 1 Year: 32\n",
      "[err] [TR->Y] y: 0 x: 1 Year: 33\n",
      "[err] [TR->Y] y: 0 x: 1 Year: 34\n",
      "[err] [TR->Y] y: 0 x: 1 Year: 35\n",
      "[err] [TR->Y] y: 0 x: 1 Year: 36\n",
      "[err] [TR->Y] y: 0 x: 1 Year: 37\n",
      "[err] [TR->Y] y: 0 x: 1 Year: 38\n",
      "[err] [TR->Y] y: 0 x: 1 Year: 39\n",
      "[err] [TR->Y] y: 0 x: 1 Year: 40\n",
      "[err] [TR->Y] y: 0 x: 1 Year: 41\n",
      "[err] [TR->Y] y: 0 x: 1 Year: 42\n",
      "[err] [TR->Y] y: 0 x: 1 Year: 43\n",
      "[err] [TR->Y] y: 0 x: 1 Year: 44\n",
      "[err] [TR->Y] y: 0 x: 1 Year: 45\n",
      "[err] [TR->Y] y: 0 x: 1 Year: 46\n",
      "[err] [TR->Y] y: 0 x: 1 Year: 47\n",
      "[err] [TR->Y] y: 0 x: 1 Year: 48\n",
      "[err] [TR->Y] y: 0 x: 1 Year: 49\n",
      "[err] [TR->Y] y: 0 x: 1 Year: 50\n",
      "[err] [TR->Y] y: 0 x: 1 Year: 51\n",
      "[err] [TR->Y] y: 0 x: 1 Year: 52\n",
      "[err] [TR->Y] y: 0 x: 1 Year: 53\n",
      "[err] [TR->Y] y: 0 x: 1 Year: 54\n",
      "[err] [TR->Y] y: 0 x: 1 Year: 55\n",
      "[err] [TR->Y] y: 0 x: 1 Year: 56\n",
      "[err] [TR->Y] y: 0 x: 1 Year: 57\n",
      "[err] [TR->Y] y: 0 x: 1 Year: 58\n",
      "[err] [TR->Y] y: 0 x: 1 Year: 59\n",
      "[err] [TR->Y] y: 0 x: 1 Year: 60\n",
      "[err] [TR->Y] y: 0 x: 1 Year: 61\n",
      "[err] [TR->Y] y: 0 x: 1 Year: 62\n",
      "[err] [TR->Y] y: 0 x: 1 Year: 63\n",
      "[err] [TR->Y] y: 0 x: 1 Year: 64\n",
      "[err] [TR->Y] y: 0 x: 1 Year: 65\n",
      "[err] [TR->Y] y: 0 x: 1 Year: 66\n",
      "[err] [TR->Y] y: 0 x: 1 Year: 67\n",
      "[err] [TR->Y] y: 0 x: 1 Year: 68\n",
      "[err] [TR->Y] y: 0 x: 1 Year: 69\n",
      "[err] [TR->Y] y: 0 x: 1 Year: 70\n",
      "[err] [TR->Y] y: 0 x: 1 Year: 71\n",
      "[err] [TR->Y] y: 0 x: 1 Year: 72\n",
      "[err] [TR->Y] y: 0 x: 1 Year: 73\n",
      "[err] [TR->Y] y: 0 x: 1 Year: 74\n",
      "[err] [TR->Y] y: 0 x: 1 Year: 75\n",
      "[err] [TR->Y] y: 0 x: 1 Year: 76\n",
      "[err] [TR->Y] y: 0 x: 1 Year: 77\n",
      "[err] [TR->Y] y: 0 x: 1 Year: 78\n",
      "[err] [TR->Y] y: 0 x: 1 Year: 79\n",
      "[err] [TR->Y] y: 0 x: 1 Year: 80\n",
      "[err] [TR->Y] y: 0 x: 1 Year: 81\n",
      "[err] [TR->Y] y: 0 x: 1 Year: 82\n",
      "[err] [TR->Y] y: 0 x: 1 Year: 83\n",
      "[err] [TR->Y] y: 0 x: 1 Year: 84\n",
      "[err] [TR->Y] y: 0 x: 1 Year: 85\n",
      "[err] [TR->Y] y: 0 x: 1 Year: 86\n",
      "[err] [TR->Y] y: 0 x: 1 Year: 87\n",
      "[err] [TR->Y] y: 0 x: 1 Year: 88\n",
      "[err] [TR->Y] y: 0 x: 1 Year: 89\n",
      "[err] [TR->Y] y: 0 x: 1 Year: 90\n",
      "[err] [TR->Y] y: 0 x: 1 Year: 91\n",
      "[err] [TR->Y] y: 0 x: 1 Year: 92\n",
      "[err] [TR->Y] y: 0 x: 1 Year: 93\n",
      "[err] [TR->Y] y: 0 x: 1 Year: 94\n",
      "[err] [TR->Y] y: 0 x: 1 Year: 95\n",
      "[err] [TR->Y] y: 0 x: 1 Year: 96\n",
      "[err] [TR->Y] y: 0 x: 1 Year: 97\n",
      "[err] [TR->Y] y: 0 x: 1 Year: 98\n",
      "[err] [TR->Y] y: 0 x: 1 Year: 99\n",
      "[err] [TR->Y] y: 0 x: 1 Year: 100\n",
      "[err] [TR->Y] y: 0 x: 1 Year: 101\n",
      "[err] [TR->Y] y: 0 x: 1 Year: 102\n",
      "[err] [TR->Y] y: 0 x: 1 Year: 103\n",
      "[err] [TR->Y] y: 0 x: 1 Year: 104\n",
      "[err] [TR->Y] y: 0 x: 1 Year: 105\n",
      "[err] [TR->Y] y: 0 x: 1 Year: 106\n",
      "[err] [TR->Y] y: 0 x: 1 Year: 107\n",
      "[err] [TR->Y] y: 0 x: 1 Year: 108\n",
      "[err] [TR->Y] y: 0 x: 1 Year: 109\n",
      "[err] [TR->Y] y: 0 x: 1 Year: 110\n",
      "[err] [TR->Y] y: 0 x: 1 Year: 111\n",
      "[err] [TR->Y] y: 0 x: 1 Year: 112\n",
      "[err] [TR->Y] y: 0 x: 1 Year: 113\n",
      "[err] [TR->Y] y: 0 x: 1 Year: 114\n",
      "[err] [TR->Y] y: 0 x: 1 Year: 115\n",
      "[err] [TR->Y] y: 0 x: 1 Year: 116\n",
      "[err] [TR->Y] y: 0 x: 1 Year: 117\n",
      "[err] [TR->Y] y: 0 x: 1 Year: 118\n",
      "[err] [TR->Y] y: 0 x: 1 Year: 119\n",
      "[err] [TR->Y] y: 0 x: 1 Year: 120\n",
      "cell 0, 1 complete.\n",
      "[fatal] [] Skipping cell (1, 0)\n",
      "[fatal] [] Skipping cell (1, 1)\n",
      "[fatal] [] Skipping cell (2, 0)\n",
      "[fatal] [] Skipping cell (2, 1)\n",
      "[fatal] [] Skipping cell (3, 0)\n",
      "[fatal] [] Skipping cell (3, 1)\n",
      "Total Seconds: 226\n"
     ]
    }
   ],
   "source": [
    "!dvmdostem --force-cmt=13 --log-level='err' --tr-yrs=121 --sp-yrs=300 --eq-yrs=500\n",
    "#!dvmdostem --force-cmt=13 --log-level='err' --tr-yrs=0 --sp-yrs=0 --eq-yrs=1000"
   ]
  },
  {
   "cell_type": "code",
   "execution_count": 62,
   "id": "b5826302",
   "metadata": {},
   "outputs": [
    {
     "name": "stdout",
     "output_type": "stream",
     "text": [
      "ALD_yearly_eq.nc\t  LAYERTYPE_monthly_tr.nc  RM_monthly_sp.nc\r\n",
      "ALD_yearly_sp.nc\t  LTRFALC_yearly_eq.nc\t   RM_monthly_tr.nc\r\n",
      "ALD_yearly_tr.nc\t  LTRFALC_yearly_sp.nc\t   SHLWC_yearly_eq.nc\r\n",
      "AVLN_yearly_eq.nc\t  LTRFALC_yearly_tr.nc\t   SHLWC_yearly_sp.nc\r\n",
      "AVLN_yearly_sp.nc\t  LWCLAYER_monthly_eq.nc   SHLWC_yearly_tr.nc\r\n",
      "AVLN_yearly_tr.nc\t  LWCLAYER_monthly_sp.nc   SHLWDZ_yearly_eq.nc\r\n",
      "CMTNUM_yearly_eq.nc\t  LWCLAYER_monthly_tr.nc   SHLWDZ_yearly_sp.nc\r\n",
      "CMTNUM_yearly_sp.nc\t  MINEC_yearly_eq.nc\t   SHLWDZ_yearly_tr.nc\r\n",
      "CMTNUM_yearly_tr.nc\t  MINEC_yearly_sp.nc\t   SNOWTHICK_monthly_eq.nc\r\n",
      "DEEPC_yearly_eq.nc\t  MINEC_yearly_tr.nc\t   SNOWTHICK_monthly_sp.nc\r\n",
      "DEEPC_yearly_sp.nc\t  MOSSDZ_yearly_eq.nc\t   SNOWTHICK_monthly_tr.nc\r\n",
      "DEEPC_yearly_tr.nc\t  MOSSDZ_yearly_sp.nc\t   SWE_monthly_eq.nc\r\n",
      "DEEPDZ_yearly_eq.nc\t  MOSSDZ_yearly_tr.nc\t   SWE_monthly_sp.nc\r\n",
      "DEEPDZ_yearly_sp.nc\t  NPP_monthly_eq.nc\t   SWE_monthly_tr.nc\r\n",
      "DEEPDZ_yearly_tr.nc\t  NPP_monthly_sp.nc\t   TLAYER_monthly_eq.nc\r\n",
      "EET_monthly_eq.nc\t  NPP_monthly_tr.nc\t   TLAYER_monthly_sp.nc\r\n",
      "EET_monthly_sp.nc\t  ORGN_yearly_eq.nc\t   TLAYER_monthly_tr.nc\r\n",
      "EET_monthly_tr.nc\t  ORGN_yearly_sp.nc\t   TRANSPIRATION_monthly_eq.nc\r\n",
      "GPP_monthly_eq.nc\t  ORGN_yearly_tr.nc\t   TRANSPIRATION_monthly_sp.nc\r\n",
      "GPP_monthly_sp.nc\t  PET_monthly_eq.nc\t   TRANSPIRATION_monthly_tr.nc\r\n",
      "GPP_monthly_tr.nc\t  PET_monthly_sp.nc\t   VWCLAYER_monthly_eq.nc\r\n",
      "LAI_monthly_eq.nc\t  PET_monthly_tr.nc\t   VWCLAYER_monthly_sp.nc\r\n",
      "LAI_monthly_sp.nc\t  RAINFALL_monthly_eq.nc   VWCLAYER_monthly_tr.nc\r\n",
      "LAI_monthly_tr.nc\t  RAINFALL_monthly_sp.nc   WATERTAB_monthly_eq.nc\r\n",
      "LAYERDEPTH_monthly_eq.nc  RAINFALL_monthly_tr.nc   WATERTAB_monthly_sp.nc\r\n",
      "LAYERDEPTH_monthly_sp.nc  RG_monthly_eq.nc\t   WATERTAB_monthly_tr.nc\r\n",
      "LAYERDEPTH_monthly_tr.nc  RG_monthly_sp.nc\t   restart-eq.nc\r\n",
      "LAYERDZ_monthly_eq.nc\t  RG_monthly_tr.nc\t   restart-pr.nc\r\n",
      "LAYERDZ_monthly_sp.nc\t  RH_monthly_eq.nc\t   restart-sp.nc\r\n",
      "LAYERDZ_monthly_tr.nc\t  RH_monthly_sp.nc\t   restart-tr.nc\r\n",
      "LAYERTYPE_monthly_eq.nc   RH_monthly_tr.nc\t   run_status.nc\r\n",
      "LAYERTYPE_monthly_sp.nc   RM_monthly_eq.nc\r\n"
     ]
    }
   ],
   "source": [
    "!ls /data/workflows/poker_flats_merged_data/output/"
   ]
  },
  {
   "cell_type": "code",
   "execution_count": 63,
   "id": "c8d6d8bc",
   "metadata": {},
   "outputs": [],
   "source": [
    "gpp_ds = nc.Dataset('/data/workflows/poker_flats_merged_data/output/GPP_monthly_eq.nc')\n",
    "gpp = gpp_ds.variables['GPP'][:, y_x[0], y_x[1]]\n",
    "\n",
    "rh_ds = nc.Dataset('/data/workflows/poker_flats_merged_data/output/RH_monthly_eq.nc')\n",
    "rh = rh_ds.variables['RH'][:, y_x[0], y_x[1]]\n",
    "\n",
    "lwc_ds = nc.Dataset('/data/workflows/poker_flats_merged_data/output/LWCLAYER_monthly_eq.nc')\n",
    "lwc = lwc_ds.variables['LWCLAYER'][:,3,y_x[0], y_x[1]]*100\n",
    "\n",
    "\n",
    "year=np.array([np.floor(i/12) for i in range(0, len(gpp))]).astype(np.uint16)\n",
    "month=[1,2,3,4,5,6,7,8,9,10,11,12]*(len(gpp)//12)\n",
    "tem_output_df = pd.DataFrame({'year': year, 'month': month, 'GPP': gpp, 'RH': rh, 'LWC':lwc})\n",
    "yearly_gpp = tem_output_df.groupby('year').sum().reset_index()"
   ]
  },
  {
   "cell_type": "code",
   "execution_count": 64,
   "id": "40e73825",
   "metadata": {},
   "outputs": [
    {
     "data": {
      "text/plain": [
       "500"
      ]
     },
     "execution_count": 64,
     "metadata": {},
     "output_type": "execute_result"
    }
   ],
   "source": [
    "len(gpp)//12"
   ]
  },
  {
   "cell_type": "markdown",
   "id": "cad80ac2",
   "metadata": {
    "scrolled": false
   },
   "source": []
  },
  {
   "cell_type": "code",
   "execution_count": 65,
   "id": "d5f94ec7",
   "metadata": {},
   "outputs": [
    {
     "data": {
      "text/plain": [
       "<AxesSubplot:xlabel='year', ylabel='GPP'>"
      ]
     },
     "execution_count": 65,
     "metadata": {},
     "output_type": "execute_result"
    },
    {
     "data": {
      "image/png": "[encoded data removed]",
      "text/plain": [
       "<Figure size 640x480 with 1 Axes>"
      ]
     },
     "metadata": {},
     "output_type": "display_data"
    }
   ],
   "source": [
    "sns.scatterplot(data=yearly_gpp, x='year', y='GPP')"
   ]
  },
  {
   "cell_type": "code",
   "execution_count": 66,
   "id": "4b8c34fa",
   "metadata": {},
   "outputs": [
    {
     "data": {
      "text/plain": [
       "<AxesSubplot:xlabel='year', ylabel='RH'>"
      ]
     },
     "execution_count": 66,
     "metadata": {},
     "output_type": "execute_result"
    },
    {
     "data": {
      "image/png": "[encoded data removed]",
      "text/plain": [
       "<Figure size 640x480 with 1 Axes>"
      ]
     },
     "metadata": {},
     "output_type": "display_data"
    }
   ],
   "source": [
    "sns.scatterplot(data=yearly_gpp, x='year', y='RH')"
   ]
  },
  {
   "cell_type": "code",
   "execution_count": 67,
   "id": "0b01b44f",
   "metadata": {},
   "outputs": [],
   "source": [
    "deepc_ds = nc.Dataset('/data/workflows/poker_flats_merged_data/output/DEEPC_yearly_eq.nc')\n",
    "deepc = deepc_ds.variables['DEEPC'][:, y_x[0], y_x[1]]\n",
    "year=np.array([i for i in range(0, len(deepc))]).astype(np.uint16)\n",
    "deepc_df = pd.DataFrame({'year': year, 'DEEPC': deepc})"
   ]
  },
  {
   "cell_type": "code",
   "execution_count": 68,
   "id": "6d213c51",
   "metadata": {},
   "outputs": [],
   "source": [
    "shlwc_ds = nc.Dataset('/data/workflows/poker_flats_merged_data/output/SHLWC_yearly_eq.nc')\n",
    "shlwc = shlwc_ds.variables['SHLWC'][:, y_x[0], y_x[1]]\n",
    "year=np.array([i for i in range(0, len(deepc))]).astype(np.uint16)\n",
    "shlwc_df = pd.DataFrame({'year': year, 'SHLWC': shlwc})"
   ]
  },
  {
   "cell_type": "code",
   "execution_count": 69,
   "id": "a7df5448",
   "metadata": {
    "scrolled": false
   },
   "outputs": [
    {
     "data": {
      "text/plain": [
       "<AxesSubplot:xlabel='year', ylabel='DEEPC'>"
      ]
     },
     "execution_count": 69,
     "metadata": {},
     "output_type": "execute_result"
    },
    {
     "data": {
      "image/png": "[encoded data removed]",
      "text/plain": [
       "<Figure size 640x480 with 1 Axes>"
      ]
     },
     "metadata": {},
     "output_type": "display_data"
    }
   ],
   "source": [
    "sns.scatterplot(data=deepc_df, x='year', y='DEEPC')\n",
    "sns.scatterplot(data=shlwc_df, x='year', y='SHLWC')"
   ]
  },
  {
   "cell_type": "code",
   "execution_count": 70,
   "id": "2c31241c",
   "metadata": {},
   "outputs": [],
   "source": [
    "ltrfalc_ds = nc.Dataset('/data/workflows/poker_flats_merged_data/output/LTRFALC_yearly_eq.nc')\n",
    "ltrfalc = ltrfalc_ds.variables['LTRFALC'][:, y_x[0], y_x[1]]\n",
    "year=np.array([i for i in range(0, len(ltrfalc))]).astype(np.uint16)\n",
    "ltrfalc_df = pd.DataFrame({'year': year, 'LTRFALC': ltrfalc})"
   ]
  },
  {
   "cell_type": "code",
   "execution_count": 71,
   "id": "242458af",
   "metadata": {},
   "outputs": [
    {
     "data": {
      "text/plain": [
       "<AxesSubplot:xlabel='year', ylabel='LTRFALC'>"
      ]
     },
     "execution_count": 71,
     "metadata": {},
     "output_type": "execute_result"
    },
    {
     "data": {
      "image/png": "[encoded data removed]",
      "text/plain": [
       "<Figure size 640x480 with 1 Axes>"
      ]
     },
     "metadata": {},
     "output_type": "display_data"
    }
   ],
   "source": [
    "sns.scatterplot(data=ltrfalc_df, x='year', y='LTRFALC')"
   ]
  },
  {
   "cell_type": "code",
   "execution_count": 72,
   "id": "eaeb176b",
   "metadata": {},
   "outputs": [],
   "source": [
    "avln_ds = nc.Dataset('/data/workflows/poker_flats_merged_data/output/AVLN_yearly_eq.nc')\n",
    "avln = avln_ds.variables['AVLN'][:, y_x[0], y_x[1]]\n",
    "year=np.array([i for i in range(0, len(ltrfalc))]).astype(np.uint16)\n",
    "avln_df = pd.DataFrame({'year': year, 'AVLN': avln})\n",
    "\n",
    "orgn_ds = nc.Dataset('/data/workflows/poker_flats_merged_data/output/ORGN_yearly_eq.nc')\n",
    "orgn = orgn_ds.variables['ORGN'][:, y_x[0], y_x[1]]\n",
    "year=np.array([i for i in range(0, len(ltrfalc))]).astype(np.uint16)\n",
    "orgn_df = pd.DataFrame({'year': year, 'ORGN': orgn})"
   ]
  },
  {
   "cell_type": "code",
   "execution_count": 73,
   "id": "916dcc62",
   "metadata": {},
   "outputs": [
    {
     "data": {
      "text/plain": [
       "<AxesSubplot:xlabel='year', ylabel='AVLN'>"
      ]
     },
     "execution_count": 73,
     "metadata": {},
     "output_type": "execute_result"
    },
    {
     "data": {
      "image/png": "[encoded data removed]",
      "text/plain": [
       "<Figure size 640x480 with 1 Axes>"
      ]
     },
     "metadata": {},
     "output_type": "display_data"
    }
   ],
   "source": [
    "sns.scatterplot(data=avln_df, x='year', y='AVLN')"
   ]
  },
  {
   "cell_type": "code",
   "execution_count": 74,
   "id": "f465a916",
   "metadata": {},
   "outputs": [
    {
     "data": {
      "text/plain": [
       "<AxesSubplot:xlabel='year', ylabel='ORGN'>"
      ]
     },
     "execution_count": 74,
     "metadata": {},
     "output_type": "execute_result"
    },
    {
     "data": {
      "image/png": "[encoded data removed]",
      "text/plain": [
       "<Figure size 640x480 with 1 Axes>"
      ]
     },
     "metadata": {},
     "output_type": "display_data"
    }
   ],
   "source": [
    "sns.scatterplot(data=orgn_df, x='year', y='ORGN')"
   ]
  },
  {
   "cell_type": "code",
   "execution_count": 75,
   "id": "58cc4c61",
   "metadata": {},
   "outputs": [
    {
     "data": {
      "text/plain": [
       "<AxesSubplot:xlabel='year', ylabel='LWC'>"
      ]
     },
     "execution_count": 75,
     "metadata": {},
     "output_type": "execute_result"
    },
    {
     "data": {
      "image/png": "[encoded data removed]",
      "text/plain": [
       "<Figure size 640x480 with 1 Axes>"
      ]
     },
     "metadata": {},
     "output_type": "display_data"
    }
   ],
   "source": [
    "sns.scatterplot(data=yearly_gpp, x='year', y='LWC')"
   ]
  },
  {
   "cell_type": "code",
   "execution_count": 76,
   "id": "f8bdd2d4",
   "metadata": {},
   "outputs": [],
   "source": [
    "minec_ds = nc.Dataset('/data/workflows/poker_flats_merged_data/output/MINEC_yearly_eq.nc')\n",
    "minec = minec_ds.variables['MINEC'][:, y_x[0], y_x[1]]\n",
    "year=np.array([i for i in range(0, len(minec))]).astype(np.uint16)\n",
    "minec_df = pd.DataFrame({'year': year, 'MINEC': minec})"
   ]
  },
  {
   "cell_type": "code",
   "execution_count": 77,
   "id": "7b373352",
   "metadata": {},
   "outputs": [
    {
     "data": {
      "text/plain": [
       "<AxesSubplot:xlabel='year', ylabel='MINEC'>"
      ]
     },
     "execution_count": 77,
     "metadata": {},
     "output_type": "execute_result"
    },
    {
     "data": {
      "image/png": "[encoded data removed]",
      "text/plain": [
       "<Figure size 640x480 with 1 Axes>"
      ]
     },
     "metadata": {},
     "output_type": "display_data"
    }
   ],
   "source": [
    "sns.scatterplot(data=minec_df, x='year', y='MINEC')"
   ]
  },
  {
   "cell_type": "code",
   "execution_count": null,
   "id": "1086bd8a",
   "metadata": {},
   "outputs": [],
   "source": []
  }
 ],
 "metadata": {
  "kernelspec": {
   "display_name": "Python 3 (ipykernel)",
   "language": "python",
   "name": "python3"
  },
  "language_info": {
   "codemirror_mode": {
    "name": "ipython",
    "version": 3
   },
   "file_extension": ".py",
   "mimetype": "text/x-python",
   "name": "python",
   "nbconvert_exporter": "python",
   "pygments_lexer": "ipython3",
   "version": "3.8.6"
  }
 },
 "nbformat": 4,
 "nbformat_minor": 5
}
