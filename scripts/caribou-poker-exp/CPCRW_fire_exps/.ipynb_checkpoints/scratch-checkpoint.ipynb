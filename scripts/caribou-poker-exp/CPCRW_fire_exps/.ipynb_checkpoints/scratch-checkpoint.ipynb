{
 "cells": [
  {
   "cell_type": "code",
   "execution_count": 1,
   "id": "d1485b80",
   "metadata": {},
   "outputs": [],
   "source": [
    "import xarray as xr\n",
    "import seaborn as sns\n",
    "import pandas as pd\n",
    "from matplotlib import pyplot as plt"
   ]
  },
  {
   "cell_type": "code",
   "execution_count": 26,
   "id": "01a3275e",
   "metadata": {},
   "outputs": [
    {
     "name": "stderr",
     "output_type": "stream",
     "text": [
      "/tmp/ipykernel_12132/3730198356.py:3: RuntimeWarning: Converting a CFTimeIndex with dates from a non-standard calendar, 'noleap', to a pandas.DatetimeIndex, which uses dates from the standard calendar.  This may lead to subtle errors in operations that depend on the length of time between dates.\n",
      "  rh_layer_cumulative['time'] = rh_layer_cumulative.indexes['time'].to_datetimeindex()\n"
     ]
    }
   ],
   "source": [
    "rh_cumulative_layer_path = '/data/workflows/BONA-black-spruce-fire-1930-RH_cumulative/output/RH_monthly_tr.nc'\n",
    "rh_layer_cumulative = xr.open_dataset(rh_cumulative_layer_path)\n",
    "rh_layer_cumulative['time'] = rh_layer_cumulative.indexes['time'].to_datetimeindex()\n",
    "rh_layer_cumulative = rh_layer_cumulative.to_dataframe().reset_index().drop(columns=['x', 'y'])\n",
    "rh_layer_cumulative['time'] = pd.to_datetime(rh_layer_cumulative['time'])\n",
    "rh_layer_cumulative['year'] = rh_layer_cumulative['time'].dt.year\n",
    "rh_layer_cumulative = rh_layer_cumulative.groupby(by=['year']).sum().reset_index()"
   ]
  },
  {
   "cell_type": "code",
   "execution_count": 27,
   "id": "e5b22155",
   "metadata": {},
   "outputs": [
    {
     "name": "stderr",
     "output_type": "stream",
     "text": [
      "/tmp/ipykernel_12132/2253364036.py:3: RuntimeWarning: Converting a CFTimeIndex with dates from a non-standard calendar, 'noleap', to a pandas.DatetimeIndex, which uses dates from the standard calendar.  This may lead to subtle errors in operations that depend on the length of time between dates.\n",
      "  deadc['time'] = deadc.indexes['time'].to_datetimeindex()\n"
     ]
    }
   ],
   "source": [
    "deadc_path = '/data/workflows/BONA-black-spruce-fire-1930/output/DEADC_yearly_tr.nc'\n",
    "deadc = xr.open_dataset(deadc_path)\n",
    "deadc['time'] = deadc.indexes['time'].to_datetimeindex()\n",
    "deadc = deadc.to_dataframe().reset_index().drop(columns=['x', 'y'])\n",
    "deadc['time'] = pd.to_datetime(deadc['time'])\n",
    "deadc['year'] = deadc['time'].dt.year\n",
    "deadc = deadc.groupby(by=['year']).sum().reset_index()"
   ]
  },
  {
   "cell_type": "code",
   "execution_count": 28,
   "id": "4d48bd6f",
   "metadata": {},
   "outputs": [
    {
     "name": "stderr",
     "output_type": "stream",
     "text": [
      "/tmp/ipykernel_12132/2940492388.py:3: RuntimeWarning: Converting a CFTimeIndex with dates from a non-standard calendar, 'noleap', to a pandas.DatetimeIndex, which uses dates from the standard calendar.  This may lead to subtle errors in operations that depend on the length of time between dates.\n",
      "  dwdc['time'] = dwdc.indexes['time'].to_datetimeindex()\n"
     ]
    }
   ],
   "source": [
    "dwdc_path = '/data/workflows/BONA-black-spruce-fire-1930/output/DWDC_yearly_tr.nc'\n",
    "dwdc = xr.open_dataset(dwdc_path)\n",
    "dwdc['time'] = dwdc.indexes['time'].to_datetimeindex()\n",
    "dwdc = dwdc.to_dataframe().reset_index().drop(columns=['x', 'y'])\n",
    "dwdc['time'] = pd.to_datetime(dwdc['time'])\n",
    "dwdc['year'] = dwdc['time'].dt.year\n",
    "dwdc = dwdc.groupby(by=['year']).sum().reset_index()"
   ]
  },
  {
   "cell_type": "code",
   "execution_count": 29,
   "id": "78e20b3f",
   "metadata": {},
   "outputs": [],
   "source": [
    "#rh_layer_path = '/data/workflows/BONA-black-spruce-fire-1930/output/RH_monthly_tr.nc'\n",
    "#rh_layer = xr.open_dataset(rh_layer_path)\n",
    "#rh_layer['time'] = rh_layer.indexes['time'].to_datetimeindex()\n",
    "#rh_layer = rh_layer.to_dataframe().reset_index().drop(columns=['x', 'y'])\n",
    "#rh_layer['time'] = pd.to_datetime(rh_layer['time'])\n",
    "#rh_layer['year'] = rh_layer['time'].dt.year\n",
    "#rh_layer_yearly = rh_layer.groupby(by=['year', 'layer']).sum().reset_index()\n",
    "#rh_layer_yearly_sum = rh_layer.groupby(by=['year']).sum().reset_index()"
   ]
  },
  {
   "cell_type": "code",
   "execution_count": 30,
   "id": "4e5f9333",
   "metadata": {},
   "outputs": [
    {
     "name": "stderr",
     "output_type": "stream",
     "text": [
      "/tmp/ipykernel_12132/4279236390.py:3: RuntimeWarning: Converting a CFTimeIndex with dates from a non-standard calendar, 'noleap', to a pandas.DatetimeIndex, which uses dates from the standard calendar.  This may lead to subtle errors in operations that depend on the length of time between dates.\n",
      "  lwc_layer['time'] = lwc_layer.indexes['time'].to_datetimeindex()\n"
     ]
    }
   ],
   "source": [
    "lwc_layer_path = '/data/workflows/BONA-black-spruce-fire-1930/output/LWCLAYER_yearly_tr.nc'\n",
    "lwc_layer = xr.open_dataset(lwc_layer_path)\n",
    "lwc_layer['time'] = lwc_layer.indexes['time'].to_datetimeindex()\n",
    "lwc_layer = lwc_layer.to_dataframe().reset_index().drop(columns=['x', 'y'])\n",
    "lwc_layer['time'] = pd.to_datetime(lwc_layer['time'])\n",
    "lwc_layer['year'] = lwc_layer['time'].dt.year\n",
    "lwc_layer_yearly = lwc_layer.groupby(by=['year', 'layer']).mean().reset_index()"
   ]
  },
  {
   "cell_type": "code",
   "execution_count": 31,
   "id": "d74d2dda",
   "metadata": {},
   "outputs": [
    {
     "name": "stderr",
     "output_type": "stream",
     "text": [
      "/tmp/ipykernel_12132/991711402.py:3: RuntimeWarning: Converting a CFTimeIndex with dates from a non-standard calendar, 'noleap', to a pandas.DatetimeIndex, which uses dates from the standard calendar.  This may lead to subtle errors in operations that depend on the length of time between dates.\n",
      "  t_layer['time'] = t_layer.indexes['time'].to_datetimeindex()\n"
     ]
    }
   ],
   "source": [
    "t_layer_path = '/data/workflows/BONA-black-spruce-fire-1930/output/TLAYER_yearly_tr.nc'\n",
    "t_layer = xr.open_dataset(t_layer_path)\n",
    "t_layer['time'] = t_layer.indexes['time'].to_datetimeindex()\n",
    "t_layer = t_layer.to_dataframe().reset_index().drop(columns=['x', 'y'])\n",
    "t_layer['time'] = pd.to_datetime(t_layer['time'])\n",
    "t_layer['year'] = t_layer['time'].dt.year\n",
    "t_layer_yearly = t_layer.groupby(by=['year', 'layer']).mean().reset_index()"
   ]
  },
  {
   "cell_type": "code",
   "execution_count": 32,
   "id": "e66e7cc3",
   "metadata": {},
   "outputs": [
    {
     "data": {
      "text/html": [
       "<div>\n",
       "<style scoped>\n",
       "    .dataframe tbody tr th:only-of-type {\n",
       "        vertical-align: middle;\n",
       "    }\n",
       "\n",
       "    .dataframe tbody tr th {\n",
       "        vertical-align: top;\n",
       "    }\n",
       "\n",
       "    .dataframe thead th {\n",
       "        text-align: right;\n",
       "    }\n",
       "</style>\n",
       "<table border=\"1\" class=\"dataframe\">\n",
       "  <thead>\n",
       "    <tr style=\"text-align: right;\">\n",
       "      <th></th>\n",
       "      <th>time</th>\n",
       "      <th>NPP</th>\n",
       "      <th>year</th>\n",
       "    </tr>\n",
       "  </thead>\n",
       "  <tbody>\n",
       "    <tr>\n",
       "      <th>0</th>\n",
       "      <td>1901-01-01</td>\n",
       "      <td>-1.114520</td>\n",
       "      <td>1901</td>\n",
       "    </tr>\n",
       "    <tr>\n",
       "      <th>1</th>\n",
       "      <td>1901-02-01</td>\n",
       "      <td>-2.054280</td>\n",
       "      <td>1901</td>\n",
       "    </tr>\n",
       "    <tr>\n",
       "      <th>2</th>\n",
       "      <td>1901-03-01</td>\n",
       "      <td>-10.137357</td>\n",
       "      <td>1901</td>\n",
       "    </tr>\n",
       "    <tr>\n",
       "      <th>3</th>\n",
       "      <td>1901-04-01</td>\n",
       "      <td>-26.503233</td>\n",
       "      <td>1901</td>\n",
       "    </tr>\n",
       "    <tr>\n",
       "      <th>4</th>\n",
       "      <td>1901-05-01</td>\n",
       "      <td>42.239563</td>\n",
       "      <td>1901</td>\n",
       "    </tr>\n",
       "    <tr>\n",
       "      <th>...</th>\n",
       "      <td>...</td>\n",
       "      <td>...</td>\n",
       "      <td>...</td>\n",
       "    </tr>\n",
       "    <tr>\n",
       "      <th>1459</th>\n",
       "      <td>2022-08-31</td>\n",
       "      <td>244.008973</td>\n",
       "      <td>2022</td>\n",
       "    </tr>\n",
       "    <tr>\n",
       "      <th>1460</th>\n",
       "      <td>2022-10-01</td>\n",
       "      <td>121.017689</td>\n",
       "      <td>2022</td>\n",
       "    </tr>\n",
       "    <tr>\n",
       "      <th>1461</th>\n",
       "      <td>2022-10-31</td>\n",
       "      <td>-45.137973</td>\n",
       "      <td>2022</td>\n",
       "    </tr>\n",
       "    <tr>\n",
       "      <th>1462</th>\n",
       "      <td>2022-12-01</td>\n",
       "      <td>-12.060940</td>\n",
       "      <td>2022</td>\n",
       "    </tr>\n",
       "    <tr>\n",
       "      <th>1463</th>\n",
       "      <td>2022-12-31</td>\n",
       "      <td>-3.766030</td>\n",
       "      <td>2022</td>\n",
       "    </tr>\n",
       "  </tbody>\n",
       "</table>\n",
       "<p>1464 rows × 3 columns</p>\n",
       "</div>"
      ],
      "text/plain": [
       "           time         NPP  year\n",
       "0    1901-01-01   -1.114520  1901\n",
       "1    1901-02-01   -2.054280  1901\n",
       "2    1901-03-01  -10.137357  1901\n",
       "3    1901-04-01  -26.503233  1901\n",
       "4    1901-05-01   42.239563  1901\n",
       "...         ...         ...   ...\n",
       "1459 2022-08-31  244.008973  2022\n",
       "1460 2022-10-01  121.017689  2022\n",
       "1461 2022-10-31  -45.137973  2022\n",
       "1462 2022-12-01  -12.060940  2022\n",
       "1463 2022-12-31   -3.766030  2022\n",
       "\n",
       "[1464 rows x 3 columns]"
      ]
     },
     "execution_count": 32,
     "metadata": {},
     "output_type": "execute_result"
    }
   ],
   "source": [
    "npp"
   ]
  },
  {
   "cell_type": "code",
   "execution_count": 33,
   "id": "2c275f61",
   "metadata": {},
   "outputs": [
    {
     "name": "stderr",
     "output_type": "stream",
     "text": [
      "/tmp/ipykernel_12132/1436700667.py:3: RuntimeWarning: Converting a CFTimeIndex with dates from a non-standard calendar, 'noleap', to a pandas.DatetimeIndex, which uses dates from the standard calendar.  This may lead to subtle errors in operations that depend on the length of time between dates.\n",
      "  npp['time'] = npp.indexes['time'].to_datetimeindex()\n"
     ]
    },
    {
     "ename": "KeyError",
     "evalue": "'pft'",
     "output_type": "error",
     "traceback": [
      "\u001b[0;31m---------------------------------------------------------------------------\u001b[0m",
      "\u001b[0;31mKeyError\u001b[0m                                  Traceback (most recent call last)",
      "File \u001b[0;32m~/.pyenv/versions/3.8.6/lib/python3.8/site-packages/pandas/core/indexes/base.py:3621\u001b[0m, in \u001b[0;36mIndex.get_loc\u001b[0;34m(self, key, method, tolerance)\u001b[0m\n\u001b[1;32m   3620\u001b[0m \u001b[38;5;28;01mtry\u001b[39;00m:\n\u001b[0;32m-> 3621\u001b[0m     \u001b[38;5;28;01mreturn\u001b[39;00m \u001b[38;5;28;43mself\u001b[39;49m\u001b[38;5;241;43m.\u001b[39;49m\u001b[43m_engine\u001b[49m\u001b[38;5;241;43m.\u001b[39;49m\u001b[43mget_loc\u001b[49m\u001b[43m(\u001b[49m\u001b[43mcasted_key\u001b[49m\u001b[43m)\u001b[49m\n\u001b[1;32m   3622\u001b[0m \u001b[38;5;28;01mexcept\u001b[39;00m \u001b[38;5;167;01mKeyError\u001b[39;00m \u001b[38;5;28;01mas\u001b[39;00m err:\n",
      "File \u001b[0;32m~/.pyenv/versions/3.8.6/lib/python3.8/site-packages/pandas/_libs/index.pyx:136\u001b[0m, in \u001b[0;36mpandas._libs.index.IndexEngine.get_loc\u001b[0;34m()\u001b[0m\n",
      "File \u001b[0;32m~/.pyenv/versions/3.8.6/lib/python3.8/site-packages/pandas/_libs/index.pyx:163\u001b[0m, in \u001b[0;36mpandas._libs.index.IndexEngine.get_loc\u001b[0;34m()\u001b[0m\n",
      "File \u001b[0;32mpandas/_libs/hashtable_class_helper.pxi:5198\u001b[0m, in \u001b[0;36mpandas._libs.hashtable.PyObjectHashTable.get_item\u001b[0;34m()\u001b[0m\n",
      "File \u001b[0;32mpandas/_libs/hashtable_class_helper.pxi:5206\u001b[0m, in \u001b[0;36mpandas._libs.hashtable.PyObjectHashTable.get_item\u001b[0;34m()\u001b[0m\n",
      "\u001b[0;31mKeyError\u001b[0m: 'pft'",
      "\nThe above exception was the direct cause of the following exception:\n",
      "\u001b[0;31mKeyError\u001b[0m                                  Traceback (most recent call last)",
      "Input \u001b[0;32mIn [33]\u001b[0m, in \u001b[0;36m<cell line: 7>\u001b[0;34m()\u001b[0m\n\u001b[1;32m      5\u001b[0m npp[\u001b[38;5;124m'\u001b[39m\u001b[38;5;124mtime\u001b[39m\u001b[38;5;124m'\u001b[39m] \u001b[38;5;241m=\u001b[39m pd\u001b[38;5;241m.\u001b[39mto_datetime(npp[\u001b[38;5;124m'\u001b[39m\u001b[38;5;124mtime\u001b[39m\u001b[38;5;124m'\u001b[39m])\n\u001b[1;32m      6\u001b[0m npp[\u001b[38;5;124m'\u001b[39m\u001b[38;5;124myear\u001b[39m\u001b[38;5;124m'\u001b[39m] \u001b[38;5;241m=\u001b[39m npp[\u001b[38;5;124m'\u001b[39m\u001b[38;5;124mtime\u001b[39m\u001b[38;5;124m'\u001b[39m]\u001b[38;5;241m.\u001b[39mdt\u001b[38;5;241m.\u001b[39myear\n\u001b[0;32m----> 7\u001b[0m npp_yearly \u001b[38;5;241m=\u001b[39m npp\u001b[38;5;241m.\u001b[39mloc[\u001b[43mnpp\u001b[49m\u001b[43m[\u001b[49m\u001b[38;5;124;43m'\u001b[39;49m\u001b[38;5;124;43mpft\u001b[39;49m\u001b[38;5;124;43m'\u001b[39;49m\u001b[43m]\u001b[49m\u001b[38;5;241m==\u001b[39m\u001b[38;5;241m4\u001b[39m]\u001b[38;5;241m.\u001b[39mgroupby(by\u001b[38;5;241m=\u001b[39m[\u001b[38;5;124m'\u001b[39m\u001b[38;5;124myear\u001b[39m\u001b[38;5;124m'\u001b[39m, \u001b[38;5;124m'\u001b[39m\u001b[38;5;124mpftpart\u001b[39m\u001b[38;5;124m'\u001b[39m])\u001b[38;5;241m.\u001b[39msum()\u001b[38;5;241m.\u001b[39mreset_index()\n\u001b[1;32m      8\u001b[0m npp_yearly_sum \u001b[38;5;241m=\u001b[39m npp\u001b[38;5;241m.\u001b[39mgroupby(by\u001b[38;5;241m=\u001b[39m[\u001b[38;5;124m'\u001b[39m\u001b[38;5;124myear\u001b[39m\u001b[38;5;124m'\u001b[39m])\u001b[38;5;241m.\u001b[39msum()\u001b[38;5;241m.\u001b[39mreset_index()\n",
      "File \u001b[0;32m~/.pyenv/versions/3.8.6/lib/python3.8/site-packages/pandas/core/frame.py:3505\u001b[0m, in \u001b[0;36mDataFrame.__getitem__\u001b[0;34m(self, key)\u001b[0m\n\u001b[1;32m   3503\u001b[0m \u001b[38;5;28;01mif\u001b[39;00m \u001b[38;5;28mself\u001b[39m\u001b[38;5;241m.\u001b[39mcolumns\u001b[38;5;241m.\u001b[39mnlevels \u001b[38;5;241m>\u001b[39m \u001b[38;5;241m1\u001b[39m:\n\u001b[1;32m   3504\u001b[0m     \u001b[38;5;28;01mreturn\u001b[39;00m \u001b[38;5;28mself\u001b[39m\u001b[38;5;241m.\u001b[39m_getitem_multilevel(key)\n\u001b[0;32m-> 3505\u001b[0m indexer \u001b[38;5;241m=\u001b[39m \u001b[38;5;28;43mself\u001b[39;49m\u001b[38;5;241;43m.\u001b[39;49m\u001b[43mcolumns\u001b[49m\u001b[38;5;241;43m.\u001b[39;49m\u001b[43mget_loc\u001b[49m\u001b[43m(\u001b[49m\u001b[43mkey\u001b[49m\u001b[43m)\u001b[49m\n\u001b[1;32m   3506\u001b[0m \u001b[38;5;28;01mif\u001b[39;00m is_integer(indexer):\n\u001b[1;32m   3507\u001b[0m     indexer \u001b[38;5;241m=\u001b[39m [indexer]\n",
      "File \u001b[0;32m~/.pyenv/versions/3.8.6/lib/python3.8/site-packages/pandas/core/indexes/base.py:3623\u001b[0m, in \u001b[0;36mIndex.get_loc\u001b[0;34m(self, key, method, tolerance)\u001b[0m\n\u001b[1;32m   3621\u001b[0m     \u001b[38;5;28;01mreturn\u001b[39;00m \u001b[38;5;28mself\u001b[39m\u001b[38;5;241m.\u001b[39m_engine\u001b[38;5;241m.\u001b[39mget_loc(casted_key)\n\u001b[1;32m   3622\u001b[0m \u001b[38;5;28;01mexcept\u001b[39;00m \u001b[38;5;167;01mKeyError\u001b[39;00m \u001b[38;5;28;01mas\u001b[39;00m err:\n\u001b[0;32m-> 3623\u001b[0m     \u001b[38;5;28;01mraise\u001b[39;00m \u001b[38;5;167;01mKeyError\u001b[39;00m(key) \u001b[38;5;28;01mfrom\u001b[39;00m \u001b[38;5;21;01merr\u001b[39;00m\n\u001b[1;32m   3624\u001b[0m \u001b[38;5;28;01mexcept\u001b[39;00m \u001b[38;5;167;01mTypeError\u001b[39;00m:\n\u001b[1;32m   3625\u001b[0m     \u001b[38;5;66;03m# If we have a listlike key, _check_indexing_error will raise\u001b[39;00m\n\u001b[1;32m   3626\u001b[0m     \u001b[38;5;66;03m#  InvalidIndexError. Otherwise we fall through and re-raise\u001b[39;00m\n\u001b[1;32m   3627\u001b[0m     \u001b[38;5;66;03m#  the TypeError.\u001b[39;00m\n\u001b[1;32m   3628\u001b[0m     \u001b[38;5;28mself\u001b[39m\u001b[38;5;241m.\u001b[39m_check_indexing_error(key)\n",
      "\u001b[0;31mKeyError\u001b[0m: 'pft'"
     ]
    }
   ],
   "source": [
    "npp_path = '/data/workflows/BONA-black-spruce-fire-1930/output/NPP_monthly_tr.nc'\n",
    "npp = xr.open_dataset(npp_path)\n",
    "npp['time'] = npp.indexes['time'].to_datetimeindex()\n",
    "npp = npp.to_dataframe().reset_index().drop(columns=['x', 'y'])\n",
    "npp['time'] = pd.to_datetime(npp['time'])\n",
    "npp['year'] = npp['time'].dt.year\n",
    "npp_yearly = npp.loc[npp['pft']==4].groupby(by=['year', 'pftpart']).sum().reset_index()\n",
    "npp_yearly_sum = npp.groupby(by=['year']).sum().reset_index()"
   ]
  },
  {
   "cell_type": "code",
   "execution_count": 34,
   "id": "30b70c0b",
   "metadata": {},
   "outputs": [
    {
     "name": "stderr",
     "output_type": "stream",
     "text": [
      "/tmp/ipykernel_12132/1531300240.py:3: RuntimeWarning: Converting a CFTimeIndex with dates from a non-standard calendar, 'noleap', to a pandas.DatetimeIndex, which uses dates from the standard calendar.  This may lead to subtle errors in operations that depend on the length of time between dates.\n",
      "  inpp['time'] = inpp.indexes['time'].to_datetimeindex()\n"
     ]
    }
   ],
   "source": [
    "inpp_path = '/data/workflows/BONA-birch-fire-1930/output/INNPP_monthly_tr.nc'\n",
    "inpp = xr.open_dataset(inpp_path)\n",
    "inpp['time'] = inpp.indexes['time'].to_datetimeindex()\n",
    "inpp = inpp.to_dataframe().reset_index().drop(columns=['x', 'y'])\n",
    "inpp['time'] = pd.to_datetime(inpp['time'])\n",
    "inpp['year'] = inpp['time'].dt.year\n",
    "inpp_yearly_sum = inpp.groupby(by=['year']).sum().reset_index()"
   ]
  },
  {
   "cell_type": "code",
   "execution_count": 35,
   "id": "38b92775",
   "metadata": {},
   "outputs": [
    {
     "name": "stderr",
     "output_type": "stream",
     "text": [
      "/tmp/ipykernel_12132/915252014.py:3: RuntimeWarning: Converting a CFTimeIndex with dates from a non-standard calendar, 'noleap', to a pandas.DatetimeIndex, which uses dates from the standard calendar.  This may lead to subtle errors in operations that depend on the length of time between dates.\n",
      "  vegc['time'] = vegc.indexes['time'].to_datetimeindex()\n"
     ]
    }
   ],
   "source": [
    "vegc_path = '/data/workflows/BONA-birch-fire-1930/output/VEGC_monthly_tr.nc'\n",
    "vegc = xr.open_dataset(vegc_path)\n",
    "vegc['time'] = vegc.indexes['time'].to_datetimeindex()\n",
    "vegc = vegc.to_dataframe().reset_index().drop(columns=['x', 'y'])\n",
    "vegc['time'] = pd.to_datetime(vegc['time'])\n",
    "vegc['year'] = vegc['time'].dt.year\n",
    "vegc_yearly = vegc.loc[vegc['pft']==4].groupby(by=['year', 'pftpart']).mean().reset_index()\n",
    "vegc_yearly_sum = vegc.groupby(by=['year', 'pftpart']).sum().reset_index().groupby(by=['year']).mean().reset_index()"
   ]
  },
  {
   "cell_type": "code",
   "execution_count": 36,
   "id": "a1154e34",
   "metadata": {},
   "outputs": [
    {
     "ename": "NameError",
     "evalue": "name 'npp_yearly' is not defined",
     "output_type": "error",
     "traceback": [
      "\u001b[0;31m---------------------------------------------------------------------------\u001b[0m",
      "\u001b[0;31mNameError\u001b[0m                                 Traceback (most recent call last)",
      "Input \u001b[0;32mIn [36]\u001b[0m, in \u001b[0;36m<cell line: 3>\u001b[0;34m()\u001b[0m\n\u001b[1;32m      1\u001b[0m \u001b[38;5;66;03m#black spruce\u001b[39;00m\n\u001b[1;32m      2\u001b[0m fig, axes \u001b[38;5;241m=\u001b[39m plt\u001b[38;5;241m.\u001b[39msubplots(\u001b[38;5;241m2\u001b[39m,\u001b[38;5;241m1\u001b[39m)\n\u001b[0;32m----> 3\u001b[0m sns\u001b[38;5;241m.\u001b[39mlineplot(data\u001b[38;5;241m=\u001b[39m\u001b[43mnpp_yearly\u001b[49m, x\u001b[38;5;241m=\u001b[39m\u001b[38;5;124m'\u001b[39m\u001b[38;5;124myear\u001b[39m\u001b[38;5;124m'\u001b[39m, y\u001b[38;5;241m=\u001b[39m\u001b[38;5;124m'\u001b[39m\u001b[38;5;124mNPP\u001b[39m\u001b[38;5;124m'\u001b[39m, hue\u001b[38;5;241m=\u001b[39m\u001b[38;5;124m'\u001b[39m\u001b[38;5;124mpftpart\u001b[39m\u001b[38;5;124m'\u001b[39m, ax\u001b[38;5;241m=\u001b[39maxes[\u001b[38;5;241m0\u001b[39m])\n\u001b[1;32m      4\u001b[0m sns\u001b[38;5;241m.\u001b[39mlineplot(data\u001b[38;5;241m=\u001b[39mvegc_yearly, x\u001b[38;5;241m=\u001b[39m\u001b[38;5;124m'\u001b[39m\u001b[38;5;124myear\u001b[39m\u001b[38;5;124m'\u001b[39m, y\u001b[38;5;241m=\u001b[39m\u001b[38;5;124m'\u001b[39m\u001b[38;5;124mVEGC\u001b[39m\u001b[38;5;124m'\u001b[39m, hue\u001b[38;5;241m=\u001b[39m\u001b[38;5;124m'\u001b[39m\u001b[38;5;124mpftpart\u001b[39m\u001b[38;5;124m'\u001b[39m, ax\u001b[38;5;241m=\u001b[39maxes[\u001b[38;5;241m1\u001b[39m])\n",
      "\u001b[0;31mNameError\u001b[0m: name 'npp_yearly' is not defined"
     ]
    },
    {
     "data": {
      "image/png": "[encoded data removed]",
      "text/plain": [
       "<Figure size 640x480 with 2 Axes>"
      ]
     },
     "metadata": {},
     "output_type": "display_data"
    }
   ],
   "source": [
    "#black spruce\n",
    "fig, axes = plt.subplots(2,1)\n",
    "sns.lineplot(data=npp_yearly, x='year', y='NPP', hue='pftpart', ax=axes[0])\n",
    "sns.lineplot(data=vegc_yearly, x='year', y='VEGC', hue='pftpart', ax=axes[1])"
   ]
  },
  {
   "cell_type": "code",
   "execution_count": null,
   "id": "9912595a",
   "metadata": {},
   "outputs": [],
   "source": [
    "#birch\n",
    "fig, axes = plt.subplots(2,1)\n",
    "sns.lineplot(data=npp_yearly, x='year', y='NPP', hue='pftpart', ax=axes[0])\n",
    "sns.lineplot(data=vegc_yearly, x='year', y='VEGC', hue='pftpart', ax=axes[1])"
   ]
  },
  {
   "cell_type": "code",
   "execution_count": 37,
   "id": "28d74fcc",
   "metadata": {},
   "outputs": [
    {
     "ename": "NameError",
     "evalue": "name 'npp_yearly_sum' is not defined",
     "output_type": "error",
     "traceback": [
      "\u001b[0;31m---------------------------------------------------------------------------\u001b[0m",
      "\u001b[0;31mNameError\u001b[0m                                 Traceback (most recent call last)",
      "Input \u001b[0;32mIn [37]\u001b[0m, in \u001b[0;36m<cell line: 2>\u001b[0;34m()\u001b[0m\n\u001b[1;32m      1\u001b[0m fig, axes \u001b[38;5;241m=\u001b[39m plt\u001b[38;5;241m.\u001b[39msubplots(\u001b[38;5;241m2\u001b[39m,\u001b[38;5;241m1\u001b[39m)\n\u001b[0;32m----> 2\u001b[0m sns\u001b[38;5;241m.\u001b[39mlineplot(data\u001b[38;5;241m=\u001b[39m\u001b[43mnpp_yearly_sum\u001b[49m, x\u001b[38;5;241m=\u001b[39m\u001b[38;5;124m'\u001b[39m\u001b[38;5;124myear\u001b[39m\u001b[38;5;124m'\u001b[39m, y\u001b[38;5;241m=\u001b[39m\u001b[38;5;124m'\u001b[39m\u001b[38;5;124mNPP\u001b[39m\u001b[38;5;124m'\u001b[39m, ax\u001b[38;5;241m=\u001b[39maxes[\u001b[38;5;241m0\u001b[39m], label\u001b[38;5;241m=\u001b[39m\u001b[38;5;124m'\u001b[39m\u001b[38;5;124mNPP\u001b[39m\u001b[38;5;124m'\u001b[39m)\n\u001b[1;32m      3\u001b[0m sns\u001b[38;5;241m.\u001b[39mlineplot(data\u001b[38;5;241m=\u001b[39minpp_yearly_sum, x\u001b[38;5;241m=\u001b[39m\u001b[38;5;124m'\u001b[39m\u001b[38;5;124myear\u001b[39m\u001b[38;5;124m'\u001b[39m, y\u001b[38;5;241m=\u001b[39m\u001b[38;5;124m'\u001b[39m\u001b[38;5;124mINNPP\u001b[39m\u001b[38;5;124m'\u001b[39m, ax\u001b[38;5;241m=\u001b[39maxes[\u001b[38;5;241m0\u001b[39m], label\u001b[38;5;241m=\u001b[39m\u001b[38;5;124m'\u001b[39m\u001b[38;5;124mINPP\u001b[39m\u001b[38;5;124m'\u001b[39m)\n",
      "\u001b[0;31mNameError\u001b[0m: name 'npp_yearly_sum' is not defined"
     ]
    },
    {
     "data": {
      "image/png": "[encoded data removed]",
      "text/plain": [
       "<Figure size 640x480 with 2 Axes>"
      ]
     },
     "metadata": {},
     "output_type": "display_data"
    }
   ],
   "source": [
    "fig, axes = plt.subplots(2,1)\n",
    "sns.lineplot(data=npp_yearly_sum, x='year', y='NPP', ax=axes[0], label='NPP')\n",
    "sns.lineplot(data=inpp_yearly_sum, x='year', y='INNPP', ax=axes[0], label='INPP')\n"
   ]
  },
  {
   "cell_type": "code",
   "execution_count": 38,
   "id": "37e86ae5",
   "metadata": {},
   "outputs": [
    {
     "data": {
      "text/plain": [
       "<AxesSubplot:xlabel='year', ylabel='DWDC'>"
      ]
     },
     "execution_count": 38,
     "metadata": {},
     "output_type": "execute_result"
    },
    {
     "data": {
      "image/png": "[encoded data removed]",
      "text/plain": [
       "<Figure size 640x480 with 2 Axes>"
      ]
     },
     "metadata": {},
     "output_type": "display_data"
    }
   ],
   "source": [
    "fig, axes = plt.subplots(2,1)\n",
    "sns.lineplot(data=deadc, x='year', y='DEADC', ax=axes[0], label='DEADC')\n",
    "sns.lineplot(data=dwdc, x='year', y='DWDC', ax=axes[1], label='DWDC')"
   ]
  },
  {
   "cell_type": "code",
   "execution_count": null,
   "id": "1e21cba1",
   "metadata": {},
   "outputs": [],
   "source": []
  },
  {
   "cell_type": "code",
   "execution_count": null,
   "id": "ccfd5270",
   "metadata": {},
   "outputs": [],
   "source": []
  },
  {
   "cell_type": "code",
   "execution_count": null,
   "id": "203afb80",
   "metadata": {},
   "outputs": [],
   "source": []
  }
 ],
 "metadata": {
  "kernelspec": {
   "display_name": "Python 3 (ipykernel)",
   "language": "python",
   "name": "python3"
  },
  "language_info": {
   "codemirror_mode": {
    "name": "ipython",
    "version": 3
   },
   "file_extension": ".py",
   "mimetype": "text/x-python",
   "name": "python",
   "nbconvert_exporter": "python",
   "pygments_lexer": "ipython3",
   "version": "3.8.6"
  }
 },
 "nbformat": 4,
 "nbformat_minor": 5
}
